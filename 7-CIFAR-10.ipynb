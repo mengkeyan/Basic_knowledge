{
 "cells": [
  {
   "cell_type": "markdown",
   "metadata": {},
   "source": [
    "![](https://img.kaikeba.com/70350130700202jusm.png)"
   ]
  },
  {
   "cell_type": "markdown",
   "metadata": {},
   "source": [
    "# AI核心课作业3-1-实现一个三层神经网络"
   ]
  },
  {
   "cell_type": "markdown",
   "metadata": {},
   "source": [
    "## 准备工作\n",
    "导入本次项目要用到的库：<br>"
   ]
  },
  {
   "cell_type": "code",
   "execution_count": 1,
   "metadata": {},
   "outputs": [],
   "source": [
    "# 基础运算库\n",
    "import numpy as np\n",
    "# 深度学习库\n",
    "import torch\n",
    "import torch.nn as nn\n",
    "import torch.optim as optim\n",
    "import torchvision\n",
    "import torch.nn.functional as F\n",
    "import torchvision.transforms as transforms\n",
    "# 辅助绘图库\n",
    "import matplotlib.pyplot as plt\n",
    "# 时间操作库\n",
    "import time\n",
    "# 进度条控制库\n",
    "from tqdm import tqdm"
   ]
  },
  {
   "cell_type": "markdown",
   "metadata": {},
   "source": [
    "# 项目1：简单神经网络的前向传播\n",
    "\n",
    "## 问题1：定义初始参数及激活函数（15分）\n",
    "\n",
    "&emsp;&emsp;你需要使用numpy实现神经网络的前向传播过程，并算出输出层的最终输出结果。<br>\n",
    "**为了完成上述任务我们需要进行如下假设：**<br>\n",
    "1. 输入的值为\\[3,5\\]<br>\n",
    "1. 隐藏层h1的两个权重为\\[2,4\\]、\\[4,-5\\]<br>\n",
    "1. 隐藏层h2的两个权重为\\[-1,1\\]、\\[2,2\\]<br>\n",
    "1. 输出层的权重为\\[-3,7\\]<br>\n",
    "1. 所有层不使用偏置<br>\n",
    "1. 所有隐藏层需添加tanh激活函数<br>\n",
    "\n",
    "<font color=red>请定义一个numpy数组，内容为神经网络的输入数据</font><br>"
   ]
  },
  {
   "cell_type": "code",
   "execution_count": 29,
   "metadata": {},
   "outputs": [],
   "source": [
    "######## your code ########  \n",
    "X = np.array([3, 5])\n",
    "######## your code ########"
   ]
  },
  {
   "cell_type": "markdown",
   "metadata": {},
   "source": [
    "<font color=red>请定义一个numpy数组，内容为神经网络的隐藏层及输出层权重</font><br>\n",
    "Tips：权重字典已经建好，你只需要按照隐藏层名称填入对应的值即可。"
   ]
  },
  {
   "cell_type": "code",
   "execution_count": 30,
   "metadata": {},
   "outputs": [],
   "source": [
    "######## your code ########\n",
    "weights = {'h11': np.array([2, 4]),\n",
    "           'h12': np.array([4, -5]),\n",
    "           'h21': np.array([-1, 1]),\n",
    "           'h22': np.array([2, 2]),\n",
    "           'out': np.array([-3, 7])}\n",
    "######## your code ########"
   ]
  },
  {
   "cell_type": "markdown",
   "metadata": {},
   "source": [
    "<font color=red>请完善tanh激活函数</font><br>"
   ]
  },
  {
   "cell_type": "code",
   "execution_count": 31,
   "metadata": {},
   "outputs": [],
   "source": [
    "######## your code ########\n",
    "def tanh(x):\n",
    "    return (np.exp(x) - np.exp(-x))/(np.exp(x) + np.exp(-x))\n",
    "######## your code ########"
   ]
  },
  {
   "cell_type": "markdown",
   "metadata": {},
   "source": [
    "## 问题2：逐层计算神经网络输出（30分）\n",
    "\n",
    "&emsp;&emsp;在神经网络的计算中，需要先将需计算层的权重与其输入数据相乘，而后求和，继而通过激活函数的运算，就可以输出到下一层了。<br>\n",
    "**下面我们将以层为单位，进行运算：**<br>\n",
    "1. 首先是第一个隐藏层，你需要将输入层的数据与隐藏层的权重相乘、求和、并输入到激活函数中。<br>\n",
    "\n",
    "<font color=red>补全下列代码，将输入层的数据与第一隐藏层的权重相乘、求和、并输入到激活函数中。</font><br>"
   ]
  },
  {
   "cell_type": "code",
   "execution_count": 43,
   "metadata": {},
   "outputs": [],
   "source": [
    "######## your code ########\n",
    "hidden_11_value = tanh((X * weights['h11']).sum())\n",
    "hidden_12_value = tanh((X * weights['h12']).sum())\n",
    "######## your code ########\n",
    "\n",
    "hidden_1_output = np.array([hidden_11_value, hidden_12_value])"
   ]
  },
  {
   "cell_type": "markdown",
   "metadata": {},
   "source": [
    "2. 接下来是第二个隐藏层，这一层的操作与上一层完全相同。<br>\n",
    "\n",
    "<font color=red>请补全下列代码，将上层输出的数据与第二隐藏层的权重相乘、求和、并输入到激活函数中。</font><br>"
   ]
  },
  {
   "cell_type": "code",
   "execution_count": 44,
   "metadata": {},
   "outputs": [],
   "source": [
    "######## your code ########\n",
    "hidden_21_value = tanh((hidden_1_output * weights['h21']).sum())\n",
    "hidden_22_value = tanh((hidden_1_output * weights['h22']).sum())\n",
    "######## your code ########\n",
    "\n",
    "hidden_2_output = np.array([hidden_21_value, hidden_22_value])"
   ]
  },
  {
   "cell_type": "markdown",
   "metadata": {},
   "source": [
    "3. 最后是输出层，此时只有一个节点需要运算，且无需添加激活函数。<br>\n",
    "\n",
    "<font color=red>请补全下列代码，将上层输出的数据与输出层的权重相乘、求和。</font><br>"
   ]
  },
  {
   "cell_type": "code",
   "execution_count": 45,
   "metadata": {},
   "outputs": [],
   "source": [
    "######## your code ########\n",
    "output = ((hidden_2_output * weights['out']).sum())\n",
    "######## your code ########"
   ]
  },
  {
   "cell_type": "markdown",
   "metadata": {},
   "source": [
    "4. 至此，你已经完成了全部运算，下面将这几层的输出打印出来看看吧。<br>\n",
    "*注：output应为9.887385002294863*<br>"
   ]
  },
  {
   "cell_type": "code",
   "execution_count": 46,
   "metadata": {},
   "outputs": [
    {
     "name": "stdout",
     "output_type": "stream",
     "text": [
      "2.8920827403683393\n"
     ]
    }
   ],
   "source": [
    "print(output)"
   ]
  },
  {
   "cell_type": "markdown",
   "metadata": {},
   "source": [
    "# 项目2：CIFAR-10图像分类\n",
    "\n",
    "## 前置准备\n",
    "\n",
    "&emsp;&emsp;本项目使用的数据集可以从torchvision库中直接导出，下面是一些基础数据操作（数据下载可能需要几分钟，请耐心等待）。<br>"
   ]
  },
  {
   "cell_type": "code",
   "execution_count": 2,
   "metadata": {},
   "outputs": [
    {
     "name": "stdout",
     "output_type": "stream",
     "text": [
      "Files already downloaded and verified\n",
      "Files already downloaded and verified\n"
     ]
    }
   ],
   "source": [
    "##定义对图像的各种变换操作，包括把array转换为tensor，对图像做正则化\n",
    "#transforms.Compose主要是用于常见的一些图形变换，例如裁剪、旋转\n",
    "#遍历list数组，对img依次执行每个transforms操作\n",
    "transform = transforms.Compose([transforms.ToTensor(),\n",
    "                                transforms.Normalize((0.4914, 0.48216, 0.44653),\n",
    "                                                     (0.24703, 0.24349, 0.26159))])\n",
    "#导出torchvision里的CIFAR10数据集，root是把数据下载之后存放的目录，train控制是不是在训练阶段，download控制是不是需要下载，transform把一系列的图像变换传入进来。\n",
    "trainset = torchvision.datasets.CIFAR10(root='/data/course_data/AI/AI_homework_6/',\n",
    "                                        train=True, \n",
    "                                        download=True, \n",
    "                                        transform=transform)\n",
    "testset = torchvision.datasets.CIFAR10(root='/data/course_data/AI/AI_homework_6/',\n",
    "                                       train=False, \n",
    "                                       download=True, \n",
    "                                       transform=transform)\n",
    "#用来把训练数据分成多个小组，此函数每次抛出一组数据。\n",
    "trainloader = torch.utils.data.DataLoader(trainset, \n",
    "                                          batch_size=16,\n",
    "                                          shuffle=True)\n",
    "#用来把测试数据分成多个小组，此函数每次抛出一组数据。\n",
    "testloader = torch.utils.data.DataLoader(testset, \n",
    "                                         batch_size=16, \n",
    "                                         shuffle=False)"
   ]
  },
  {
   "cell_type": "markdown",
   "metadata": {},
   "source": [
    "&emsp;&emsp;数据下载完成后，我们就可以简单查看数据label，看看是否和练习说明中的数据集介绍对的上。<br>"
   ]
  },
  {
   "cell_type": "code",
   "execution_count": 3,
   "metadata": {},
   "outputs": [
    {
     "data": {
      "text/plain": [
       "['airplane',\n",
       " 'automobile',\n",
       " 'bird',\n",
       " 'cat',\n",
       " 'deer',\n",
       " 'dog',\n",
       " 'frog',\n",
       " 'horse',\n",
       " 'ship',\n",
       " 'truck']"
      ]
     },
     "execution_count": 3,
     "metadata": {},
     "output_type": "execute_result"
    }
   ],
   "source": [
    "trainset.classes"
   ]
  },
  {
   "cell_type": "markdown",
   "metadata": {},
   "source": [
    "&emsp;&emsp;下面我们再来检查一下数据图像。<br>"
   ]
  },
  {
   "cell_type": "code",
   "execution_count": 4,
   "metadata": {},
   "outputs": [
    {
     "data": {
      "image/png": "[encoded data removed]",
      "text/plain": [
       "<Figure size 2160x2160 with 1 Axes>"
      ]
     },
     "metadata": {
      "needs_background": "light"
     },
     "output_type": "display_data"
    }
   ],
   "source": [
    "#把图片进行可视化展示\n",
    "#定义画图的函数\n",
    "def imshow(inp, title=None):\n",
    "    \"\"\"Imshow for Tensor.\"\"\"\n",
    "    #定义画图的画布\n",
    "    fig = plt.figure(figsize=(30, 30))\n",
    "    #转换图片的纬度\n",
    "    inp = inp.numpy().transpose((1, 2, 0))\n",
    "    mean = np.array([0.485, 0.456, 0.406])\n",
    "    std = np.array([0.229, 0.224, 0.225])\n",
    "    #对图片进行标准化\n",
    "    inp = std * inp + mean\n",
    "    #整个图片数组的值限制在指定值a_min,与a_max之间\n",
    "    inp = np.clip(inp, 0, 1)\n",
    "    #对图片进行可视化展示\n",
    "    plt.imshow(inp, )\n",
    "\n",
    "# 获取一个batch的数据\n",
    "inputs, classes = next(iter(trainloader))\n",
    "\n",
    "# 以网格的格式展示，作用是将若干幅图像拼成一幅图像\n",
    "out = torchvision.utils.make_grid(inputs)\n",
    "# plt.imshow()就可显示图片同时也显示其格式。\n",
    "imshow(out, title=[trainset.classes[x] for x in classes])"
   ]
  },
  {
   "cell_type": "markdown",
   "metadata": {},
   "source": [
    "## 问题1：搭建简单神经网络（20分）\n",
    "&emsp;&emsp;数据准备就绪后，就需要你来搭建一个简单神经网络。<br>\n",
    "&emsp;&emsp;<font color=red>请补全下列代码，定义一个3层全连接神经网络，输入维度是32*32*3，第一层输出维度是1000，第二层输出维度是500，第三层输出维度是10。</font><br>"
   ]
  },
  {
   "cell_type": "code",
   "execution_count": 5,
   "metadata": {},
   "outputs": [],
   "source": [
    "class Net(nn.Module):\n",
    "    def __init__(self):\n",
    "        super(Net, self).__init__()\n",
    "        \n",
    "        ######## your code ########\n",
    "        self.fc1 = nn.Linear(3072 ,1000 )\n",
    "        self.fc2 = nn.Linear(1000 , 500)\n",
    "        self.fc3 = nn.Linear(500 , 10)\n",
    "        ######## your code ########\n",
    "        \n",
    "    def forward(self, x):\n",
    "        x = F.relu(self.fc1(x))\n",
    "        x = F.relu(self.fc2(x))\n",
    "        return self.fc3(x)\n",
    "#实例话神经网络的类\n",
    "net = Net()"
   ]
  },
  {
   "cell_type": "markdown",
   "metadata": {},
   "source": [
    "&emsp;&emsp;在定义好模型结构之后，还需确定损失函数及优化器。<br>"
   ]
  },
  {
   "cell_type": "code",
   "execution_count": 6,
   "metadata": {},
   "outputs": [],
   "source": [
    "# 定义损失函数-交叉熵\n",
    "criterion = nn.CrossEntropyLoss()\n",
    "# 定义优化器，将神经网络的参数都传入优化器，并定义学习率\n",
    "optimizer = optim.Adam(net.parameters(), lr=3e-4)"
   ]
  },
  {
   "cell_type": "markdown",
   "metadata": {},
   "source": [
    "## 问题2：神经网络的训练（25分）\n",
    "\n",
    "&emsp;&emsp;模型主要内容都已完成，下面就可以进行训练了。在模型训练过程中，一般遵循如下步骤：<br>\n",
    "1. 大for循环-epochs，用于管理一套数据循环训练几遍<br>\n",
    "1. 小for循环-step，用于以batchsize为单位，从dataloader中调取数据<br>\n",
    "1. 清空优化器的梯度<br>\n",
    "1. 读入data和label，并进行形状变换（可做可不做）<br>\n",
    "1. 运行模型前向传播过程<br>\n",
    "1. 基于模型输出生成最终结果<br>\n",
    "1. 计算损失<br>\n",
    "1. 基于损失计算梯度<br>\n",
    "1. 基于梯度更新参数<br>\n",
    "\n",
    "&emsp;&emsp;<font color=red>请补全代码，训练模型。（相关代码已经提供在练习指导中，你需要根据模型训练步骤，将代码段逐一填入下列代码中）*</font><br>"
   ]
  },
  {
   "cell_type": "code",
   "execution_count": 7,
   "metadata": {},
   "outputs": [
    {
     "name": "stderr",
     "output_type": "stream",
     "text": [
      "  0%|          | 6/3125 [00:00<01:24, 37.00it/s]"
     ]
    },
    {
     "name": "stdout",
     "output_type": "stream",
     "text": [
      "Epoch 1/10\n"
     ]
    },
    {
     "name": "stderr",
     "output_type": "stream",
     "text": [
      "100%|██████████| 3125/3125 [01:52<00:00, 27.76it/s]\n",
      "  0%|          | 3/3125 [00:00<02:05, 24.91it/s]"
     ]
    },
    {
     "name": "stdout",
     "output_type": "stream",
     "text": [
      "train Loss: 1.6351 Acc: 0.4192\n",
      "----------\n",
      "Epoch 2/10\n"
     ]
    },
    {
     "name": "stderr",
     "output_type": "stream",
     "text": [
      "100%|██████████| 3125/3125 [01:55<00:00, 27.10it/s]\n",
      "  0%|          | 3/3125 [00:00<02:48, 18.50it/s]"
     ]
    },
    {
     "name": "stdout",
     "output_type": "stream",
     "text": [
      "train Loss: 1.4254 Acc: 0.4980\n",
      "----------\n",
      "Epoch 3/10\n"
     ]
    },
    {
     "name": "stderr",
     "output_type": "stream",
     "text": [
      "100%|██████████| 3125/3125 [01:59<00:00, 26.22it/s]\n",
      "  0%|          | 3/3125 [00:00<01:46, 29.27it/s]"
     ]
    },
    {
     "name": "stdout",
     "output_type": "stream",
     "text": [
      "train Loss: 1.3075 Acc: 0.5381\n",
      "----------\n",
      "Epoch 4/10\n"
     ]
    },
    {
     "name": "stderr",
     "output_type": "stream",
     "text": [
      "100%|██████████| 3125/3125 [01:57<00:00, 26.68it/s]\n",
      "  0%|          | 3/3125 [00:00<02:49, 18.42it/s]"
     ]
    },
    {
     "name": "stdout",
     "output_type": "stream",
     "text": [
      "train Loss: 1.2067 Acc: 0.5704\n",
      "----------\n",
      "Epoch 5/10\n"
     ]
    },
    {
     "name": "stderr",
     "output_type": "stream",
     "text": [
      "100%|██████████| 3125/3125 [01:56<00:00, 26.81it/s]\n",
      "  0%|          | 4/3125 [00:00<01:28, 35.46it/s]"
     ]
    },
    {
     "name": "stdout",
     "output_type": "stream",
     "text": [
      "train Loss: 1.1125 Acc: 0.6063\n",
      "----------\n",
      "Epoch 6/10\n"
     ]
    },
    {
     "name": "stderr",
     "output_type": "stream",
     "text": [
      "100%|██████████| 3125/3125 [01:57<00:00, 26.55it/s]\n",
      "  0%|          | 3/3125 [00:00<01:59, 26.16it/s]"
     ]
    },
    {
     "name": "stdout",
     "output_type": "stream",
     "text": [
      "train Loss: 1.0241 Acc: 0.6353\n",
      "----------\n",
      "Epoch 7/10\n"
     ]
    },
    {
     "name": "stderr",
     "output_type": "stream",
     "text": [
      "100%|██████████| 3125/3125 [01:55<00:00, 27.01it/s]\n",
      "  0%|          | 4/3125 [00:00<01:31, 34.16it/s]"
     ]
    },
    {
     "name": "stdout",
     "output_type": "stream",
     "text": [
      "train Loss: 0.9336 Acc: 0.6667\n",
      "----------\n",
      "Epoch 8/10\n"
     ]
    },
    {
     "name": "stderr",
     "output_type": "stream",
     "text": [
      "100%|██████████| 3125/3125 [01:51<00:00, 27.97it/s]\n",
      "  0%|          | 4/3125 [00:00<02:02, 25.44it/s]"
     ]
    },
    {
     "name": "stdout",
     "output_type": "stream",
     "text": [
      "train Loss: 0.8448 Acc: 0.6992\n",
      "----------\n",
      "Epoch 9/10\n"
     ]
    },
    {
     "name": "stderr",
     "output_type": "stream",
     "text": [
      "100%|██████████| 3125/3125 [01:52<00:00, 27.81it/s]\n",
      "  0%|          | 3/3125 [00:00<02:03, 25.29it/s]"
     ]
    },
    {
     "name": "stdout",
     "output_type": "stream",
     "text": [
      "train Loss: 0.7768 Acc: 0.7242\n",
      "----------\n",
      "Epoch 10/10\n"
     ]
    },
    {
     "name": "stderr",
     "output_type": "stream",
     "text": [
      "100%|██████████| 3125/3125 [01:57<00:00, 26.67it/s]"
     ]
    },
    {
     "name": "stdout",
     "output_type": "stream",
     "text": [
      "train Loss: 0.7013 Acc: 0.7527\n",
      "----------\n",
      "Training complete in 19m 15s\n"
     ]
    },
    {
     "name": "stderr",
     "output_type": "stream",
     "text": [
      "\n"
     ]
    }
   ],
   "source": [
    "num_epochs = 10\n",
    "since = time.time()\n",
    "net.train()\n",
    "for epoch in range(num_epochs):\n",
    "    print('Epoch {}/{}'.format(epoch + 1, num_epochs))\n",
    "    \n",
    "    running_loss = 0.0\n",
    "    running_corrects = 0\n",
    "    # 从trainloader里循环取出每一批次数据，\n",
    "    for data in tqdm(trainloader):\n",
    "\n",
    "        ######## your code ########\n",
    "        optimizer.zero_grad() # 用于清空优化器梯度\n",
    "        inputs, labels = data # 用于读入data和label\n",
    "        inputs = inputs.view(-1, 32 * 32 * 3) # 用于对输入进行形状变换\n",
    "        outputs = net(inputs) # 用于模型前向传播\n",
    "        _, preds = torch.max(outputs, 1) # 用于生成最终输出结果\n",
    "        loss = criterion(outputs, labels) # 用于计算损失\n",
    "        loss.backward() # 用于计算梯度\n",
    "        optimizer.step() # 用于参数更新\n",
    "        ######## your code ########\n",
    "\n",
    "        # 一个批次数据的损失函数的计算\n",
    "        running_loss += loss.item() * inputs.size(0)\n",
    "        # 一个批次数据准确率的计算\n",
    "        running_corrects += torch.sum(preds == labels.data)\n",
    "    \n",
    "    epoch_loss = running_loss / trainloader.dataset.data.shape[0]\n",
    "    epoch_acc = running_corrects.double() / trainloader.dataset.data.shape[0]\n",
    "    \n",
    "    print('train Loss: {:.4f} Acc: {:.4f}'.format(\n",
    "        epoch_loss, epoch_acc))\n",
    "    print('-' * 10)\n",
    "    \n",
    "time_elapsed = time.time() - since\n",
    "print('Training complete in {:.0f}m {:.0f}s'.format(\n",
    "    time_elapsed // 60, time_elapsed % 60))"
   ]
  },
  {
   "cell_type": "markdown",
   "metadata": {},
   "source": [
    "## 问题3：模型测评（10分）\n",
    "\n",
    "&emsp;&emsp;完成模型训练后，还需对模型进行测评，验证模型在测试集上的精度。<br>\n",
    "Tips：在模型训练日志中，也有打印精确度acc，但这是模型在训练集上的精度，而不是测试集上的精度哦。你可以观察观察训练集精度与测试集精度，看看有没有什么差异。<br>\n",
    "&emsp;&emsp;<font color=red>请补全下列代码，完成模型测评</font><br>"
   ]
  },
  {
   "cell_type": "code",
   "execution_count": 8,
   "metadata": {},
   "outputs": [
    {
     "name": "stderr",
     "output_type": "stream",
     "text": [
      "100%|██████████| 625/625 [00:07<00:00, 85.63it/s] "
     ]
    },
    {
     "name": "stdout",
     "output_type": "stream",
     "text": [
      "The testing set accuracy of the network is: 53 %\n"
     ]
    },
    {
     "name": "stderr",
     "output_type": "stream",
     "text": [
      "\n"
     ]
    }
   ],
   "source": [
    "# TODO： 补全下列代码，完成模型测评\n",
    "correct, total = 0, 0\n",
    "net.eval()\n",
    "for data in tqdm(testloader):\n",
    "    \n",
    "    ######## your code ########\n",
    "    inputs, labels = data\n",
    "    inputs = inputs.view(-1, 32 * 32 * 3)\n",
    "    outputs = net(inputs)\n",
    "    ######## your code ########\n",
    "    \n",
    "    _, predicted = torch.max(outputs, 1) \n",
    "    total += labels.size(0)\n",
    "    correct += (predicted == labels).sum().item()\n",
    "print('The testing set accuracy of the network is: %d %%' % (100 * correct / total))"
   ]
  },
  {
   "cell_type": "code",
   "execution_count": null,
   "metadata": {},
   "outputs": [],
   "source": []
  }
 ],
 "metadata": {
  "kernelspec": {
   "display_name": "Python 3",
   "language": "python",
   "name": "python3"
  },
  "language_info": {
   "codemirror_mode": {
    "name": "ipython",
    "version": 3
   },
   "file_extension": ".py",
   "mimetype": "text/x-python",
   "name": "python",
   "nbconvert_exporter": "python",
   "pygments_lexer": "ipython3",
   "version": "3.7.6"
  }
 },
 "nbformat": 4,
 "nbformat_minor": 2
}
