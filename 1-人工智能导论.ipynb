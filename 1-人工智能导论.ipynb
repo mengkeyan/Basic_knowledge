{
 "cells": [
  {
   "cell_type": "markdown",
   "metadata": {},
   "source": [
    "## 1.课堂笔记\n",
    "## 从方法论上来讲\n",
    "#### >> Statistical 统计学派\n",
    "#### >> Logic Analysis 逻辑学派\n",
    "## 从问题范式上来讲\n",
    "#### >> Relax based model 轻松，可以一眼看出来解决方案\n",
    "#### >> State based model 状态，不能一眼看出解决方案\n",
    "#### >> Optimization model 优化，找最优解\n",
    "#### >> Logic model 逻辑，进展最慢的领域，可以获得重大突破领域"
   ]
  },
  {
   "cell_type": "markdown",
   "metadata": {},
   "source": [
    "## 2.课后作业\n",
    "## 人工智能、机器学习和深度学习之间有什么关系和异同？ \n",
    "#### 人工智能是一个很老的概念，机器学习是人工智能的一个子集，深度学习又是机器学习的一个子集。\n",
    "#### 深度学习是机器学习中基于神经网络的分支，机器学习是人工智能的一种实现方法\n",
    "#### 机器学习与深度学习都是需要大量数据来“喂”的，是大数据技术上的一个应用，同时深度学习还需要更高的运算能力支撑，如GPU。\n",
    "## 人工智能和数学、算法与数据结构有什么关系？\n",
    "#### >>人工智能和数学：\n",
    "#### 1.数学是人工智能的基础\n",
    "#### 2.人工智能利用数学工具实现其功能\n",
    "#### >>算法与数据结构：\n",
    "#### 1.数据结构是底层，算法高层；\n",
    "#### 2.数据结构为算法提供服务；\n",
    "#### 3.算法围绕数据结构操作；\n",
    "#### 程序=算法+数据结构\n",
    "## 你能给出5个人工智能实例，这些实例是使用了那种方法论、范式吗？ \n",
    "#### 人工智能实例    方法论    问题范式\n",
    "#### 无人驾驶       Statistical State \n",
    "#### 人脸识别       Statistical Relax\n",
    "#### siri          Statistical Relax\n",
    "#### 推荐系统       Statistical State\n",
    "#### AlphaGo       Statistical State\n",
    "## （选做）你能复现出我们课堂上的3个代码实例吗？"
   ]
  },
  {
   "cell_type": "code",
   "execution_count": 1,
   "metadata": {},
   "outputs": [
    {
     "name": "stdout",
     "output_type": "stream",
     "text": [
      "我玩桃子\n"
     ]
    }
   ],
   "source": [
    "import random \n",
    "\n",
    "#rules = \"\"\"\n",
    "#复合句子 = 句子 , 连词 句子\n",
    "#连词 = 而且 | 但是 | 不过\n",
    "#句子 = 主语 谓语 宾语\n",
    "#主语 = 你| 我 | 他 \n",
    "#谓语 = 吃| 玩 \n",
    "#宾语 = 桃子| 皮球\n",
    "#    \n",
    "#\"\"\"\n",
    "\n",
    "rules = \"\"\"\n",
    "复合句子 = 句子 , 连词 复合句子 | 句子\n",
    "连词 = 而且 | 但是 | 不过\n",
    "句子 = 主语 谓语 宾语\n",
    "主语 = 你| 我 | 他 \n",
    "谓语 = 吃| 玩 \n",
    "宾语 = 桃子| 皮球\n",
    "    \n",
    "\"\"\"\n",
    "\n",
    "#定义空字典\n",
    "grammer = {}\n",
    "\n",
    "for r in rules.split('\\n'):\n",
    "    #str.strip() 默认把字符串str头尾两侧的空格,\\n,\\t之类的删掉,\\n换行符,\\t制表符Tab键\n",
    "    #continue 跳过本次循环，继续下一次\n",
    "    if r.strip() == '':continue\n",
    "    \n",
    "    #等号左右两端拆分出两个字符串：target,expand\n",
    "    #str.split('=') 按照指定字符=进行分割，分割成列表\n",
    "    target,expand = r.split('=')\n",
    "    \n",
    "    #字典中添加元素，target.strip()为key,[e.strip() for e in expand.split('|')]为value\n",
    "    #expand.split('|')生成等号右边以|切分开的list\n",
    "    grammer[target.strip()] = [e.strip() for e in expand.split('|')]\n",
    "\n",
    "def generate(grammer,target='句子'):\n",
    "    #判断输入的target是否在grammer的key中，如果存在，执行后边语句，否则直接返回target，不再执行后边语句\n",
    "    if target not in grammer: return target\n",
    "    \n",
    "    #''.join()：连接字符串数组。将字符串、元组、列表中的元素以指定的字符(分隔符)连接生成一个新的字符串\n",
    "    #>>> seq1 = ['hello','good','boy','doiido']    >>> print ':'.join(seq1)    hello:good:boy:doiido\n",
    "    #random.choice(grammer[target])返回一个列表，元组或字符串的随机项,返回随机项数据类型为str,返回值为：主语 谓语 宾语\n",
    "    #random.choice(grammer[target]).split()返回一个列表：['主语', '谓语', '宾语']\n",
    "    #然后递归调用generate函数，返回拼接后的语句\n",
    "    return ''.join([generate(grammer,t) for t in random.choice(grammer[target]).split()]) \n",
    "   \n",
    "print(generate(grammer,target='句子'))"
   ]
  }
 ],
 "metadata": {
  "kernelspec": {
   "display_name": "Python 3",
   "language": "python",
   "name": "python3"
  },
  "language_info": {
   "codemirror_mode": {
    "name": "ipython",
    "version": 3
   },
   "file_extension": ".py",
   "mimetype": "text/x-python",
   "name": "python",
   "nbconvert_exporter": "python",
   "pygments_lexer": "ipython3",
   "version": "3.7.6"
  }
 },
 "nbformat": 4,
 "nbformat_minor": 4
}
