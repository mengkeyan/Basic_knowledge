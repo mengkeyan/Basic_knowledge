{
  "nbformat": 4,
  "nbformat_minor": 0,
  "metadata": {
    "colab": {
      "name": "SVD.ipynb",
      "provenance": [],
      "authorship_tag": "ABX9TyNusFu4enJhEaEVwJ+D3qC8",
      "include_colab_link": true
    },
    "kernelspec": {
      "name": "python3",
      "display_name": "Python 3"
    },
    "language_info": {
      "name": "python"
    },
    "accelerator": "GPU"
  },
  "cells": [
    {
      "cell_type": "markdown",
      "metadata": {
        "id": "view-in-github",
        "colab_type": "text"
      },
      "source": [
        "<a href=\"https://colab.research.google.com/github/mengkeyan/Basic_knowledge/blob/main/SVD.ipynb\" target=\"_parent\"><img src=\"https://colab.research.google.com/assets/colab-badge.svg\" alt=\"Open In Colab\"/></a>"
      ]
    },
    {
      "cell_type": "code",
      "metadata": {
        "colab": {
          "base_uri": "https://localhost:8080/"
        },
        "id": "hNujFa24Z7X3",
        "outputId": "fe19529e-13aa-4fcb-c0e0-8db94d40cb45"
      },
      "source": [
        "!git clone https://github.com/mengkeyan/Colab.git"
      ],
      "execution_count": 1,
      "outputs": [
        {
          "output_type": "stream",
          "text": [
            "Cloning into 'Colab'...\n",
            "remote: Enumerating objects: 3, done.\u001b[K\n",
            "remote: Counting objects: 100% (3/3), done.\u001b[K\n",
            "remote: Compressing objects: 100% (2/2), done.\u001b[K\n",
            "remote: Total 3 (delta 0), reused 0 (delta 0), pack-reused 0\u001b[K\n",
            "Unpacking objects: 100% (3/3), done.\n"
          ],
          "name": "stdout"
        }
      ]
    },
    {
      "cell_type": "code",
      "metadata": {
        "id": "KUjlihU7WUPu",
        "colab": {
          "base_uri": "https://localhost:8080/"
        },
        "outputId": "b7dcc1f7-9aba-4b8c-b713-db629393949e"
      },
      "source": [
        "!pip install surprise\n",
        "from surprise import SVD\n",
        "from surprise import Dataset\n",
        "from surprise.model_selection import cross_validate\n",
        "from surprise import Reader\n",
        "from surprise import accuracy\n",
        "from surprise.model_selection import KFold\n",
        "import pandas as pd\n",
        "import time\n",
        "\n",
        "\"\"\"\n",
        "from google.colab import drive\n",
        "drive.mount('/content/drive')\n",
        "import os\n",
        "os.chdir(\"/content/drive/My Drive/Colab Notebooks/\")\n",
        "\"\"\"\n",
        "time1=time.time()\n",
        "\n",
        "# 数据读取\n",
        "reader = Reader(line_format='user item rating timestamp', sep=',', skip_lines=1)\n",
        "data = Dataset.load_from_file('./Colab/ratings.csv', reader=reader)\n",
        "train_set = data.build_full_trainset()\n",
        "\n",
        "# 使用funkSVD\n",
        "algo = SVD(biased=False)\n",
        "\n",
        "uid = str(196)\n",
        "iid = str(302)\n",
        "result = []\n",
        "\n",
        "# 定义K折交叉验证迭代器，K=3\n",
        "K = 3\n",
        "kf = KFold(n_splits=K)\n",
        "for trainset, testset in kf.split(data):\n",
        "    # 训练并预测\n",
        "    algo.fit(trainset)\n",
        "    predictions = algo.test(testset)\n",
        "    # 计算RMSE\n",
        "    accuracy.rmse(predictions, verbose=True)\n",
        "    # 输出uid对iid的预测结果\n",
        "    pred = algo.predict(uid, iid, r_ui=4, verbose=True)\n",
        "    result.append(pred.est)\n",
        "\n",
        "# 最终结果 = 3个子模型的平均值\n",
        "mean_result = sum(result) / K\n",
        "print(mean_result)\n",
        "time2=time.time()\n",
        "print(time2-time1)"
      ],
      "execution_count": 3,
      "outputs": [
        {
          "output_type": "stream",
          "text": [
            "Collecting surprise\n",
            "  Downloading https://files.pythonhosted.org/packages/61/de/e5cba8682201fcf9c3719a6fdda95693468ed061945493dea2dd37c5618b/surprise-0.1-py2.py3-none-any.whl\n",
            "Collecting scikit-surprise\n",
            "\u001b[?25l  Downloading https://files.pythonhosted.org/packages/97/37/5d334adaf5ddd65da99fc65f6507e0e4599d092ba048f4302fe8775619e8/scikit-surprise-1.1.1.tar.gz (11.8MB)\n",
            "\u001b[K     |████████████████████████████████| 11.8MB 6.4MB/s \n",
            "\u001b[?25hRequirement already satisfied: joblib>=0.11 in /usr/local/lib/python3.7/dist-packages (from scikit-surprise->surprise) (1.0.1)\n",
            "Requirement already satisfied: numpy>=1.11.2 in /usr/local/lib/python3.7/dist-packages (from scikit-surprise->surprise) (1.19.5)\n",
            "Requirement already satisfied: scipy>=1.0.0 in /usr/local/lib/python3.7/dist-packages (from scikit-surprise->surprise) (1.4.1)\n",
            "Requirement already satisfied: six>=1.10.0 in /usr/local/lib/python3.7/dist-packages (from scikit-surprise->surprise) (1.15.0)\n",
            "Building wheels for collected packages: scikit-surprise\n",
            "  Building wheel for scikit-surprise (setup.py) ... \u001b[?25l\u001b[?25hdone\n",
            "  Created wheel for scikit-surprise: filename=scikit_surprise-1.1.1-cp37-cp37m-linux_x86_64.whl size=1617655 sha256=81f66b7e440bf35ed00d036a8f64be8b5270a3e63992ab9d02503612b803035c\n",
            "  Stored in directory: /root/.cache/pip/wheels/78/9c/3d/41b419c9d2aff5b6e2b4c0fc8d25c538202834058f9ed110d0\n",
            "Successfully built scikit-surprise\n",
            "Installing collected packages: scikit-surprise, surprise\n",
            "Successfully installed scikit-surprise-1.1.1 surprise-0.1\n",
            "RMSE: 0.8719\n",
            "user: 196        item: 302        r_ui = 4.00   est = 4.16   {'was_impossible': False}\n",
            "RMSE: 0.8715\n",
            "user: 196        item: 302        r_ui = 4.00   est = 4.40   {'was_impossible': False}\n",
            "RMSE: 0.8742\n",
            "user: 196        item: 302        r_ui = 4.00   est = 4.29   {'was_impossible': False}\n",
            "4.283602936254051\n",
            "124.44139266014099\n"
          ],
          "name": "stdout"
        }
      ]
    },
    {
      "cell_type": "code",
      "metadata": {
        "colab": {
          "base_uri": "https://localhost:8080/"
        },
        "id": "rht_9ViWcRH8",
        "outputId": "61089a2d-7231-4df2-b422-0b7af69140c1"
      },
      "source": [
        "#!pip install surprise\n",
        "from surprise import SVD\n",
        "from surprise import Dataset\n",
        "from surprise.model_selection import cross_validate\n",
        "from surprise import Reader\n",
        "from surprise import accuracy\n",
        "from surprise.model_selection import KFold\n",
        "import pandas as pd\n",
        "import time\n",
        "\n",
        "\"\"\"\n",
        "from google.colab import drive\n",
        "drive.mount('/content/drive')\n",
        "import os\n",
        "os.chdir(\"/content/drive/My Drive/Colab Notebooks/\")\n",
        "\"\"\"\n",
        "time1=time.time()\n",
        "\n",
        "# 数据读取\n",
        "reader = Reader(line_format='user item rating timestamp', sep=',', skip_lines=1)\n",
        "data = Dataset.load_from_file('./Colab/ratings.csv', reader=reader)\n",
        "train_set = data.build_full_trainset()\n",
        "\n",
        "# 使用biasSVD\n",
        "algo = SVD()\n",
        "\n",
        "uid = str(196)\n",
        "iid = str(302)\n",
        "result = []\n",
        "\n",
        "# 定义K折交叉验证迭代器，K=3\n",
        "K = 3\n",
        "kf = KFold(n_splits=K)\n",
        "for trainset, testset in kf.split(data):\n",
        "    # 训练并预测\n",
        "    algo.fit(trainset)\n",
        "    predictions = algo.test(testset)\n",
        "    # 计算RMSE\n",
        "    accuracy.rmse(predictions, verbose=True)\n",
        "    # 输出uid对iid的预测结果\n",
        "    pred = algo.predict(uid, iid, r_ui=4, verbose=True)\n",
        "    result.append(pred.est)\n",
        "\n",
        "# 最终结果 = 3个子模型的平均值\n",
        "mean_result = sum(result) / K\n",
        "print(mean_result)\n",
        "time2=time.time()\n",
        "print(time2-time1)"
      ],
      "execution_count": 4,
      "outputs": [
        {
          "output_type": "stream",
          "text": [
            "RMSE: 0.8475\n",
            "user: 196        item: 302        r_ui = 4.00   est = 4.25   {'was_impossible': False}\n",
            "RMSE: 0.8455\n",
            "user: 196        item: 302        r_ui = 4.00   est = 4.27   {'was_impossible': False}\n",
            "RMSE: 0.8446\n",
            "user: 196        item: 302        r_ui = 4.00   est = 4.20   {'was_impossible': False}\n",
            "4.2407559269561235\n",
            "124.53404808044434\n"
          ],
          "name": "stdout"
        }
      ]
    },
    {
      "cell_type": "code",
      "metadata": {
        "id": "Dg63_iFMbyuV"
      },
      "source": [
        "#!pip install surprise\n",
        "from surprise import SVDpp\n",
        "from surprise import Dataset\n",
        "from surprise.model_selection import cross_validate\n",
        "from surprise import Reader\n",
        "from surprise import accuracy\n",
        "from surprise.model_selection import KFold\n",
        "import pandas as pd\n",
        "import time\n",
        "\n",
        "\"\"\"\n",
        "from google.colab import drive\n",
        "drive.mount('/content/drive')\n",
        "import os\n",
        "os.chdir(\"/content/drive/My Drive/Colab Notebooks/\")\n",
        "\"\"\"\n",
        "time1=time.time()\n",
        "\n",
        "# 数据读取\n",
        "reader = Reader(line_format='user item rating timestamp', sep=',', skip_lines=1)\n",
        "data = Dataset.load_from_file('./Colab/ratings.csv', reader=reader)\n",
        "train_set = data.build_full_trainset()\n",
        "\n",
        "# 使用SVD++\n",
        "algo = SVDpp()\n",
        "\n",
        "uid = str(196)\n",
        "iid = str(302)\n",
        "result = []\n",
        "\n",
        "# 定义K折交叉验证迭代器，K=3\n",
        "K = 3\n",
        "kf = KFold(n_splits=K)\n",
        "for trainset, testset in kf.split(data):\n",
        "    # 训练并预测\n",
        "    algo.fit(trainset)\n",
        "    predictions = algo.test(testset)\n",
        "    # 计算RMSE\n",
        "    accuracy.rmse(predictions, verbose=True)\n",
        "    # 输出uid对iid的预测结果\n",
        "    pred = algo.predict(uid, iid, r_ui=4, verbose=True)\n",
        "    result.append(pred.est)\n",
        "\n",
        "# 最终结果 = 3个子模型的平均值\n",
        "mean_result = sum(result) / K\n",
        "print(mean_result)\n",
        "time2=time.time()\n",
        "print(time2-time1)"
      ],
      "execution_count": null,
      "outputs": []
    }
  ]
}