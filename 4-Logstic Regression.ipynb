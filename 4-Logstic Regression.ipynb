{
 "cells": [
  {
   "cell_type": "markdown",
   "metadata": {},
   "source": [
    "## 课堂代码\n",
    "####  Part-02 Logstic Regression\n",
    "1. Data \n",
    "+ Pre-processing \n",
    "+ Feature-Extractor\n",
    "+ Split Training, Test, Validation\n",
    "+ Build Model\n",
    "+ Gradient Descent \n",
    "+ Evaluation\n",
    "+ Predicat\n",
    "+ Analysis\n",
    "\n",
    "#### Minist识别0或者6\n",
    "\n",
    "#### Pre-processing "
   ]
  },
  {
   "cell_type": "code",
   "execution_count": 10,
   "metadata": {},
   "outputs": [],
   "source": [
    "import numpy as np\n",
    "import pandas as pd\n",
    "import matplotlib.pyplot as plt"
   ]
  },
  {
   "cell_type": "code",
   "execution_count": 11,
   "metadata": {},
   "outputs": [],
   "source": [
    "from struct import unpack"
   ]
  },
  {
   "cell_type": "code",
   "execution_count": 12,
   "metadata": {},
   "outputs": [],
   "source": [
    "def loadmnist(imagefile, labelfile):\n",
    "\n",
    "    # Open the images with gzip in read binary mode\n",
    "    images = open(imagefile, 'rb')\n",
    "    labels = open(labelfile, 'rb')\n",
    "\n",
    "    # Get metadata for images\n",
    "    images.read(4)  # skip the magic_number\n",
    "    number_of_images = images.read(4)\n",
    "    number_of_images = unpack('>I', number_of_images)[0]\n",
    "    rows = images.read(4)\n",
    "    rows = unpack('>I', rows)[0]\n",
    "    cols = images.read(4)\n",
    "    cols = unpack('>I', cols)[0]\n",
    "\n",
    "    # Get metadata for labels\n",
    "    labels.read(4)\n",
    "    N = labels.read(4)\n",
    "    N = unpack('>I', N)[0]\n",
    "\n",
    "    # Get data\n",
    "    x = np.zeros((N, rows*cols), dtype=np.uint8)  # Initialize numpy array\n",
    "    y = np.zeros(N, dtype=np.uint8)  # Initialize numpy array\n",
    "    for i in range(N):\n",
    "        for j in range(rows*cols):\n",
    "            tmp_pixel = images.read(1)  # Just a single byte\n",
    "            tmp_pixel = unpack('>B', tmp_pixel)[0]\n",
    "            x[i][j] = tmp_pixel\n",
    "        tmp_label = labels.read(1)\n",
    "        y[i] = unpack('>B', tmp_label)[0]\n",
    "\n",
    "    images.close()\n",
    "    labels.close()\n",
    "    return (x, y)"
   ]
  },
  {
   "cell_type": "code",
   "execution_count": 40,
   "metadata": {},
   "outputs": [],
   "source": [
    "Path = 'C:\\\\Users\\\\mengke.yan\\\\Desktop\\\\code\\\\dataset\\\\'\n",
    "test_x, test_y = loadmnist( f'{Path}t10k-images-idx3-ubyte', f'{Path}t10k-labels-idx1-ubyte')"
   ]
  },
  {
   "cell_type": "code",
   "execution_count": 41,
   "metadata": {},
   "outputs": [],
   "source": [
    "train_x, train_y = loadmnist(f'{Path}train-images-idx3-ubyte', f'{Path}train-labels-idx1-ubyte')"
   ]
  },
  {
   "cell_type": "code",
   "execution_count": 42,
   "metadata": {},
   "outputs": [
    {
     "data": {
      "text/plain": [
       "(60000, 784)"
      ]
     },
     "execution_count": 42,
     "metadata": {},
     "output_type": "execute_result"
    }
   ],
   "source": [
    "# 784 = 28*28\n",
    "train_x.shape"
   ]
  },
  {
   "cell_type": "code",
   "execution_count": 43,
   "metadata": {},
   "outputs": [
    {
     "data": {
      "text/plain": [
       "(10000, 784)"
      ]
     },
     "execution_count": 43,
     "metadata": {},
     "output_type": "execute_result"
    }
   ],
   "source": [
    "test_x.shape"
   ]
  },
  {
   "cell_type": "code",
   "execution_count": 44,
   "metadata": {},
   "outputs": [
    {
     "data": {
      "text/plain": [
       "array([[0, 0, 0, ..., 0, 0, 0],\n",
       "       [0, 0, 0, ..., 0, 0, 0],\n",
       "       [0, 0, 0, ..., 0, 0, 0],\n",
       "       ...,\n",
       "       [0, 0, 0, ..., 0, 0, 0],\n",
       "       [0, 0, 0, ..., 0, 0, 0],\n",
       "       [0, 0, 0, ..., 0, 0, 0]], dtype=uint8)"
      ]
     },
     "execution_count": 44,
     "metadata": {},
     "output_type": "execute_result"
    }
   ],
   "source": [
    "test_x"
   ]
  },
  {
   "cell_type": "code",
   "execution_count": 45,
   "metadata": {},
   "outputs": [
    {
     "data": {
      "text/plain": [
       "array([7, 2, 1, ..., 4, 5, 6], dtype=uint8)"
      ]
     },
     "execution_count": 45,
     "metadata": {},
     "output_type": "execute_result"
    }
   ],
   "source": [
    "test_y"
   ]
  },
  {
   "cell_type": "code",
   "execution_count": 46,
   "metadata": {},
   "outputs": [
    {
     "data": {
      "text/plain": [
       "array([  0,   0,   0,   0,   0,   0,   0,   0,   0,   0,   0,   0,   0,\n",
       "         0,   0,   0,   0,   0,   0,   0,   0,   0,   0,   0,   0,   0,\n",
       "         0,   0,   0,   0,   0,   0,   0,   0,   0,   0,   0,   0,   0,\n",
       "         0,   0,   0,   0,   0,   0,   0,   0,   0,   0,   0,   0,   0,\n",
       "         0,   0,   0,   0,   0,   0,   0,   0,   0,   0,   0,   0,   0,\n",
       "         0,   0,   0,   0,   0,   0,   0,   0,   0,   0,   0,   0,   0,\n",
       "         0,   0,   0,   0,   0,   0,   0,   0,   0,   0,   0,   0,   0,\n",
       "         0,   0,   0,   0,   0,   0,   0,   0,   0,   0,   0,   0,   0,\n",
       "         0,   0,   0,   0,   0,   0,   0,   0,   0,   0,   0,   0,   0,\n",
       "         0,   0,   0,   0,   0,   0,   0,   0,   0,   0,   0,   0,   0,\n",
       "         0,   0,   0,   0,   0,   0,   0,   0,   0,   0,   0,   0,   0,\n",
       "         0,   0,   0,   0,   0,   0,   0,   0,   0,   0,   0,   0,   0,\n",
       "         0,   0,   0,   0,   0,   0,   0,   0,   0,   0,   0,   0,   0,\n",
       "         0,   0,   0,   0,   0,   0,   0,   0,   0,   0,   0,   0,   0,\n",
       "         0,   0,   0,   0,   0,   0,   0,   0,   0,   0,   0,   0,   0,\n",
       "         0,   0,   0,   0,   0,   0,   0,  84, 185, 159, 151,  60,  36,\n",
       "         0,   0,   0,   0,   0,   0,   0,   0,   0,   0,   0,   0,   0,\n",
       "         0,   0,   0,   0,   0,   0,   0,   0,   0, 222, 254, 254, 254,\n",
       "       254, 241, 198, 198, 198, 198, 198, 198, 198, 198, 170,  52,   0,\n",
       "         0,   0,   0,   0,   0,   0,   0,   0,   0,   0,   0,  67, 114,\n",
       "        72, 114, 163, 227, 254, 225, 254, 254, 254, 250, 229, 254, 254,\n",
       "       140,   0,   0,   0,   0,   0,   0,   0,   0,   0,   0,   0,   0,\n",
       "         0,   0,   0,   0,   0,  17,  66,  14,  67,  67,  67,  59,  21,\n",
       "       236, 254, 106,   0,   0,   0,   0,   0,   0,   0,   0,   0,   0,\n",
       "         0,   0,   0,   0,   0,   0,   0,   0,   0,   0,   0,   0,   0,\n",
       "         0,  83, 253, 209,  18,   0,   0,   0,   0,   0,   0,   0,   0,\n",
       "         0,   0,   0,   0,   0,   0,   0,   0,   0,   0,   0,   0,   0,\n",
       "         0,   0,  22, 233, 255,  83,   0,   0,   0,   0,   0,   0,   0,\n",
       "         0,   0,   0,   0,   0,   0,   0,   0,   0,   0,   0,   0,   0,\n",
       "         0,   0,   0,   0, 129, 254, 238,  44,   0,   0,   0,   0,   0,\n",
       "         0,   0,   0,   0,   0,   0,   0,   0,   0,   0,   0,   0,   0,\n",
       "         0,   0,   0,   0,   0,  59, 249, 254,  62,   0,   0,   0,   0,\n",
       "         0,   0,   0,   0,   0,   0,   0,   0,   0,   0,   0,   0,   0,\n",
       "         0,   0,   0,   0,   0,   0,   0, 133, 254, 187,   5,   0,   0,\n",
       "         0,   0,   0,   0,   0,   0,   0,   0,   0,   0,   0,   0,   0,\n",
       "         0,   0,   0,   0,   0,   0,   0,   0,   9, 205, 248,  58,   0,\n",
       "         0,   0,   0,   0,   0,   0,   0,   0,   0,   0,   0,   0,   0,\n",
       "         0,   0,   0,   0,   0,   0,   0,   0,   0,   0, 126, 254, 182,\n",
       "         0,   0,   0,   0,   0,   0,   0,   0,   0,   0,   0,   0,   0,\n",
       "         0,   0,   0,   0,   0,   0,   0,   0,   0,   0,   0,  75, 251,\n",
       "       240,  57,   0,   0,   0,   0,   0,   0,   0,   0,   0,   0,   0,\n",
       "         0,   0,   0,   0,   0,   0,   0,   0,   0,   0,   0,   0,  19,\n",
       "       221, 254, 166,   0,   0,   0,   0,   0,   0,   0,   0,   0,   0,\n",
       "         0,   0,   0,   0,   0,   0,   0,   0,   0,   0,   0,   0,   0,\n",
       "         3, 203, 254, 219,  35,   0,   0,   0,   0,   0,   0,   0,   0,\n",
       "         0,   0,   0,   0,   0,   0,   0,   0,   0,   0,   0,   0,   0,\n",
       "         0,   0,  38, 254, 254,  77,   0,   0,   0,   0,   0,   0,   0,\n",
       "         0,   0,   0,   0,   0,   0,   0,   0,   0,   0,   0,   0,   0,\n",
       "         0,   0,   0,  31, 224, 254, 115,   1,   0,   0,   0,   0,   0,\n",
       "         0,   0,   0,   0,   0,   0,   0,   0,   0,   0,   0,   0,   0,\n",
       "         0,   0,   0,   0,   0, 133, 254, 254,  52,   0,   0,   0,   0,\n",
       "         0,   0,   0,   0,   0,   0,   0,   0,   0,   0,   0,   0,   0,\n",
       "         0,   0,   0,   0,   0,   0,  61, 242, 254, 254,  52,   0,   0,\n",
       "         0,   0,   0,   0,   0,   0,   0,   0,   0,   0,   0,   0,   0,\n",
       "         0,   0,   0,   0,   0,   0,   0,   0, 121, 254, 254, 219,  40,\n",
       "         0,   0,   0,   0,   0,   0,   0,   0,   0,   0,   0,   0,   0,\n",
       "         0,   0,   0,   0,   0,   0,   0,   0,   0,   0, 121, 254, 207,\n",
       "        18,   0,   0,   0,   0,   0,   0,   0,   0,   0,   0,   0,   0,\n",
       "         0,   0,   0,   0,   0,   0,   0,   0,   0,   0,   0,   0,   0,\n",
       "         0,   0,   0,   0,   0,   0,   0,   0,   0,   0,   0,   0,   0,\n",
       "         0,   0,   0,   0], dtype=uint8)"
      ]
     },
     "execution_count": 46,
     "metadata": {},
     "output_type": "execute_result"
    }
   ],
   "source": [
    "test_x[0]"
   ]
  },
  {
   "cell_type": "code",
   "execution_count": 47,
   "metadata": {
    "scrolled": true
   },
   "outputs": [
    {
     "data": {
      "text/plain": [
       "array([[  0,   0,   0,   0,   0,   0,   0,   0,   0,   0,   0,   0,   0,\n",
       "          0,   0,   0,   0,   0,   0,   0,   0,   0,   0,   0,   0,   0,\n",
       "          0,   0],\n",
       "       [  0,   0,   0,   0,   0,   0,   0,   0,   0,   0,   0,   0,   0,\n",
       "          0,   0,   0,   0,   0,   0,   0,   0,   0,   0,   0,   0,   0,\n",
       "          0,   0],\n",
       "       [  0,   0,   0,   0,   0,   0,   0,   0,   0,   0,   0,   0,   0,\n",
       "          0,   0,   0,   0,   0,   0,   0,   0,   0,   0,   0,   0,   0,\n",
       "          0,   0],\n",
       "       [  0,   0,   0,   0,   0,   0,   0,   0,   0,   0,   0,   0,   0,\n",
       "          0,   0,   0,   0,   0,   0,   0,   0,   0,   0,   0,   0,   0,\n",
       "          0,   0],\n",
       "       [  0,   0,   0,   0,   0,   0,   0,   0,   0,   0,   0,   0,   0,\n",
       "          0,   0,   0,   0,   0,   0,   0,   0,   0,   0,   0,   0,   0,\n",
       "          0,   0],\n",
       "       [  0,   0,   0,   0,   0,   0,   0,   0,   0,   0,   0,   0,   0,\n",
       "          0,   0,   0,   0,   0,   0,   0,   0,   0,   0,   0,   0,   0,\n",
       "          0,   0],\n",
       "       [  0,   0,   0,   0,   0,   0,   0,   0,   0,   0,   0,   0,   0,\n",
       "          0,   0,   0,   0,   0,   0,   0,   0,   0,   0,   0,   0,   0,\n",
       "          0,   0],\n",
       "       [  0,   0,   0,   0,   0,   0,  84, 185, 159, 151,  60,  36,   0,\n",
       "          0,   0,   0,   0,   0,   0,   0,   0,   0,   0,   0,   0,   0,\n",
       "          0,   0],\n",
       "       [  0,   0,   0,   0,   0,   0, 222, 254, 254, 254, 254, 241, 198,\n",
       "        198, 198, 198, 198, 198, 198, 198, 170,  52,   0,   0,   0,   0,\n",
       "          0,   0],\n",
       "       [  0,   0,   0,   0,   0,   0,  67, 114,  72, 114, 163, 227, 254,\n",
       "        225, 254, 254, 254, 250, 229, 254, 254, 140,   0,   0,   0,   0,\n",
       "          0,   0],\n",
       "       [  0,   0,   0,   0,   0,   0,   0,   0,   0,   0,   0,  17,  66,\n",
       "         14,  67,  67,  67,  59,  21, 236, 254, 106,   0,   0,   0,   0,\n",
       "          0,   0],\n",
       "       [  0,   0,   0,   0,   0,   0,   0,   0,   0,   0,   0,   0,   0,\n",
       "          0,   0,   0,   0,   0,  83, 253, 209,  18,   0,   0,   0,   0,\n",
       "          0,   0],\n",
       "       [  0,   0,   0,   0,   0,   0,   0,   0,   0,   0,   0,   0,   0,\n",
       "          0,   0,   0,   0,  22, 233, 255,  83,   0,   0,   0,   0,   0,\n",
       "          0,   0],\n",
       "       [  0,   0,   0,   0,   0,   0,   0,   0,   0,   0,   0,   0,   0,\n",
       "          0,   0,   0,   0, 129, 254, 238,  44,   0,   0,   0,   0,   0,\n",
       "          0,   0],\n",
       "       [  0,   0,   0,   0,   0,   0,   0,   0,   0,   0,   0,   0,   0,\n",
       "          0,   0,   0,  59, 249, 254,  62,   0,   0,   0,   0,   0,   0,\n",
       "          0,   0],\n",
       "       [  0,   0,   0,   0,   0,   0,   0,   0,   0,   0,   0,   0,   0,\n",
       "          0,   0,   0, 133, 254, 187,   5,   0,   0,   0,   0,   0,   0,\n",
       "          0,   0],\n",
       "       [  0,   0,   0,   0,   0,   0,   0,   0,   0,   0,   0,   0,   0,\n",
       "          0,   0,   9, 205, 248,  58,   0,   0,   0,   0,   0,   0,   0,\n",
       "          0,   0],\n",
       "       [  0,   0,   0,   0,   0,   0,   0,   0,   0,   0,   0,   0,   0,\n",
       "          0,   0, 126, 254, 182,   0,   0,   0,   0,   0,   0,   0,   0,\n",
       "          0,   0],\n",
       "       [  0,   0,   0,   0,   0,   0,   0,   0,   0,   0,   0,   0,   0,\n",
       "          0,  75, 251, 240,  57,   0,   0,   0,   0,   0,   0,   0,   0,\n",
       "          0,   0],\n",
       "       [  0,   0,   0,   0,   0,   0,   0,   0,   0,   0,   0,   0,   0,\n",
       "         19, 221, 254, 166,   0,   0,   0,   0,   0,   0,   0,   0,   0,\n",
       "          0,   0],\n",
       "       [  0,   0,   0,   0,   0,   0,   0,   0,   0,   0,   0,   0,   3,\n",
       "        203, 254, 219,  35,   0,   0,   0,   0,   0,   0,   0,   0,   0,\n",
       "          0,   0],\n",
       "       [  0,   0,   0,   0,   0,   0,   0,   0,   0,   0,   0,   0,  38,\n",
       "        254, 254,  77,   0,   0,   0,   0,   0,   0,   0,   0,   0,   0,\n",
       "          0,   0],\n",
       "       [  0,   0,   0,   0,   0,   0,   0,   0,   0,   0,   0,  31, 224,\n",
       "        254, 115,   1,   0,   0,   0,   0,   0,   0,   0,   0,   0,   0,\n",
       "          0,   0],\n",
       "       [  0,   0,   0,   0,   0,   0,   0,   0,   0,   0,   0, 133, 254,\n",
       "        254,  52,   0,   0,   0,   0,   0,   0,   0,   0,   0,   0,   0,\n",
       "          0,   0],\n",
       "       [  0,   0,   0,   0,   0,   0,   0,   0,   0,   0,  61, 242, 254,\n",
       "        254,  52,   0,   0,   0,   0,   0,   0,   0,   0,   0,   0,   0,\n",
       "          0,   0],\n",
       "       [  0,   0,   0,   0,   0,   0,   0,   0,   0,   0, 121, 254, 254,\n",
       "        219,  40,   0,   0,   0,   0,   0,   0,   0,   0,   0,   0,   0,\n",
       "          0,   0],\n",
       "       [  0,   0,   0,   0,   0,   0,   0,   0,   0,   0, 121, 254, 207,\n",
       "         18,   0,   0,   0,   0,   0,   0,   0,   0,   0,   0,   0,   0,\n",
       "          0,   0],\n",
       "       [  0,   0,   0,   0,   0,   0,   0,   0,   0,   0,   0,   0,   0,\n",
       "          0,   0,   0,   0,   0,   0,   0,   0,   0,   0,   0,   0,   0,\n",
       "          0,   0]], dtype=uint8)"
      ]
     },
     "execution_count": 47,
     "metadata": {},
     "output_type": "execute_result"
    }
   ],
   "source": [
    "np.reshape(test_x[0],(28,28))"
   ]
  },
  {
   "cell_type": "code",
   "execution_count": 48,
   "metadata": {},
   "outputs": [
    {
     "data": {
      "text/plain": [
       "<matplotlib.image.AxesImage at 0x158e43de388>"
      ]
     },
     "execution_count": 48,
     "metadata": {},
     "output_type": "execute_result"
    },
    {
     "data": {
      "image/png": "[encoded data removed]",
      "text/plain": [
       "<Figure size 432x288 with 1 Axes>"
      ]
     },
     "metadata": {
      "needs_background": "light"
     },
     "output_type": "display_data"
    }
   ],
   "source": [
    "plt.imshow(np.reshape(test_x[0],(28,28)))"
   ]
  },
  {
   "cell_type": "code",
   "execution_count": 49,
   "metadata": {},
   "outputs": [
    {
     "data": {
      "image/png": "[encoded data removed]",
      "text/plain": [
       "<Figure size 1440x288 with 5 Axes>"
      ]
     },
     "metadata": {
      "needs_background": "light"
     },
     "output_type": "display_data"
    }
   ],
   "source": [
    "plt.figure(figsize=(20,4))\n",
    "for index, (image, label) in enumerate(zip(train_x[0:5], train_y[0:5])):\n",
    "    plt.subplot(1, 5, index + 1)\n",
    "    plt.imshow(np.reshape(image, (28,28)))\n",
    "    plt.title('Training: %i\\n' % label, fontsize = 20)"
   ]
  },
  {
   "cell_type": "markdown",
   "metadata": {},
   "source": [
    "#### we only choose label with 0 and 6"
   ]
  },
  {
   "cell_type": "code",
   "execution_count": 50,
   "metadata": {},
   "outputs": [],
   "source": [
    "zero_train_indices = np.where(train_y == 0)\n",
    "one_train_indices = np.where(train_y == 6)\n",
    "train_indices = np.concatenate((zero_train_indices[0], one_train_indices[0]))\n",
    "\n",
    "zero_test_indices = np.where(test_y == 0)\n",
    "one_test_indices = np.where(test_y == 6)\n",
    "test_indices = np.concatenate((zero_test_indices[0], one_test_indices[0]))"
   ]
  },
  {
   "cell_type": "code",
   "execution_count": 51,
   "metadata": {},
   "outputs": [],
   "source": [
    "train_indices = np.random.choice(train_indices, size=len(train_indices), replace=False)\n",
    "test_indices = np.random.choice(test_indices, size=len(test_indices), replace=False)"
   ]
  },
  {
   "cell_type": "code",
   "execution_count": 52,
   "metadata": {},
   "outputs": [],
   "source": [
    "val_ratio = 0.2\n",
    "\n",
    "train_indices = train_indices[: int(len(train_indices) * (1 - val_ratio))]\n",
    "val_indices = train_indices[int(len(train_indices) * (1 - val_ratio)):]"
   ]
  },
  {
   "cell_type": "code",
   "execution_count": 53,
   "metadata": {},
   "outputs": [],
   "source": [
    "binary_x_train = train_x[train_indices]\n",
    "binary_x_test = test_x[test_indices]\n",
    "binary_x_val = train_x[val_indices]\n",
    "\n",
    "binary_y_val = train_y[val_indices]\n",
    "binary_y_train = train_y[train_indices]\n",
    "binary_y_test = test_y[test_indices]"
   ]
  },
  {
   "cell_type": "code",
   "execution_count": 54,
   "metadata": {},
   "outputs": [],
   "source": [
    "import random"
   ]
  },
  {
   "cell_type": "code",
   "execution_count": 55,
   "metadata": {},
   "outputs": [
    {
     "data": {
      "text/plain": [
       "array([6, 6, 6, ..., 0, 6, 6], dtype=uint8)"
      ]
     },
     "execution_count": 55,
     "metadata": {},
     "output_type": "execute_result"
    }
   ],
   "source": [
    "binary_y_train"
   ]
  },
  {
   "cell_type": "code",
   "execution_count": 56,
   "metadata": {},
   "outputs": [
    {
     "data": {
      "text/plain": [
       "Text(0.5, 1.0, 'Training: 6\\n')"
      ]
     },
     "execution_count": 56,
     "metadata": {},
     "output_type": "execute_result"
    },
    {
     "data": {
      "image/png": "[encoded data removed]",
      "text/plain": [
       "<Figure size 432x288 with 1 Axes>"
      ]
     },
     "metadata": {
      "needs_background": "light"
     },
     "output_type": "display_data"
    }
   ],
   "source": [
    "plt.imshow(np.reshape(binary_x_train[1], (28,28)))\n",
    "plt.title('Training: %i\\n' % binary_y_train[1], fontsize = 20)"
   ]
  },
  {
   "cell_type": "markdown",
   "metadata": {},
   "source": [
    "#### 我们没有做标准化/归一化\n",
    "+ 原因：数据比较简单，效果已经比较好了\n",
    "+ 当遇到比较复杂的问题时，一定要做标准化/归一化"
   ]
  },
  {
   "cell_type": "code",
   "execution_count": 57,
   "metadata": {},
   "outputs": [],
   "source": [
    "from collections import Counter"
   ]
  },
  {
   "cell_type": "code",
   "execution_count": 58,
   "metadata": {},
   "outputs": [
    {
     "data": {
      "text/plain": [
       "Counter({6: 4690, 0: 4782})"
      ]
     },
     "execution_count": 58,
     "metadata": {},
     "output_type": "execute_result"
    }
   ],
   "source": [
    "Counter(binary_y_train)"
   ]
  },
  {
   "cell_type": "code",
   "execution_count": 59,
   "metadata": {},
   "outputs": [
    {
     "data": {
      "text/plain": [
       "Counter({0: 980, 6: 958})"
      ]
     },
     "execution_count": 59,
     "metadata": {},
     "output_type": "execute_result"
    }
   ],
   "source": [
    "Counter(binary_y_test)"
   ]
  },
  {
   "cell_type": "code",
   "execution_count": 60,
   "metadata": {},
   "outputs": [
    {
     "data": {
      "text/plain": [
       "Counter({6: 956, 0: 939})"
      ]
     },
     "execution_count": 60,
     "metadata": {},
     "output_type": "execute_result"
    }
   ],
   "source": [
    "Counter(binary_y_val)"
   ]
  },
  {
   "cell_type": "markdown",
   "metadata": {},
   "source": [
    "#### Build Model"
   ]
  },
  {
   "cell_type": "markdown",
   "metadata": {},
   "source": [
    "#### sklearn logistic regression\n",
    "+ 网址：https://scikit-learn.org/stable/modules/generated/sklearn.linear_model.LogisticRegression.html"
   ]
  },
  {
   "cell_type": "code",
   "execution_count": 61,
   "metadata": {},
   "outputs": [],
   "source": [
    "from sklearn.linear_model import LogisticRegression"
   ]
  },
  {
   "cell_type": "code",
   "execution_count": 62,
   "metadata": {},
   "outputs": [],
   "source": [
    "clf = LogisticRegression(random_state=0, solver='lbfgs')\n",
    "# L-BFGS-B – Software for Large-scale Bound-constrained Optimization 对于很大数据量的一个优化，否则784维，运行起来很慢"
   ]
  },
  {
   "cell_type": "code",
   "execution_count": 63,
   "metadata": {},
   "outputs": [
    {
     "name": "stderr",
     "output_type": "stream",
     "text": [
      "C:\\ProgramData\\Anaconda3\\lib\\site-packages\\sklearn\\linear_model\\_logistic.py:940: ConvergenceWarning: lbfgs failed to converge (status=1):\n",
      "STOP: TOTAL NO. of ITERATIONS REACHED LIMIT.\n",
      "\n",
      "Increase the number of iterations (max_iter) or scale the data as shown in:\n",
      "    https://scikit-learn.org/stable/modules/preprocessing.html\n",
      "Please also refer to the documentation for alternative solver options:\n",
      "    https://scikit-learn.org/stable/modules/linear_model.html#logistic-regression\n",
      "  extra_warning_msg=_LOGISTIC_SOLVER_CONVERGENCE_MSG)\n"
     ]
    },
    {
     "data": {
      "text/plain": [
       "LogisticRegression(C=1.0, class_weight=None, dual=False, fit_intercept=True,\n",
       "                   intercept_scaling=1, l1_ratio=None, max_iter=100,\n",
       "                   multi_class='auto', n_jobs=None, penalty='l2',\n",
       "                   random_state=0, solver='lbfgs', tol=0.0001, verbose=0,\n",
       "                   warm_start=False)"
      ]
     },
     "execution_count": 63,
     "metadata": {},
     "output_type": "execute_result"
    }
   ],
   "source": [
    "clf.fit(binary_x_train, binary_y_train) # fit输入数据，梯度下降，迭代的求解过程"
   ]
  },
  {
   "cell_type": "code",
   "execution_count": 64,
   "metadata": {},
   "outputs": [
    {
     "data": {
      "text/plain": [
       "array([[ 0.00000000e+00,  0.00000000e+00,  0.00000000e+00,\n",
       "         0.00000000e+00,  0.00000000e+00,  0.00000000e+00,\n",
       "         0.00000000e+00,  0.00000000e+00,  0.00000000e+00,\n",
       "         0.00000000e+00,  0.00000000e+00,  0.00000000e+00,\n",
       "         6.28704678e-06,  1.37664645e-05,  0.00000000e+00,\n",
       "         0.00000000e+00,  0.00000000e+00,  0.00000000e+00,\n",
       "         0.00000000e+00,  0.00000000e+00,  0.00000000e+00,\n",
       "         0.00000000e+00,  0.00000000e+00,  0.00000000e+00,\n",
       "         0.00000000e+00,  0.00000000e+00,  0.00000000e+00,\n",
       "         0.00000000e+00,  0.00000000e+00,  0.00000000e+00,\n",
       "         0.00000000e+00,  0.00000000e+00,  2.41401607e-07,\n",
       "         8.49900009e-07,  1.02630253e-05,  2.33486592e-05,\n",
       "         6.67607033e-05,  3.84728690e-04,  3.12998530e-03,\n",
       "         9.98495365e-03,  4.75163908e-03, -2.34787795e-04,\n",
       "         7.67701693e-04, -8.34737335e-03, -2.27386397e-02,\n",
       "        -1.02770296e-02,  3.37290884e-04,  2.23692623e-04,\n",
       "         1.23640366e-04,  1.83972127e-04,  8.45060391e-05,\n",
       "         2.25925159e-07,  0.00000000e+00,  0.00000000e+00,\n",
       "         0.00000000e+00,  0.00000000e+00,  0.00000000e+00,\n",
       "         0.00000000e+00,  1.02293488e-06,  9.94329985e-05,\n",
       "        -1.07486941e-05,  2.93715694e-06,  6.15305328e-03,\n",
       "         7.18613965e-03,  5.16960190e-03,  8.86047811e-03,\n",
       "         2.24818430e-02,  3.07577347e-02,  2.36127025e-02,\n",
       "         2.41488455e-02,  4.62496874e-02,  3.75218580e-02,\n",
       "         5.08329454e-02,  4.63281341e-02,  2.22847280e-02,\n",
       "         7.30549952e-03,  1.10544246e-02,  2.81480502e-03,\n",
       "         1.30669195e-03,  2.54235553e-04,  6.10286787e-05,\n",
       "         4.70514431e-06,  0.00000000e+00,  0.00000000e+00,\n",
       "         0.00000000e+00,  0.00000000e+00,  2.25365340e-06,\n",
       "         9.85285447e-04,  4.27860369e-03, -1.80024334e-03,\n",
       "         8.80640386e-03,  2.42346074e-02,  3.02493672e-02,\n",
       "         1.45750570e-02,  4.79865021e-02,  3.08039845e-02,\n",
       "         7.19503422e-03,  1.62027737e-02, -2.46334703e-02,\n",
       "         2.31888236e-02,  8.79435329e-03, -4.15655213e-02,\n",
       "         3.85604722e-02, -2.05964837e-03, -2.34102877e-02,\n",
       "         6.24527039e-03,  1.03216818e-02,  4.40922926e-03,\n",
       "         2.01075859e-03, -5.91434891e-04,  1.80353729e-06,\n",
       "         0.00000000e+00,  0.00000000e+00,  0.00000000e+00,\n",
       "         0.00000000e+00, -6.88384267e-06,  6.33883291e-03,\n",
       "         2.49495325e-02,  2.66325824e-02,  1.19960093e-02,\n",
       "         2.18128960e-02,  8.18721238e-03,  3.60769898e-02,\n",
       "        -2.12835799e-02,  3.54780206e-02,  9.48268513e-03,\n",
       "         6.19111576e-03, -2.93404689e-03, -1.81442098e-02,\n",
       "        -3.76369291e-02,  7.33078195e-03,  1.98861593e-02,\n",
       "         1.69419049e-02,  3.52940609e-02,  1.84359696e-02,\n",
       "         3.36062406e-02,  1.26018919e-02,  3.88781882e-03,\n",
       "         3.51654448e-03,  3.51629109e-03,  0.00000000e+00,\n",
       "         0.00000000e+00,  5.62848027e-06, -1.42785232e-05,\n",
       "         1.06758452e-02,  1.74610461e-02,  1.17097318e-02,\n",
       "         3.91796108e-02,  1.87078083e-02, -2.90773885e-03,\n",
       "        -1.84456605e-02, -1.65703176e-02, -2.68283711e-02,\n",
       "        -1.14807829e-02,  8.44917465e-03, -2.97501298e-02,\n",
       "         3.23718324e-02,  4.08376328e-02, -2.13760420e-03,\n",
       "         2.11770911e-02, -7.96676778e-03,  7.63210801e-03,\n",
       "         6.04284556e-03,  3.32999719e-02,  5.85702496e-02,\n",
       "         1.38671851e-02,  1.18395501e-02,  5.19071542e-03,\n",
       "         0.00000000e+00,  0.00000000e+00,  4.62835048e-06,\n",
       "         2.18666856e-06,  1.13686234e-02,  1.08275561e-02,\n",
       "        -2.05370209e-02,  2.43106235e-02,  6.53934264e-03,\n",
       "        -8.35809433e-05,  1.22389303e-02, -2.13596685e-02,\n",
       "        -3.08197092e-03, -2.17752462e-02, -2.05046064e-02,\n",
       "         2.68220304e-02, -3.41999367e-02, -3.64778721e-02,\n",
       "        -5.14949686e-02, -4.47985433e-02, -2.26047166e-02,\n",
       "        -6.17950386e-02, -4.26590617e-02, -8.58572989e-03,\n",
       "         4.34431987e-02,  8.51847135e-03, -2.91843803e-06,\n",
       "         2.47971055e-05,  0.00000000e+00,  0.00000000e+00,\n",
       "         0.00000000e+00, -2.66660203e-05,  1.36821848e-02,\n",
       "         1.00209266e-02, -2.43407177e-02,  7.17099551e-03,\n",
       "        -4.59201006e-02, -1.92589671e-02,  2.48354995e-02,\n",
       "         1.13461372e-02, -4.18672202e-02, -3.42832416e-02,\n",
       "        -1.92308408e-03,  7.99479880e-03, -1.96503122e-02,\n",
       "        -5.26965859e-02,  2.77650653e-02,  7.52338976e-03,\n",
       "         7.83588298e-03, -8.15193037e-03, -3.09448205e-02,\n",
       "        -4.94766781e-02, -6.37514672e-03, -2.34837842e-03,\n",
       "         4.06796752e-05,  1.60635337e-05, -5.78511779e-05,\n",
       "         0.00000000e+00, -3.58163278e-05, -2.10662921e-05,\n",
       "         1.83221659e-02,  2.00911232e-02,  9.25775896e-04,\n",
       "         1.15798308e-02, -1.10341327e-02,  1.79613354e-02,\n",
       "        -3.50429589e-02,  1.43530509e-02,  3.84091436e-02,\n",
       "        -1.76415858e-02, -5.59029485e-02, -6.53097254e-03,\n",
       "        -3.11519436e-02, -1.51549519e-02, -4.93087924e-02,\n",
       "        -6.08772693e-02, -4.42620402e-02, -6.35411471e-03,\n",
       "         1.30393895e-02, -7.79149799e-04, -3.84727140e-02,\n",
       "        -4.84377692e-03,  1.27391592e-05,  0.00000000e+00,\n",
       "         0.00000000e+00,  0.00000000e+00, -2.30312703e-03,\n",
       "        -5.14457391e-04,  2.03297449e-02,  3.24559794e-03,\n",
       "        -3.87179036e-02,  2.80861148e-02,  2.11235366e-02,\n",
       "         9.48720694e-03, -5.04067472e-02,  1.62542416e-02,\n",
       "        -4.63526345e-03, -6.55118292e-03,  1.21657256e-02,\n",
       "        -1.26848853e-02, -2.06916965e-02, -4.40687508e-02,\n",
       "        -1.44068832e-02, -3.23520501e-03, -3.98022132e-02,\n",
       "         9.45022233e-03, -1.36667870e-02,  1.26287865e-02,\n",
       "        -1.98041471e-02, -8.56957152e-03,  7.59259014e-06,\n",
       "         0.00000000e+00,  0.00000000e+00,  0.00000000e+00,\n",
       "        -1.18422572e-02, -1.19963412e-02,  6.08141519e-03,\n",
       "        -9.66354135e-03, -1.68041688e-02, -2.15551889e-03,\n",
       "        -2.60874501e-02, -2.63396785e-02,  3.36439401e-02,\n",
       "        -3.90719528e-02,  8.32026874e-03,  9.78583617e-03,\n",
       "        -3.42627640e-02, -1.84495522e-02, -7.27698789e-02,\n",
       "        -6.28615488e-02,  1.98338643e-02, -2.66728310e-02,\n",
       "        -9.45185697e-03, -1.40000055e-02, -9.72123128e-02,\n",
       "        -1.93679077e-02,  1.87962775e-02, -7.10258471e-03,\n",
       "         7.59259014e-06,  0.00000000e+00,  0.00000000e+00,\n",
       "        -3.96114253e-05,  0.00000000e+00, -2.03523418e-02,\n",
       "        -3.02643669e-03,  2.47184510e-02, -5.85130706e-03,\n",
       "         3.09562159e-02, -1.19352073e-02,  3.49791468e-02,\n",
       "        -1.09069043e-02, -4.11599841e-02,  2.84222685e-02,\n",
       "         4.15027934e-02, -1.05268715e-02,  1.75643874e-02,\n",
       "         3.42110503e-02, -3.93644361e-02,  1.01488338e-02,\n",
       "         4.52445227e-02, -5.39519644e-02, -1.43004312e-03,\n",
       "        -2.64963310e-02, -4.50558687e-02,  2.56260765e-02,\n",
       "         2.36480931e-04, -2.89634728e-06,  4.67104548e-05,\n",
       "         0.00000000e+00,  0.00000000e+00, -1.33305266e-06,\n",
       "        -2.04324732e-02, -3.76164182e-03,  2.87382902e-02,\n",
       "        -1.06528473e-02, -2.42641148e-03,  3.51555892e-02,\n",
       "        -2.68792237e-02, -3.84463615e-03,  2.06531697e-02,\n",
       "        -1.72120924e-02, -2.50239495e-03, -5.94494983e-03,\n",
       "         1.12202559e-02, -1.49117088e-03, -1.73969425e-02,\n",
       "        -2.06495456e-02, -3.46454238e-02, -4.73685960e-02,\n",
       "         2.96677343e-04,  8.76158000e-03, -1.11724109e-02,\n",
       "         1.15851134e-02,  3.53048035e-03,  6.18105060e-05,\n",
       "         5.41983904e-05,  0.00000000e+00,  0.00000000e+00,\n",
       "        -4.71396340e-06, -1.81142077e-02, -2.02041273e-02,\n",
       "         3.48907482e-02, -3.56052792e-03, -2.08002530e-02,\n",
       "         1.40825330e-02, -4.32108462e-03,  5.50965129e-02,\n",
       "         1.94175567e-02, -3.73614041e-02,  8.30961829e-02,\n",
       "         7.17922479e-02, -3.00591754e-02,  1.09178404e-02,\n",
       "        -2.50207819e-02,  6.44876426e-03, -1.80815533e-02,\n",
       "         2.17046363e-02,  1.12026390e-02, -4.46668052e-03,\n",
       "         3.57750451e-02,  4.02967139e-02, -9.71667819e-03,\n",
       "         8.25312701e-05,  1.46193027e-05,  0.00000000e+00,\n",
       "         0.00000000e+00,  0.00000000e+00, -4.45891033e-06,\n",
       "        -1.17698499e-02, -7.82547314e-03,  7.79330498e-03,\n",
       "        -3.52247489e-02,  4.79552052e-02,  9.85445315e-03,\n",
       "         3.26030501e-02,  1.27988909e-02,  1.01511554e-03,\n",
       "         3.43423248e-02,  3.05598645e-02,  6.85557985e-03,\n",
       "         4.80772397e-02, -8.50665081e-03, -6.02845298e-03,\n",
       "         5.48506700e-04, -2.94461173e-02, -1.39550850e-02,\n",
       "        -1.17001507e-03, -2.69052462e-02, -1.28426092e-02,\n",
       "        -8.70511192e-03,  2.17181478e-05,  0.00000000e+00,\n",
       "         0.00000000e+00,  0.00000000e+00,  0.00000000e+00,\n",
       "        -1.74604348e-05, -2.02770613e-02, -1.23457063e-02,\n",
       "         4.34442243e-03,  6.25838905e-03, -9.04488934e-03,\n",
       "        -4.15520989e-02, -3.50275160e-02,  3.21341730e-02,\n",
       "         2.97867001e-03,  2.84734798e-02,  4.59669524e-02,\n",
       "         2.04912517e-02,  1.05195797e-02,  3.23094703e-02,\n",
       "        -4.70056551e-02, -8.81001671e-03,  7.28639296e-03,\n",
       "         3.60733488e-02,  2.15454743e-03, -1.25969841e-02,\n",
       "        -3.64547150e-02,  2.02180715e-02,  8.74766262e-06,\n",
       "         0.00000000e+00,  0.00000000e+00,  0.00000000e+00,\n",
       "         0.00000000e+00, -1.56826007e-05, -2.22423150e-02,\n",
       "        -3.30333349e-03,  1.61106758e-02,  2.04180103e-02,\n",
       "         2.33719676e-03,  3.86241053e-02, -2.43302067e-03,\n",
       "         3.89600736e-02, -1.24657203e-02,  3.32135775e-02,\n",
       "         2.20040470e-02,  6.69313797e-03,  2.99256291e-02,\n",
       "         1.74160914e-02,  2.26719773e-03, -3.13433706e-02,\n",
       "         4.40463976e-03, -1.44617051e-02,  2.50779339e-02,\n",
       "        -1.88578449e-02, -6.17094982e-03,  3.32333139e-02,\n",
       "         7.29855153e-06, -1.79275386e-03,  0.00000000e+00,\n",
       "         0.00000000e+00,  0.00000000e+00, -1.79994788e-05,\n",
       "        -1.00131716e-02, -8.27285153e-03, -1.26780132e-02,\n",
       "         7.22737390e-03, -1.90407951e-02, -7.56856895e-03,\n",
       "         1.89667169e-02, -4.09252416e-03, -3.04356260e-03,\n",
       "         8.37562537e-03, -1.64407705e-03,  3.51817516e-02,\n",
       "         2.21533538e-03, -6.61048516e-02,  4.11755476e-02,\n",
       "         7.32659978e-03, -2.46553082e-02, -2.55334752e-02,\n",
       "        -5.86431744e-03,  6.17229383e-03, -6.94262869e-03,\n",
       "         2.12473106e-02,  4.20680213e-06, -1.55372001e-02,\n",
       "         0.00000000e+00,  0.00000000e+00,  0.00000000e+00,\n",
       "        -1.64832205e-05,  1.71230710e-03, -4.56536800e-03,\n",
       "         1.07282339e-02,  9.23210325e-03, -1.60853378e-02,\n",
       "         2.86067770e-02, -3.65450548e-02, -1.88135332e-02,\n",
       "        -2.74335050e-02,  7.27361018e-02,  3.24526705e-02,\n",
       "        -1.65371270e-02,  4.16208031e-02,  3.05814640e-02,\n",
       "         2.14780881e-02,  4.49579294e-02,  2.07893535e-02,\n",
       "         1.68394567e-02, -1.31727087e-02,  2.36189459e-02,\n",
       "        -2.11118591e-03,  6.55822751e-03,  7.16023607e-06,\n",
       "         0.00000000e+00,  0.00000000e+00, -5.29850218e-05,\n",
       "        -5.19660791e-05, -7.49697229e-05,  1.08507863e-02,\n",
       "         7.76775527e-03,  2.87929875e-02, -1.90323828e-02,\n",
       "        -4.48574013e-03,  3.22226834e-02,  1.73659180e-02,\n",
       "         7.80102498e-02, -2.57453806e-02,  2.48045318e-03,\n",
       "        -5.43080768e-03, -1.57702957e-02, -1.82431093e-02,\n",
       "         2.81124630e-02, -7.24087387e-02,  4.69105840e-02,\n",
       "        -8.56326206e-03,  9.75332302e-03,  9.59989803e-03,\n",
       "         1.41738973e-02, -6.87663325e-03,  2.32426807e-04,\n",
       "         2.87179957e-06,  0.00000000e+00,  0.00000000e+00,\n",
       "        -1.33481497e-04, -9.25484261e-05, -7.41461432e-05,\n",
       "         1.64128973e-02,  8.03184993e-03,  1.04570378e-02,\n",
       "         2.78776008e-02, -4.05618391e-02,  4.58561959e-02,\n",
       "        -1.81068528e-02, -7.67656420e-03,  2.00244856e-02,\n",
       "        -8.85927386e-03,  1.76925441e-02,  7.17816357e-03,\n",
       "         1.50499662e-02,  1.32057335e-03, -9.39234442e-03,\n",
       "         3.79856854e-03, -2.22600094e-02, -2.62175072e-02,\n",
       "         6.15539426e-03, -8.37804460e-03, -1.10017144e-02,\n",
       "         5.87457947e-04, -1.41167713e-05,  0.00000000e+00,\n",
       "         0.00000000e+00,  0.00000000e+00, -1.65035950e-04,\n",
       "        -2.86460153e-05, -9.21938599e-04, -1.63836833e-02,\n",
       "        -3.98363501e-02, -2.04862534e-03,  3.59057880e-02,\n",
       "         2.02431779e-02,  1.89924367e-02,  1.25404915e-02,\n",
       "         1.30460223e-02,  6.85502082e-03,  4.14087282e-02,\n",
       "        -3.74624127e-02,  3.04959343e-02,  4.77732752e-02,\n",
       "         1.69003920e-02,  4.59324840e-02,  2.17168606e-02,\n",
       "         4.42558542e-03, -1.49820975e-02, -2.55521982e-02,\n",
       "        -3.28750192e-03,  3.96040028e-06, -2.50432280e-04,\n",
       "        -5.89439013e-07,  0.00000000e+00,  0.00000000e+00,\n",
       "         0.00000000e+00, -2.21257459e-05, -3.90034900e-04,\n",
       "        -6.41268595e-03, -3.80293563e-02,  2.60288106e-03,\n",
       "        -2.28580311e-02, -7.78078810e-03,  2.28913264e-02,\n",
       "         3.79515630e-02, -5.17827424e-02, -3.14862628e-03,\n",
       "         9.46125390e-03, -9.76179172e-03, -1.26649658e-02,\n",
       "        -2.34905251e-02, -1.79782674e-02,  1.61117225e-02,\n",
       "         1.80382147e-02,  1.47050814e-02, -1.94291357e-02,\n",
       "        -1.59949233e-02, -9.99164520e-04, -1.19412470e-04,\n",
       "        -3.89129732e-05, -1.08819510e-06,  0.00000000e+00,\n",
       "         0.00000000e+00,  0.00000000e+00, -8.87112185e-07,\n",
       "        -6.69301807e-05, -1.59209603e-03, -7.74423732e-03,\n",
       "        -5.88406278e-03,  1.07607054e-02,  3.75436086e-03,\n",
       "        -5.34259134e-02, -1.24888876e-02, -3.60746577e-02,\n",
       "         1.82101601e-02,  2.54327770e-03,  2.33760184e-02,\n",
       "         5.81286728e-03, -2.69606176e-02,  2.34954838e-02,\n",
       "         4.61348955e-02,  9.02860373e-03, -6.43737643e-04,\n",
       "        -7.45035267e-03, -2.17918952e-03, -7.76269804e-04,\n",
       "        -1.39347767e-04,  0.00000000e+00,  0.00000000e+00,\n",
       "         0.00000000e+00,  0.00000000e+00,  0.00000000e+00,\n",
       "         0.00000000e+00, -1.36922754e-05, -5.72384757e-05,\n",
       "        -1.98522950e-04, -4.80963335e-04, -1.07740302e-03,\n",
       "        -2.77914250e-03, -7.71618080e-03,  4.40506772e-02,\n",
       "         5.62003611e-02,  2.93362057e-02, -2.16192467e-02,\n",
       "        -3.34184325e-02, -3.57909964e-03,  5.71359779e-04,\n",
       "         6.41881928e-03,  2.53552281e-03,  1.05701095e-03,\n",
       "        -2.19725104e-05, -3.75891904e-06, -5.11213392e-07,\n",
       "        -8.57036812e-07, -1.05250135e-06,  0.00000000e+00,\n",
       "         0.00000000e+00,  0.00000000e+00,  0.00000000e+00,\n",
       "         0.00000000e+00,  0.00000000e+00,  0.00000000e+00,\n",
       "         0.00000000e+00,  0.00000000e+00, -6.82868860e-07,\n",
       "        -1.06607478e-05, -2.34982963e-05, -4.28095602e-05,\n",
       "        -1.15975617e-04,  2.67802717e-04, -2.82411133e-06,\n",
       "        -1.29801758e-05, -6.59782000e-06, -6.45101288e-06,\n",
       "        -5.77691019e-07,  0.00000000e+00,  0.00000000e+00,\n",
       "         0.00000000e+00,  0.00000000e+00,  0.00000000e+00,\n",
       "         0.00000000e+00,  0.00000000e+00,  0.00000000e+00,\n",
       "         0.00000000e+00,  0.00000000e+00,  0.00000000e+00,\n",
       "         0.00000000e+00,  0.00000000e+00,  0.00000000e+00,\n",
       "         0.00000000e+00,  0.00000000e+00,  0.00000000e+00,\n",
       "         0.00000000e+00,  0.00000000e+00,  0.00000000e+00,\n",
       "         0.00000000e+00,  0.00000000e+00,  0.00000000e+00,\n",
       "         0.00000000e+00,  0.00000000e+00,  0.00000000e+00,\n",
       "         0.00000000e+00,  0.00000000e+00,  0.00000000e+00,\n",
       "         0.00000000e+00,  0.00000000e+00,  0.00000000e+00,\n",
       "         0.00000000e+00,  0.00000000e+00,  0.00000000e+00,\n",
       "         0.00000000e+00,  0.00000000e+00,  0.00000000e+00,\n",
       "         0.00000000e+00,  0.00000000e+00,  0.00000000e+00,\n",
       "         0.00000000e+00,  0.00000000e+00,  0.00000000e+00,\n",
       "         0.00000000e+00,  0.00000000e+00,  0.00000000e+00,\n",
       "         0.00000000e+00,  0.00000000e+00,  0.00000000e+00,\n",
       "         0.00000000e+00,  0.00000000e+00,  0.00000000e+00,\n",
       "         0.00000000e+00,  0.00000000e+00,  0.00000000e+00,\n",
       "         0.00000000e+00,  0.00000000e+00,  0.00000000e+00,\n",
       "         0.00000000e+00,  0.00000000e+00,  0.00000000e+00,\n",
       "         0.00000000e+00,  0.00000000e+00,  0.00000000e+00,\n",
       "         0.00000000e+00]])"
      ]
     },
     "execution_count": 64,
     "metadata": {},
     "output_type": "execute_result"
    }
   ],
   "source": [
    "clf.coef_"
   ]
  },
  {
   "cell_type": "code",
   "execution_count": 67,
   "metadata": {},
   "outputs": [
    {
     "data": {
      "text/plain": [
       "<matplotlib.image.AxesImage at 0x158e0700748>"
      ]
     },
     "execution_count": 67,
     "metadata": {},
     "output_type": "execute_result"
    },
    {
     "data": {
      "image/png": "[encoded data removed]",
      "text/plain": [
       "<Figure size 432x288 with 1 Axes>"
      ]
     },
     "metadata": {
      "needs_background": "light"
     },
     "output_type": "display_data"
    }
   ],
   "source": [
    "# 可视化权重，颜色深的地方代表对识别0还是6的重要程度，右上角是识别0还是6很重要的一个地方\n",
    "plt.imshow(np.reshape(clf.coef_,(28,28)))"
   ]
  },
  {
   "cell_type": "code",
   "execution_count": 65,
   "metadata": {},
   "outputs": [
    {
     "data": {
      "text/plain": [
       "array([0.00050201])"
      ]
     },
     "execution_count": 65,
     "metadata": {},
     "output_type": "execute_result"
    }
   ],
   "source": [
    "clf.intercept_"
   ]
  },
  {
   "cell_type": "code",
   "execution_count": 66,
   "metadata": {},
   "outputs": [],
   "source": [
    "# Accuracy\n",
    "??clf.score"
   ]
  },
  {
   "cell_type": "code",
   "execution_count": 68,
   "metadata": {},
   "outputs": [
    {
     "data": {
      "text/plain": [
       "1.0"
      ]
     },
     "execution_count": 68,
     "metadata": {},
     "output_type": "execute_result"
    }
   ],
   "source": [
    "clf.score(binary_x_train, binary_y_train)"
   ]
  },
  {
   "cell_type": "code",
   "execution_count": 69,
   "metadata": {},
   "outputs": [
    {
     "data": {
      "text/plain": [
       "1.0"
      ]
     },
     "execution_count": 69,
     "metadata": {},
     "output_type": "execute_result"
    }
   ],
   "source": [
    "clf.score(binary_x_val, binary_y_val)"
   ]
  },
  {
   "cell_type": "code",
   "execution_count": 71,
   "metadata": {},
   "outputs": [
    {
     "data": {
      "text/plain": [
       "(1938, 784)"
      ]
     },
     "execution_count": 71,
     "metadata": {},
     "output_type": "execute_result"
    }
   ],
   "source": [
    "binary_x_test.shape"
   ]
  },
  {
   "cell_type": "code",
   "execution_count": 72,
   "metadata": {},
   "outputs": [
    {
     "data": {
      "text/plain": [
       "(1938,)"
      ]
     },
     "execution_count": 72,
     "metadata": {},
     "output_type": "execute_result"
    }
   ],
   "source": [
    "binary_y_test.shape"
   ]
  },
  {
   "cell_type": "code",
   "execution_count": 70,
   "metadata": {},
   "outputs": [
    {
     "data": {
      "text/plain": [
       "0.9850361197110423"
      ]
     },
     "execution_count": 70,
     "metadata": {},
     "output_type": "execute_result"
    }
   ],
   "source": [
    "# 典型的过拟合，train,val表现都很好，test表现一般\n",
    "clf.score(binary_x_test, binary_y_test)"
   ]
  },
  {
   "cell_type": "code",
   "execution_count": 73,
   "metadata": {},
   "outputs": [],
   "source": [
    "predicated_result = clf.predict(binary_x_test)"
   ]
  },
  {
   "cell_type": "code",
   "execution_count": 74,
   "metadata": {},
   "outputs": [
    {
     "data": {
      "text/plain": [
       "(array([ 115,  126,  417,  513,  603,  618,  621,  626,  672,  691,  697,\n",
       "         762,  960,  982,  986,  995, 1073, 1128, 1182, 1202, 1364, 1413,\n",
       "        1481, 1551, 1688, 1694, 1792, 1834, 1868], dtype=int64),)"
      ]
     },
     "execution_count": 74,
     "metadata": {},
     "output_type": "execute_result"
    }
   ],
   "source": [
    "# 测试集中，预测错的地方\n",
    "np.where(binary_y_test != predicated_result)"
   ]
  },
  {
   "cell_type": "code",
   "execution_count": 76,
   "metadata": {},
   "outputs": [
    {
     "data": {
      "text/plain": [
       "Text(0.5, 1.0, 'Actual Value: 6 ; Predict Value: 0 \\n')"
      ]
     },
     "execution_count": 76,
     "metadata": {},
     "output_type": "execute_result"
    },
    {
     "data": {
      "image/png": "[encoded data removed]",
      "text/plain": [
       "<Figure size 432x288 with 1 Axes>"
      ]
     },
     "metadata": {
      "needs_background": "light"
     },
     "output_type": "display_data"
    }
   ],
   "source": [
    "lookup_index = 126\n",
    "\n",
    "plt.imshow(np.reshape(binary_x_test[lookup_index], (28,28)))\n",
    "plt.title('Actual Value: {} ; Predict Value: {} \\n'.format(binary_y_test[lookup_index], predicated_result[lookup_index]), fontsize = 20)"
   ]
  },
  {
   "cell_type": "code",
   "execution_count": 77,
   "metadata": {},
   "outputs": [],
   "source": [
    "from sklearn import metrics"
   ]
  },
  {
   "cell_type": "code",
   "execution_count": 78,
   "metadata": {},
   "outputs": [
    {
     "data": {
      "text/plain": [
       "0"
      ]
     },
     "execution_count": 78,
     "metadata": {},
     "output_type": "execute_result"
    }
   ],
   "source": [
    "binary_y_test[0]"
   ]
  },
  {
   "cell_type": "code",
   "execution_count": 79,
   "metadata": {},
   "outputs": [
    {
     "data": {
      "text/plain": [
       "0"
      ]
     },
     "execution_count": 79,
     "metadata": {},
     "output_type": "execute_result"
    }
   ],
   "source": [
    "predicated_result[0]"
   ]
  },
  {
   "cell_type": "code",
   "execution_count": 80,
   "metadata": {},
   "outputs": [
    {
     "data": {
      "text/plain": [
       "0.9850980730569965"
      ]
     },
     "execution_count": 80,
     "metadata": {},
     "output_type": "execute_result"
    }
   ],
   "source": [
    "metrics.precision_score(binary_y_test, predicated_result, average='macro')"
   ]
  },
  {
   "cell_type": "code",
   "execution_count": 81,
   "metadata": {},
   "outputs": [
    {
     "data": {
      "text/plain": [
       "0.9884332281808622"
      ]
     },
     "execution_count": 81,
     "metadata": {},
     "output_type": "execute_result"
    }
   ],
   "source": [
    "metrics.precision_score(binary_y_test, predicated_result, pos_label=6)"
   ]
  },
  {
   "cell_type": "code",
   "execution_count": 82,
   "metadata": {},
   "outputs": [
    {
     "data": {
      "text/plain": [
       "0.9812108559498957"
      ]
     },
     "execution_count": 82,
     "metadata": {},
     "output_type": "execute_result"
    }
   ],
   "source": [
    "metrics.recall_score(binary_y_test, predicated_result, pos_label=6)"
   ]
  },
  {
   "cell_type": "code",
   "execution_count": 83,
   "metadata": {},
   "outputs": [],
   "source": [
    "fpr, tpr, threshold = metrics.roc_curve(binary_y_test, predicated_result, pos_label=6)"
   ]
  },
  {
   "cell_type": "code",
   "execution_count": 84,
   "metadata": {},
   "outputs": [
    {
     "data": {
      "text/plain": [
       "0.9849931830769887"
      ]
     },
     "execution_count": 84,
     "metadata": {},
     "output_type": "execute_result"
    }
   ],
   "source": [
    "metrics.auc(fpr, tpr)"
   ]
  },
  {
   "cell_type": "code",
   "execution_count": 85,
   "metadata": {},
   "outputs": [],
   "source": [
    "cm = metrics.confusion_matrix(binary_y_test, predicated_result)"
   ]
  },
  {
   "cell_type": "code",
   "execution_count": 86,
   "metadata": {},
   "outputs": [],
   "source": [
    "import seaborn as sn"
   ]
  },
  {
   "cell_type": "code",
   "execution_count": 87,
   "metadata": {},
   "outputs": [],
   "source": [
    "??sns.heatmap"
   ]
  },
  {
   "cell_type": "code",
   "execution_count": 88,
   "metadata": {},
   "outputs": [],
   "source": [
    "from sklearn.metrics import confusion_matrix\n",
    "\n",
    "data = confusion_matrix(binary_y_test, predicated_result)"
   ]
  },
  {
   "cell_type": "code",
   "execution_count": 89,
   "metadata": {},
   "outputs": [
    {
     "data": {
      "text/plain": [
       "array([[969,  11],\n",
       "       [ 18, 940]], dtype=int64)"
      ]
     },
     "execution_count": 89,
     "metadata": {},
     "output_type": "execute_result"
    }
   ],
   "source": [
    "data"
   ]
  },
  {
   "cell_type": "code",
   "execution_count": 90,
   "metadata": {},
   "outputs": [],
   "source": [
    "df_cm = pd.DataFrame(data, columns=np.unique(binary_y_test), index = np.unique(binary_y_test))\n",
    "\n",
    "# \n",
    "# \n",
    "# plt.figure(figsize = (10,7))\n",
    "# sn.set(font_scale=1.4)#for label size\n",
    "# sn.heatmap(df_cm, cmap=\"Blues\", annot=True,annot_kws={\"size\": 16})# font size"
   ]
  },
  {
   "cell_type": "code",
   "execution_count": 91,
   "metadata": {},
   "outputs": [],
   "source": [
    "df_cm.index.name = 'Actual'"
   ]
  },
  {
   "cell_type": "code",
   "execution_count": 92,
   "metadata": {},
   "outputs": [],
   "source": [
    "df_cm.columns.name = 'Predicted'"
   ]
  },
  {
   "cell_type": "markdown",
   "metadata": {},
   "source": [
    "#### 混淆矩阵的特殊用法\n",
    "+ 银行打电话，是否要办理信用卡分期业务，简单且好用的方法，根据已有数据，预测你是否会办理该业务，建立好模型后，银行只需要给实际上没办过但预测出来办过的人打电话，即可大大提高成单率"
   ]
  },
  {
   "cell_type": "code",
   "execution_count": 93,
   "metadata": {
    "scrolled": true
   },
   "outputs": [
    {
     "data": {
      "text/plain": [
       "<matplotlib.axes._subplots.AxesSubplot at 0x158e01623c8>"
      ]
     },
     "execution_count": 93,
     "metadata": {},
     "output_type": "execute_result"
    },
    {
     "data": {
      "image/png": "[encoded data removed]",
      "text/plain": [
       "<Figure size 720x720 with 2 Axes>"
      ]
     },
     "metadata": {
      "needs_background": "light"
     },
     "output_type": "display_data"
    }
   ],
   "source": [
    "plt.figure(figsize=(10, 10))\n",
    "sn.heatmap(df_cm, cmap='Blues', annot=True, annot_kws={\"size\": 16})"
   ]
  },
  {
   "cell_type": "markdown",
   "metadata": {},
   "source": [
    "## 课后习题\n",
    "## 导入项目相关库\n",
    "&emsp;&emsp;我们需要使用pandas进行数据处理，使用sklearn进行数据划分、标准化、模型预测等操作，使用matplotlib绘制相关图表。<br>"
   ]
  },
  {
   "cell_type": "code",
   "execution_count": 206,
   "metadata": {},
   "outputs": [],
   "source": [
    "import pandas as pd\n",
    "from sklearn.model_selection import train_test_split\n",
    "from sklearn.preprocessing import StandardScaler\n",
    "from sklearn.linear_model import LogisticRegression \n",
    "from sklearn.metrics import classification_report\n",
    "import matplotlib.pyplot as plt\n",
    "import seaborn as sns"
   ]
  },
  {
   "cell_type": "markdown",
   "metadata": {},
   "source": [
    "## 导入数据\n",
    "&emsp;&emsp;数据文件已保存在'dataSet/heart.csv'，我们可以使用read_csv函数将数据集读到内存中。<br>"
   ]
  },
  {
   "cell_type": "code",
   "execution_count": 207,
   "metadata": {},
   "outputs": [],
   "source": [
    "# 读取数据集\n",
    "dataPath = 'D:\\\\Project\\\\Study\\\\BI\\\\007\\\\bi-hx\\\\4\\\\heart.csv'\n",
    "data = pd.read_csv(dataPath)"
   ]
  },
  {
   "cell_type": "markdown",
   "metadata": {},
   "source": [
    "## 了解数据集\n",
    "&emsp;&emsp;首先让我们来看看数据内容，以便对数据集有个初步了解。"
   ]
  },
  {
   "cell_type": "code",
   "execution_count": 208,
   "metadata": {},
   "outputs": [
    {
     "data": {
      "text/html": [
       "<div>\n",
       "<style scoped>\n",
       "    .dataframe tbody tr th:only-of-type {\n",
       "        vertical-align: middle;\n",
       "    }\n",
       "\n",
       "    .dataframe tbody tr th {\n",
       "        vertical-align: top;\n",
       "    }\n",
       "\n",
       "    .dataframe thead th {\n",
       "        text-align: right;\n",
       "    }\n",
       "</style>\n",
       "<table border=\"1\" class=\"dataframe\">\n",
       "  <thead>\n",
       "    <tr style=\"text-align: right;\">\n",
       "      <th></th>\n",
       "      <th>age</th>\n",
       "      <th>sex</th>\n",
       "      <th>cp</th>\n",
       "      <th>trestbps</th>\n",
       "      <th>chol</th>\n",
       "      <th>fbs</th>\n",
       "      <th>restecg</th>\n",
       "      <th>thalach</th>\n",
       "      <th>exang</th>\n",
       "      <th>oldpeak</th>\n",
       "      <th>slope</th>\n",
       "      <th>ca</th>\n",
       "      <th>thal</th>\n",
       "      <th>target</th>\n",
       "    </tr>\n",
       "  </thead>\n",
       "  <tbody>\n",
       "    <tr>\n",
       "      <th>0</th>\n",
       "      <td>63</td>\n",
       "      <td>1</td>\n",
       "      <td>3</td>\n",
       "      <td>145</td>\n",
       "      <td>233</td>\n",
       "      <td>1</td>\n",
       "      <td>0</td>\n",
       "      <td>150</td>\n",
       "      <td>0</td>\n",
       "      <td>2.3</td>\n",
       "      <td>0</td>\n",
       "      <td>0</td>\n",
       "      <td>1</td>\n",
       "      <td>1</td>\n",
       "    </tr>\n",
       "    <tr>\n",
       "      <th>1</th>\n",
       "      <td>37</td>\n",
       "      <td>1</td>\n",
       "      <td>2</td>\n",
       "      <td>130</td>\n",
       "      <td>250</td>\n",
       "      <td>0</td>\n",
       "      <td>1</td>\n",
       "      <td>187</td>\n",
       "      <td>0</td>\n",
       "      <td>3.5</td>\n",
       "      <td>0</td>\n",
       "      <td>0</td>\n",
       "      <td>2</td>\n",
       "      <td>1</td>\n",
       "    </tr>\n",
       "    <tr>\n",
       "      <th>2</th>\n",
       "      <td>41</td>\n",
       "      <td>0</td>\n",
       "      <td>1</td>\n",
       "      <td>130</td>\n",
       "      <td>204</td>\n",
       "      <td>0</td>\n",
       "      <td>0</td>\n",
       "      <td>172</td>\n",
       "      <td>0</td>\n",
       "      <td>1.4</td>\n",
       "      <td>2</td>\n",
       "      <td>0</td>\n",
       "      <td>2</td>\n",
       "      <td>1</td>\n",
       "    </tr>\n",
       "    <tr>\n",
       "      <th>3</th>\n",
       "      <td>56</td>\n",
       "      <td>1</td>\n",
       "      <td>1</td>\n",
       "      <td>120</td>\n",
       "      <td>236</td>\n",
       "      <td>0</td>\n",
       "      <td>1</td>\n",
       "      <td>178</td>\n",
       "      <td>0</td>\n",
       "      <td>0.8</td>\n",
       "      <td>2</td>\n",
       "      <td>0</td>\n",
       "      <td>2</td>\n",
       "      <td>1</td>\n",
       "    </tr>\n",
       "    <tr>\n",
       "      <th>4</th>\n",
       "      <td>57</td>\n",
       "      <td>0</td>\n",
       "      <td>0</td>\n",
       "      <td>120</td>\n",
       "      <td>354</td>\n",
       "      <td>0</td>\n",
       "      <td>1</td>\n",
       "      <td>163</td>\n",
       "      <td>1</td>\n",
       "      <td>0.6</td>\n",
       "      <td>2</td>\n",
       "      <td>0</td>\n",
       "      <td>2</td>\n",
       "      <td>1</td>\n",
       "    </tr>\n",
       "  </tbody>\n",
       "</table>\n",
       "</div>"
      ],
      "text/plain": [
       "   age  sex  cp  trestbps  chol  fbs  restecg  thalach  exang  oldpeak  slope  \\\n",
       "0   63    1   3       145   233    1        0      150      0      2.3      0   \n",
       "1   37    1   2       130   250    0        1      187      0      3.5      0   \n",
       "2   41    0   1       130   204    0        0      172      0      1.4      2   \n",
       "3   56    1   1       120   236    0        1      178      0      0.8      2   \n",
       "4   57    0   0       120   354    0        1      163      1      0.6      2   \n",
       "\n",
       "   ca  thal  target  \n",
       "0   0     1       1  \n",
       "1   0     2       1  \n",
       "2   0     2       1  \n",
       "3   0     2       1  \n",
       "4   0     2       1  "
      ]
     },
     "execution_count": 208,
     "metadata": {},
     "output_type": "execute_result"
    }
   ],
   "source": [
    "# 使用.head()函数可以查看数据集的头部数据\n",
    "data.head()"
   ]
  },
  {
   "cell_type": "code",
   "execution_count": 209,
   "metadata": {},
   "outputs": [
    {
     "name": "stdout",
     "output_type": "stream",
     "text": [
      "<class 'pandas.core.frame.DataFrame'>\n",
      "RangeIndex: 303 entries, 0 to 302\n",
      "Data columns (total 14 columns):\n",
      " #   Column    Non-Null Count  Dtype  \n",
      "---  ------    --------------  -----  \n",
      " 0   age       303 non-null    int64  \n",
      " 1   sex       303 non-null    int64  \n",
      " 2   cp        303 non-null    int64  \n",
      " 3   trestbps  303 non-null    int64  \n",
      " 4   chol      303 non-null    int64  \n",
      " 5   fbs       303 non-null    int64  \n",
      " 6   restecg   303 non-null    int64  \n",
      " 7   thalach   303 non-null    int64  \n",
      " 8   exang     303 non-null    int64  \n",
      " 9   oldpeak   303 non-null    float64\n",
      " 10  slope     303 non-null    int64  \n",
      " 11  ca        303 non-null    int64  \n",
      " 12  thal      303 non-null    int64  \n",
      " 13  target    303 non-null    int64  \n",
      "dtypes: float64(1), int64(13)\n",
      "memory usage: 33.3 KB\n"
     ]
    }
   ],
   "source": [
    "# 使用.info()函数可以查看数据集的主要信息\n",
    "data.info()"
   ]
  },
  {
   "cell_type": "code",
   "execution_count": 210,
   "metadata": {},
   "outputs": [
    {
     "data": {
      "text/html": [
       "<div>\n",
       "<style scoped>\n",
       "    .dataframe tbody tr th:only-of-type {\n",
       "        vertical-align: middle;\n",
       "    }\n",
       "\n",
       "    .dataframe tbody tr th {\n",
       "        vertical-align: top;\n",
       "    }\n",
       "\n",
       "    .dataframe thead th {\n",
       "        text-align: right;\n",
       "    }\n",
       "</style>\n",
       "<table border=\"1\" class=\"dataframe\">\n",
       "  <thead>\n",
       "    <tr style=\"text-align: right;\">\n",
       "      <th></th>\n",
       "      <th>age</th>\n",
       "      <th>sex</th>\n",
       "      <th>cp</th>\n",
       "      <th>trestbps</th>\n",
       "      <th>chol</th>\n",
       "      <th>fbs</th>\n",
       "      <th>restecg</th>\n",
       "      <th>thalach</th>\n",
       "      <th>exang</th>\n",
       "      <th>oldpeak</th>\n",
       "      <th>slope</th>\n",
       "      <th>ca</th>\n",
       "      <th>thal</th>\n",
       "      <th>target</th>\n",
       "    </tr>\n",
       "  </thead>\n",
       "  <tbody>\n",
       "    <tr>\n",
       "      <th>count</th>\n",
       "      <td>303.000000</td>\n",
       "      <td>303.000000</td>\n",
       "      <td>303.000000</td>\n",
       "      <td>303.000000</td>\n",
       "      <td>303.000000</td>\n",
       "      <td>303.000000</td>\n",
       "      <td>303.000000</td>\n",
       "      <td>303.000000</td>\n",
       "      <td>303.000000</td>\n",
       "      <td>303.000000</td>\n",
       "      <td>303.000000</td>\n",
       "      <td>303.000000</td>\n",
       "      <td>303.000000</td>\n",
       "      <td>303.000000</td>\n",
       "    </tr>\n",
       "    <tr>\n",
       "      <th>mean</th>\n",
       "      <td>54.366337</td>\n",
       "      <td>0.683168</td>\n",
       "      <td>0.966997</td>\n",
       "      <td>131.623762</td>\n",
       "      <td>246.264026</td>\n",
       "      <td>0.148515</td>\n",
       "      <td>0.528053</td>\n",
       "      <td>149.646865</td>\n",
       "      <td>0.326733</td>\n",
       "      <td>1.039604</td>\n",
       "      <td>1.399340</td>\n",
       "      <td>0.729373</td>\n",
       "      <td>2.313531</td>\n",
       "      <td>0.544554</td>\n",
       "    </tr>\n",
       "    <tr>\n",
       "      <th>std</th>\n",
       "      <td>9.082101</td>\n",
       "      <td>0.466011</td>\n",
       "      <td>1.032052</td>\n",
       "      <td>17.538143</td>\n",
       "      <td>51.830751</td>\n",
       "      <td>0.356198</td>\n",
       "      <td>0.525860</td>\n",
       "      <td>22.905161</td>\n",
       "      <td>0.469794</td>\n",
       "      <td>1.161075</td>\n",
       "      <td>0.616226</td>\n",
       "      <td>1.022606</td>\n",
       "      <td>0.612277</td>\n",
       "      <td>0.498835</td>\n",
       "    </tr>\n",
       "    <tr>\n",
       "      <th>min</th>\n",
       "      <td>29.000000</td>\n",
       "      <td>0.000000</td>\n",
       "      <td>0.000000</td>\n",
       "      <td>94.000000</td>\n",
       "      <td>126.000000</td>\n",
       "      <td>0.000000</td>\n",
       "      <td>0.000000</td>\n",
       "      <td>71.000000</td>\n",
       "      <td>0.000000</td>\n",
       "      <td>0.000000</td>\n",
       "      <td>0.000000</td>\n",
       "      <td>0.000000</td>\n",
       "      <td>0.000000</td>\n",
       "      <td>0.000000</td>\n",
       "    </tr>\n",
       "    <tr>\n",
       "      <th>25%</th>\n",
       "      <td>47.500000</td>\n",
       "      <td>0.000000</td>\n",
       "      <td>0.000000</td>\n",
       "      <td>120.000000</td>\n",
       "      <td>211.000000</td>\n",
       "      <td>0.000000</td>\n",
       "      <td>0.000000</td>\n",
       "      <td>133.500000</td>\n",
       "      <td>0.000000</td>\n",
       "      <td>0.000000</td>\n",
       "      <td>1.000000</td>\n",
       "      <td>0.000000</td>\n",
       "      <td>2.000000</td>\n",
       "      <td>0.000000</td>\n",
       "    </tr>\n",
       "    <tr>\n",
       "      <th>50%</th>\n",
       "      <td>55.000000</td>\n",
       "      <td>1.000000</td>\n",
       "      <td>1.000000</td>\n",
       "      <td>130.000000</td>\n",
       "      <td>240.000000</td>\n",
       "      <td>0.000000</td>\n",
       "      <td>1.000000</td>\n",
       "      <td>153.000000</td>\n",
       "      <td>0.000000</td>\n",
       "      <td>0.800000</td>\n",
       "      <td>1.000000</td>\n",
       "      <td>0.000000</td>\n",
       "      <td>2.000000</td>\n",
       "      <td>1.000000</td>\n",
       "    </tr>\n",
       "    <tr>\n",
       "      <th>75%</th>\n",
       "      <td>61.000000</td>\n",
       "      <td>1.000000</td>\n",
       "      <td>2.000000</td>\n",
       "      <td>140.000000</td>\n",
       "      <td>274.500000</td>\n",
       "      <td>0.000000</td>\n",
       "      <td>1.000000</td>\n",
       "      <td>166.000000</td>\n",
       "      <td>1.000000</td>\n",
       "      <td>1.600000</td>\n",
       "      <td>2.000000</td>\n",
       "      <td>1.000000</td>\n",
       "      <td>3.000000</td>\n",
       "      <td>1.000000</td>\n",
       "    </tr>\n",
       "    <tr>\n",
       "      <th>max</th>\n",
       "      <td>77.000000</td>\n",
       "      <td>1.000000</td>\n",
       "      <td>3.000000</td>\n",
       "      <td>200.000000</td>\n",
       "      <td>564.000000</td>\n",
       "      <td>1.000000</td>\n",
       "      <td>2.000000</td>\n",
       "      <td>202.000000</td>\n",
       "      <td>1.000000</td>\n",
       "      <td>6.200000</td>\n",
       "      <td>2.000000</td>\n",
       "      <td>4.000000</td>\n",
       "      <td>3.000000</td>\n",
       "      <td>1.000000</td>\n",
       "    </tr>\n",
       "  </tbody>\n",
       "</table>\n",
       "</div>"
      ],
      "text/plain": [
       "              age         sex          cp    trestbps        chol         fbs  \\\n",
       "count  303.000000  303.000000  303.000000  303.000000  303.000000  303.000000   \n",
       "mean    54.366337    0.683168    0.966997  131.623762  246.264026    0.148515   \n",
       "std      9.082101    0.466011    1.032052   17.538143   51.830751    0.356198   \n",
       "min     29.000000    0.000000    0.000000   94.000000  126.000000    0.000000   \n",
       "25%     47.500000    0.000000    0.000000  120.000000  211.000000    0.000000   \n",
       "50%     55.000000    1.000000    1.000000  130.000000  240.000000    0.000000   \n",
       "75%     61.000000    1.000000    2.000000  140.000000  274.500000    0.000000   \n",
       "max     77.000000    1.000000    3.000000  200.000000  564.000000    1.000000   \n",
       "\n",
       "          restecg     thalach       exang     oldpeak       slope          ca  \\\n",
       "count  303.000000  303.000000  303.000000  303.000000  303.000000  303.000000   \n",
       "mean     0.528053  149.646865    0.326733    1.039604    1.399340    0.729373   \n",
       "std      0.525860   22.905161    0.469794    1.161075    0.616226    1.022606   \n",
       "min      0.000000   71.000000    0.000000    0.000000    0.000000    0.000000   \n",
       "25%      0.000000  133.500000    0.000000    0.000000    1.000000    0.000000   \n",
       "50%      1.000000  153.000000    0.000000    0.800000    1.000000    0.000000   \n",
       "75%      1.000000  166.000000    1.000000    1.600000    2.000000    1.000000   \n",
       "max      2.000000  202.000000    1.000000    6.200000    2.000000    4.000000   \n",
       "\n",
       "             thal      target  \n",
       "count  303.000000  303.000000  \n",
       "mean     2.313531    0.544554  \n",
       "std      0.612277    0.498835  \n",
       "min      0.000000    0.000000  \n",
       "25%      2.000000    0.000000  \n",
       "50%      2.000000    1.000000  \n",
       "75%      3.000000    1.000000  \n",
       "max      3.000000    1.000000  "
      ]
     },
     "execution_count": 210,
     "metadata": {},
     "output_type": "execute_result"
    }
   ],
   "source": [
    "# 使用.describe()函数可以查看数据的统计信息\n",
    "# 统计信息包括总数、均值、方差、最小值、第一四分位数、第二四分位数、第三四分位数、最大值。\n",
    "data.describe()"
   ]
  },
  {
   "cell_type": "code",
   "execution_count": 211,
   "metadata": {},
   "outputs": [
    {
     "data": {
      "text/plain": [
       "([<matplotlib.patches.Wedge at 0x158df803408>,\n",
       "  <matplotlib.patches.Wedge at 0x158df81cfc8>],\n",
       " [Text(-0.1604426989002982, 1.1387528881937419, 'Sick'),\n",
       "  Text(0.16044280551803777, -1.1387528731720071, 'Not sick')],\n",
       " [Text(-0.07673346469144694, 0.5446209465274416, '54.5%'),\n",
       "  Text(0.0767335156825398, -0.5446209393431338, '45.5%')])"
      ]
     },
     "execution_count": 211,
     "metadata": {},
     "output_type": "execute_result"
    },
    {
     "data": {
      "image/png": "[encoded data removed]",
      "text/plain": [
       "<Figure size 720x432 with 1 Axes>"
      ]
     },
     "metadata": {},
     "output_type": "display_data"
    }
   ],
   "source": [
    "# 下面我们来看一看303人里有多少人被确诊为病患。\n",
    "pie, ax = plt.subplots(figsize=[10,6])\n",
    "plt.pie(x=data['target'].value_counts(), autopct=\"%.1f%%\", explode=[0.05]*2, labels=['Sick', 'Not sick'], pctdistance=0.5)"
   ]
  },
  {
   "cell_type": "markdown",
   "metadata": {},
   "source": [
    "*Tips：一般来说，在数据处理或模型预测之前，我们可以检查一下各项特征的相关系数，如果有两个特征之间的相关系数极高，则代表这两个特征内容高度重复，或许可以在特征筛选的时候删除其一；如果某个特征与被预测项之间的相关系数极高，则代表这个特征很重要，需要保留。*"
   ]
  },
  {
   "cell_type": "code",
   "execution_count": 212,
   "metadata": {},
   "outputs": [
    {
     "data": {
      "image/png": "[encoded data removed]",
      "text/plain": [
       "<Figure size 1296x864 with 2 Axes>"
      ]
     },
     "metadata": {
      "needs_background": "light"
     },
     "output_type": "display_data"
    }
   ],
   "source": [
    "# 查看特征相关系数图\n",
    "# 颜色越暖代表相关系数越高；颜色越冷代表相关系数越低。\n",
    "fig = plt.figure(figsize=(18,12))\n",
    "ax = plt.subplot(1,1,1)\n",
    "sns.heatmap(data.corr(),ax= ax, cmap='coolwarm');"
   ]
  },
  {
   "cell_type": "code",
   "execution_count": 213,
   "metadata": {},
   "outputs": [
    {
     "data": {
      "text/html": [
       "<style  type=\"text/css\" >\n",
       "    #T_80a7e56e_8143_11eb_a76c_f48c50c59f44row0_col0 {\n",
       "            background-color:  #b40426;\n",
       "            color:  #f1f1f1;\n",
       "        }    #T_80a7e56e_8143_11eb_a76c_f48c50c59f44row0_col1 {\n",
       "            background-color:  #6788ee;\n",
       "            color:  #000000;\n",
       "        }    #T_80a7e56e_8143_11eb_a76c_f48c50c59f44row0_col2 {\n",
       "            background-color:  #86a9fc;\n",
       "            color:  #000000;\n",
       "        }    #T_80a7e56e_8143_11eb_a76c_f48c50c59f44row0_col3 {\n",
       "            background-color:  #b6cefa;\n",
       "            color:  #000000;\n",
       "        }    #T_80a7e56e_8143_11eb_a76c_f48c50c59f44row0_col4 {\n",
       "            background-color:  #adc9fd;\n",
       "            color:  #000000;\n",
       "        }    #T_80a7e56e_8143_11eb_a76c_f48c50c59f44row0_col5 {\n",
       "            background-color:  #779af7;\n",
       "            color:  #000000;\n",
       "        }    #T_80a7e56e_8143_11eb_a76c_f48c50c59f44row0_col6 {\n",
       "            background-color:  #4358cb;\n",
       "            color:  #f1f1f1;\n",
       "        }    #T_80a7e56e_8143_11eb_a76c_f48c50c59f44row0_col7 {\n",
       "            background-color:  #3b4cc0;\n",
       "            color:  #f1f1f1;\n",
       "        }    #T_80a7e56e_8143_11eb_a76c_f48c50c59f44row0_col8 {\n",
       "            background-color:  #b7cff9;\n",
       "            color:  #000000;\n",
       "        }    #T_80a7e56e_8143_11eb_a76c_f48c50c59f44row0_col9 {\n",
       "            background-color:  #dcdddd;\n",
       "            color:  #000000;\n",
       "        }    #T_80a7e56e_8143_11eb_a76c_f48c50c59f44row0_col10 {\n",
       "            background-color:  #90b2fe;\n",
       "            color:  #000000;\n",
       "        }    #T_80a7e56e_8143_11eb_a76c_f48c50c59f44row0_col11 {\n",
       "            background-color:  #d7dce3;\n",
       "            color:  #000000;\n",
       "        }    #T_80a7e56e_8143_11eb_a76c_f48c50c59f44row0_col12 {\n",
       "            background-color:  #a1c0ff;\n",
       "            color:  #000000;\n",
       "        }    #T_80a7e56e_8143_11eb_a76c_f48c50c59f44row0_col13 {\n",
       "            background-color:  #688aef;\n",
       "            color:  #000000;\n",
       "        }    #T_80a7e56e_8143_11eb_a76c_f48c50c59f44row1_col0 {\n",
       "            background-color:  #80a3fa;\n",
       "            color:  #000000;\n",
       "        }    #T_80a7e56e_8143_11eb_a76c_f48c50c59f44row1_col1 {\n",
       "            background-color:  #b40426;\n",
       "            color:  #f1f1f1;\n",
       "        }    #T_80a7e56e_8143_11eb_a76c_f48c50c59f44row1_col2 {\n",
       "            background-color:  #8caffe;\n",
       "            color:  #000000;\n",
       "        }    #T_80a7e56e_8143_11eb_a76c_f48c50c59f44row1_col3 {\n",
       "            background-color:  #516ddb;\n",
       "            color:  #000000;\n",
       "        }    #T_80a7e56e_8143_11eb_a76c_f48c50c59f44row1_col4 {\n",
       "            background-color:  #3b4cc0;\n",
       "            color:  #f1f1f1;\n",
       "        }    #T_80a7e56e_8143_11eb_a76c_f48c50c59f44row1_col5 {\n",
       "            background-color:  #5f7fe8;\n",
       "            color:  #000000;\n",
       "        }    #T_80a7e56e_8143_11eb_a76c_f48c50c59f44row1_col6 {\n",
       "            background-color:  #536edd;\n",
       "            color:  #000000;\n",
       "        }    #T_80a7e56e_8143_11eb_a76c_f48c50c59f44row1_col7 {\n",
       "            background-color:  #8db0fe;\n",
       "            color:  #000000;\n",
       "        }    #T_80a7e56e_8143_11eb_a76c_f48c50c59f44row1_col8 {\n",
       "            background-color:  #c1d4f4;\n",
       "            color:  #000000;\n",
       "        }    #T_80a7e56e_8143_11eb_a76c_f48c50c59f44row1_col9 {\n",
       "            background-color:  #c9d7f0;\n",
       "            color:  #000000;\n",
       "        }    #T_80a7e56e_8143_11eb_a76c_f48c50c59f44row1_col10 {\n",
       "            background-color:  #aec9fc;\n",
       "            color:  #000000;\n",
       "        }    #T_80a7e56e_8143_11eb_a76c_f48c50c59f44row1_col11 {\n",
       "            background-color:  #b5cdfa;\n",
       "            color:  #000000;\n",
       "        }    #T_80a7e56e_8143_11eb_a76c_f48c50c59f44row1_col12 {\n",
       "            background-color:  #c4d5f3;\n",
       "            color:  #000000;\n",
       "        }    #T_80a7e56e_8143_11eb_a76c_f48c50c59f44row1_col13 {\n",
       "            background-color:  #5b7ae5;\n",
       "            color:  #000000;\n",
       "        }    #T_80a7e56e_8143_11eb_a76c_f48c50c59f44row2_col0 {\n",
       "            background-color:  #88abfd;\n",
       "            color:  #000000;\n",
       "        }    #T_80a7e56e_8143_11eb_a76c_f48c50c59f44row2_col1 {\n",
       "            background-color:  #7597f6;\n",
       "            color:  #000000;\n",
       "        }    #T_80a7e56e_8143_11eb_a76c_f48c50c59f44row2_col2 {\n",
       "            background-color:  #b40426;\n",
       "            color:  #f1f1f1;\n",
       "        }    #T_80a7e56e_8143_11eb_a76c_f48c50c59f44row2_col3 {\n",
       "            background-color:  #7093f3;\n",
       "            color:  #000000;\n",
       "        }    #T_80a7e56e_8143_11eb_a76c_f48c50c59f44row2_col4 {\n",
       "            background-color:  #5977e3;\n",
       "            color:  #000000;\n",
       "        }    #T_80a7e56e_8143_11eb_a76c_f48c50c59f44row2_col5 {\n",
       "            background-color:  #6f92f3;\n",
       "            color:  #000000;\n",
       "        }    #T_80a7e56e_8143_11eb_a76c_f48c50c59f44row2_col6 {\n",
       "            background-color:  #7093f3;\n",
       "            color:  #000000;\n",
       "        }    #T_80a7e56e_8143_11eb_a76c_f48c50c59f44row2_col7 {\n",
       "            background-color:  #dcdddd;\n",
       "            color:  #000000;\n",
       "        }    #T_80a7e56e_8143_11eb_a76c_f48c50c59f44row2_col8 {\n",
       "            background-color:  #4358cb;\n",
       "            color:  #f1f1f1;\n",
       "        }    #T_80a7e56e_8143_11eb_a76c_f48c50c59f44row2_col9 {\n",
       "            background-color:  #94b6ff;\n",
       "            color:  #000000;\n",
       "        }    #T_80a7e56e_8143_11eb_a76c_f48c50c59f44row2_col10 {\n",
       "            background-color:  #cdd9ec;\n",
       "            color:  #000000;\n",
       "        }    #T_80a7e56e_8143_11eb_a76c_f48c50c59f44row2_col11 {\n",
       "            background-color:  #6a8bef;\n",
       "            color:  #000000;\n",
       "        }    #T_80a7e56e_8143_11eb_a76c_f48c50c59f44row2_col12 {\n",
       "            background-color:  #6485ec;\n",
       "            color:  #000000;\n",
       "        }    #T_80a7e56e_8143_11eb_a76c_f48c50c59f44row2_col13 {\n",
       "            background-color:  #f2c9b4;\n",
       "            color:  #000000;\n",
       "        }    #T_80a7e56e_8143_11eb_a76c_f48c50c59f44row3_col0 {\n",
       "            background-color:  #d9dce1;\n",
       "            color:  #000000;\n",
       "        }    #T_80a7e56e_8143_11eb_a76c_f48c50c59f44row3_col1 {\n",
       "            background-color:  #7295f4;\n",
       "            color:  #000000;\n",
       "        }    #T_80a7e56e_8143_11eb_a76c_f48c50c59f44row3_col2 {\n",
       "            background-color:  #a5c3fe;\n",
       "            color:  #000000;\n",
       "        }    #T_80a7e56e_8143_11eb_a76c_f48c50c59f44row3_col3 {\n",
       "            background-color:  #b40426;\n",
       "            color:  #f1f1f1;\n",
       "        }    #T_80a7e56e_8143_11eb_a76c_f48c50c59f44row3_col4 {\n",
       "            background-color:  #93b5fe;\n",
       "            color:  #000000;\n",
       "        }    #T_80a7e56e_8143_11eb_a76c_f48c50c59f44row3_col5 {\n",
       "            background-color:  #89acfd;\n",
       "            color:  #000000;\n",
       "        }    #T_80a7e56e_8143_11eb_a76c_f48c50c59f44row3_col6 {\n",
       "            background-color:  #445acc;\n",
       "            color:  #f1f1f1;\n",
       "        }    #T_80a7e56e_8143_11eb_a76c_f48c50c59f44row3_col7 {\n",
       "            background-color:  #8db0fe;\n",
       "            color:  #000000;\n",
       "        }    #T_80a7e56e_8143_11eb_a76c_f48c50c59f44row3_col8 {\n",
       "            background-color:  #afcafc;\n",
       "            color:  #000000;\n",
       "        }    #T_80a7e56e_8143_11eb_a76c_f48c50c59f44row3_col9 {\n",
       "            background-color:  #dadce0;\n",
       "            color:  #000000;\n",
       "        }    #T_80a7e56e_8143_11eb_a76c_f48c50c59f44row3_col10 {\n",
       "            background-color:  #9bbcff;\n",
       "            color:  #000000;\n",
       "        }    #T_80a7e56e_8143_11eb_a76c_f48c50c59f44row3_col11 {\n",
       "            background-color:  #b1cbfc;\n",
       "            color:  #000000;\n",
       "        }    #T_80a7e56e_8143_11eb_a76c_f48c50c59f44row3_col12 {\n",
       "            background-color:  #9fbfff;\n",
       "            color:  #000000;\n",
       "        }    #T_80a7e56e_8143_11eb_a76c_f48c50c59f44row3_col13 {\n",
       "            background-color:  #7b9ff9;\n",
       "            color:  #000000;\n",
       "        }    #T_80a7e56e_8143_11eb_a76c_f48c50c59f44row4_col0 {\n",
       "            background-color:  #ccd9ed;\n",
       "            color:  #000000;\n",
       "        }    #T_80a7e56e_8143_11eb_a76c_f48c50c59f44row4_col1 {\n",
       "            background-color:  #4e68d8;\n",
       "            color:  #000000;\n",
       "        }    #T_80a7e56e_8143_11eb_a76c_f48c50c59f44row4_col2 {\n",
       "            background-color:  #85a8fc;\n",
       "            color:  #000000;\n",
       "        }    #T_80a7e56e_8143_11eb_a76c_f48c50c59f44row4_col3 {\n",
       "            background-color:  #86a9fc;\n",
       "            color:  #000000;\n",
       "        }    #T_80a7e56e_8143_11eb_a76c_f48c50c59f44row4_col4 {\n",
       "            background-color:  #b40426;\n",
       "            color:  #f1f1f1;\n",
       "        }    #T_80a7e56e_8143_11eb_a76c_f48c50c59f44row4_col5 {\n",
       "            background-color:  #5673e0;\n",
       "            color:  #000000;\n",
       "        }    #T_80a7e56e_8143_11eb_a76c_f48c50c59f44row4_col6 {\n",
       "            background-color:  #3b4cc0;\n",
       "            color:  #f1f1f1;\n",
       "        }    #T_80a7e56e_8143_11eb_a76c_f48c50c59f44row4_col7 {\n",
       "            background-color:  #97b8ff;\n",
       "            color:  #000000;\n",
       "        }    #T_80a7e56e_8143_11eb_a76c_f48c50c59f44row4_col8 {\n",
       "            background-color:  #afcafc;\n",
       "            color:  #000000;\n",
       "        }    #T_80a7e56e_8143_11eb_a76c_f48c50c59f44row4_col9 {\n",
       "            background-color:  #c0d4f5;\n",
       "            color:  #000000;\n",
       "        }    #T_80a7e56e_8143_11eb_a76c_f48c50c59f44row4_col10 {\n",
       "            background-color:  #b5cdfa;\n",
       "            color:  #000000;\n",
       "        }    #T_80a7e56e_8143_11eb_a76c_f48c50c59f44row4_col11 {\n",
       "            background-color:  #aac7fd;\n",
       "            color:  #000000;\n",
       "        }    #T_80a7e56e_8143_11eb_a76c_f48c50c59f44row4_col12 {\n",
       "            background-color:  #a9c6fd;\n",
       "            color:  #000000;\n",
       "        }    #T_80a7e56e_8143_11eb_a76c_f48c50c59f44row4_col13 {\n",
       "            background-color:  #8badfd;\n",
       "            color:  #000000;\n",
       "        }    #T_80a7e56e_8143_11eb_a76c_f48c50c59f44row5_col0 {\n",
       "            background-color:  #b7cff9;\n",
       "            color:  #000000;\n",
       "        }    #T_80a7e56e_8143_11eb_a76c_f48c50c59f44row5_col1 {\n",
       "            background-color:  #8fb1fe;\n",
       "            color:  #000000;\n",
       "        }    #T_80a7e56e_8143_11eb_a76c_f48c50c59f44row5_col2 {\n",
       "            background-color:  #afcafc;\n",
       "            color:  #000000;\n",
       "        }    #T_80a7e56e_8143_11eb_a76c_f48c50c59f44row5_col3 {\n",
       "            background-color:  #98b9ff;\n",
       "            color:  #000000;\n",
       "        }    #T_80a7e56e_8143_11eb_a76c_f48c50c59f44row5_col4 {\n",
       "            background-color:  #7396f5;\n",
       "            color:  #000000;\n",
       "        }    #T_80a7e56e_8143_11eb_a76c_f48c50c59f44row5_col5 {\n",
       "            background-color:  #b40426;\n",
       "            color:  #f1f1f1;\n",
       "        }    #T_80a7e56e_8143_11eb_a76c_f48c50c59f44row5_col6 {\n",
       "            background-color:  #4b64d5;\n",
       "            color:  #f1f1f1;\n",
       "        }    #T_80a7e56e_8143_11eb_a76c_f48c50c59f44row5_col7 {\n",
       "            background-color:  #97b8ff;\n",
       "            color:  #000000;\n",
       "        }    #T_80a7e56e_8143_11eb_a76c_f48c50c59f44row5_col8 {\n",
       "            background-color:  #a6c4fe;\n",
       "            color:  #000000;\n",
       "        }    #T_80a7e56e_8143_11eb_a76c_f48c50c59f44row5_col9 {\n",
       "            background-color:  #b6cefa;\n",
       "            color:  #000000;\n",
       "        }    #T_80a7e56e_8143_11eb_a76c_f48c50c59f44row5_col10 {\n",
       "            background-color:  #a9c6fd;\n",
       "            color:  #000000;\n",
       "        }    #T_80a7e56e_8143_11eb_a76c_f48c50c59f44row5_col11 {\n",
       "            background-color:  #bad0f8;\n",
       "            color:  #000000;\n",
       "        }    #T_80a7e56e_8143_11eb_a76c_f48c50c59f44row5_col12 {\n",
       "            background-color:  #86a9fc;\n",
       "            color:  #000000;\n",
       "        }    #T_80a7e56e_8143_11eb_a76c_f48c50c59f44row5_col13 {\n",
       "            background-color:  #98b9ff;\n",
       "            color:  #000000;\n",
       "        }    #T_80a7e56e_8143_11eb_a76c_f48c50c59f44row6_col0 {\n",
       "            background-color:  #7b9ff9;\n",
       "            color:  #000000;\n",
       "        }    #T_80a7e56e_8143_11eb_a76c_f48c50c59f44row6_col1 {\n",
       "            background-color:  #7295f4;\n",
       "            color:  #000000;\n",
       "        }    #T_80a7e56e_8143_11eb_a76c_f48c50c59f44row6_col2 {\n",
       "            background-color:  #a3c2fe;\n",
       "            color:  #000000;\n",
       "        }    #T_80a7e56e_8143_11eb_a76c_f48c50c59f44row6_col3 {\n",
       "            background-color:  #4257c9;\n",
       "            color:  #f1f1f1;\n",
       "        }    #T_80a7e56e_8143_11eb_a76c_f48c50c59f44row6_col4 {\n",
       "            background-color:  #465ecf;\n",
       "            color:  #f1f1f1;\n",
       "        }    #T_80a7e56e_8143_11eb_a76c_f48c50c59f44row6_col5 {\n",
       "            background-color:  #3b4cc0;\n",
       "            color:  #f1f1f1;\n",
       "        }    #T_80a7e56e_8143_11eb_a76c_f48c50c59f44row6_col6 {\n",
       "            background-color:  #b40426;\n",
       "            color:  #f1f1f1;\n",
       "        }    #T_80a7e56e_8143_11eb_a76c_f48c50c59f44row6_col7 {\n",
       "            background-color:  #a5c3fe;\n",
       "            color:  #000000;\n",
       "        }    #T_80a7e56e_8143_11eb_a76c_f48c50c59f44row6_col8 {\n",
       "            background-color:  #8fb1fe;\n",
       "            color:  #000000;\n",
       "        }    #T_80a7e56e_8143_11eb_a76c_f48c50c59f44row6_col9 {\n",
       "            background-color:  #a9c6fd;\n",
       "            color:  #000000;\n",
       "        }    #T_80a7e56e_8143_11eb_a76c_f48c50c59f44row6_col10 {\n",
       "            background-color:  #c7d7f0;\n",
       "            color:  #000000;\n",
       "        }    #T_80a7e56e_8143_11eb_a76c_f48c50c59f44row6_col11 {\n",
       "            background-color:  #85a8fc;\n",
       "            color:  #000000;\n",
       "        }    #T_80a7e56e_8143_11eb_a76c_f48c50c59f44row6_col12 {\n",
       "            background-color:  #8caffe;\n",
       "            color:  #000000;\n",
       "        }    #T_80a7e56e_8143_11eb_a76c_f48c50c59f44row6_col13 {\n",
       "            background-color:  #c0d4f5;\n",
       "            color:  #000000;\n",
       "        }    #T_80a7e56e_8143_11eb_a76c_f48c50c59f44row7_col0 {\n",
       "            background-color:  #3b4cc0;\n",
       "            color:  #f1f1f1;\n",
       "        }    #T_80a7e56e_8143_11eb_a76c_f48c50c59f44row7_col1 {\n",
       "            background-color:  #7699f6;\n",
       "            color:  #000000;\n",
       "        }    #T_80a7e56e_8143_11eb_a76c_f48c50c59f44row7_col2 {\n",
       "            background-color:  #dbdcde;\n",
       "            color:  #000000;\n",
       "        }    #T_80a7e56e_8143_11eb_a76c_f48c50c59f44row7_col3 {\n",
       "            background-color:  #5470de;\n",
       "            color:  #000000;\n",
       "        }    #T_80a7e56e_8143_11eb_a76c_f48c50c59f44row7_col4 {\n",
       "            background-color:  #6c8ff1;\n",
       "            color:  #000000;\n",
       "        }    #T_80a7e56e_8143_11eb_a76c_f48c50c59f44row7_col5 {\n",
       "            background-color:  #4f69d9;\n",
       "            color:  #000000;\n",
       "        }    #T_80a7e56e_8143_11eb_a76c_f48c50c59f44row7_col6 {\n",
       "            background-color:  #7093f3;\n",
       "            color:  #000000;\n",
       "        }    #T_80a7e56e_8143_11eb_a76c_f48c50c59f44row7_col7 {\n",
       "            background-color:  #b40426;\n",
       "            color:  #f1f1f1;\n",
       "        }    #T_80a7e56e_8143_11eb_a76c_f48c50c59f44row7_col8 {\n",
       "            background-color:  #465ecf;\n",
       "            color:  #f1f1f1;\n",
       "        }    #T_80a7e56e_8143_11eb_a76c_f48c50c59f44row7_col9 {\n",
       "            background-color:  #688aef;\n",
       "            color:  #000000;\n",
       "        }    #T_80a7e56e_8143_11eb_a76c_f48c50c59f44row7_col10 {\n",
       "            background-color:  #f3c8b2;\n",
       "            color:  #000000;\n",
       "        }    #T_80a7e56e_8143_11eb_a76c_f48c50c59f44row7_col11 {\n",
       "            background-color:  #6282ea;\n",
       "            color:  #000000;\n",
       "        }    #T_80a7e56e_8143_11eb_a76c_f48c50c59f44row7_col12 {\n",
       "            background-color:  #7699f6;\n",
       "            color:  #000000;\n",
       "        }    #T_80a7e56e_8143_11eb_a76c_f48c50c59f44row7_col13 {\n",
       "            background-color:  #f1ccb8;\n",
       "            color:  #000000;\n",
       "        }    #T_80a7e56e_8143_11eb_a76c_f48c50c59f44row8_col0 {\n",
       "            background-color:  #b1cbfc;\n",
       "            color:  #000000;\n",
       "        }    #T_80a7e56e_8143_11eb_a76c_f48c50c59f44row8_col1 {\n",
       "            background-color:  #a9c6fd;\n",
       "            color:  #000000;\n",
       "        }    #T_80a7e56e_8143_11eb_a76c_f48c50c59f44row8_col2 {\n",
       "            background-color:  #3b4cc0;\n",
       "            color:  #f1f1f1;\n",
       "        }    #T_80a7e56e_8143_11eb_a76c_f48c50c59f44row8_col3 {\n",
       "            background-color:  #7699f6;\n",
       "            color:  #000000;\n",
       "        }    #T_80a7e56e_8143_11eb_a76c_f48c50c59f44row8_col4 {\n",
       "            background-color:  #82a6fb;\n",
       "            color:  #000000;\n",
       "        }    #T_80a7e56e_8143_11eb_a76c_f48c50c59f44row8_col5 {\n",
       "            background-color:  #5977e3;\n",
       "            color:  #000000;\n",
       "        }    #T_80a7e56e_8143_11eb_a76c_f48c50c59f44row8_col6 {\n",
       "            background-color:  #4f69d9;\n",
       "            color:  #000000;\n",
       "        }    #T_80a7e56e_8143_11eb_a76c_f48c50c59f44row8_col7 {\n",
       "            background-color:  #3e51c5;\n",
       "            color:  #f1f1f1;\n",
       "        }    #T_80a7e56e_8143_11eb_a76c_f48c50c59f44row8_col8 {\n",
       "            background-color:  #b40426;\n",
       "            color:  #f1f1f1;\n",
       "        }    #T_80a7e56e_8143_11eb_a76c_f48c50c59f44row8_col9 {\n",
       "            background-color:  #e9d5cb;\n",
       "            color:  #000000;\n",
       "        }    #T_80a7e56e_8143_11eb_a76c_f48c50c59f44row8_col10 {\n",
       "            background-color:  #7b9ff9;\n",
       "            color:  #000000;\n",
       "        }    #T_80a7e56e_8143_11eb_a76c_f48c50c59f44row8_col11 {\n",
       "            background-color:  #b5cdfa;\n",
       "            color:  #000000;\n",
       "        }    #T_80a7e56e_8143_11eb_a76c_f48c50c59f44row8_col12 {\n",
       "            background-color:  #c3d5f4;\n",
       "            color:  #000000;\n",
       "        }    #T_80a7e56e_8143_11eb_a76c_f48c50c59f44row8_col13 {\n",
       "            background-color:  #3b4cc0;\n",
       "            color:  #f1f1f1;\n",
       "        }    #T_80a7e56e_8143_11eb_a76c_f48c50c59f44row9_col0 {\n",
       "            background-color:  #cbd8ee;\n",
       "            color:  #000000;\n",
       "        }    #T_80a7e56e_8143_11eb_a76c_f48c50c59f44row9_col1 {\n",
       "            background-color:  #9dbdff;\n",
       "            color:  #000000;\n",
       "        }    #T_80a7e56e_8143_11eb_a76c_f48c50c59f44row9_col2 {\n",
       "            background-color:  #7295f4;\n",
       "            color:  #000000;\n",
       "        }    #T_80a7e56e_8143_11eb_a76c_f48c50c59f44row9_col3 {\n",
       "            background-color:  #9dbdff;\n",
       "            color:  #000000;\n",
       "        }    #T_80a7e56e_8143_11eb_a76c_f48c50c59f44row9_col4 {\n",
       "            background-color:  #7ea1fa;\n",
       "            color:  #000000;\n",
       "        }    #T_80a7e56e_8143_11eb_a76c_f48c50c59f44row9_col5 {\n",
       "            background-color:  #5470de;\n",
       "            color:  #000000;\n",
       "        }    #T_80a7e56e_8143_11eb_a76c_f48c50c59f44row9_col6 {\n",
       "            background-color:  #536edd;\n",
       "            color:  #000000;\n",
       "        }    #T_80a7e56e_8143_11eb_a76c_f48c50c59f44row9_col7 {\n",
       "            background-color:  #455cce;\n",
       "            color:  #f1f1f1;\n",
       "        }    #T_80a7e56e_8143_11eb_a76c_f48c50c59f44row9_col8 {\n",
       "            background-color:  #dedcdb;\n",
       "            color:  #000000;\n",
       "        }    #T_80a7e56e_8143_11eb_a76c_f48c50c59f44row9_col9 {\n",
       "            background-color:  #b40426;\n",
       "            color:  #f1f1f1;\n",
       "        }    #T_80a7e56e_8143_11eb_a76c_f48c50c59f44row9_col10 {\n",
       "            background-color:  #3b4cc0;\n",
       "            color:  #f1f1f1;\n",
       "        }    #T_80a7e56e_8143_11eb_a76c_f48c50c59f44row9_col11 {\n",
       "            background-color:  #cdd9ec;\n",
       "            color:  #000000;\n",
       "        }    #T_80a7e56e_8143_11eb_a76c_f48c50c59f44row9_col12 {\n",
       "            background-color:  #c4d5f3;\n",
       "            color:  #000000;\n",
       "        }    #T_80a7e56e_8143_11eb_a76c_f48c50c59f44row9_col13 {\n",
       "            background-color:  #3c4ec2;\n",
       "            color:  #f1f1f1;\n",
       "        }    #T_80a7e56e_8143_11eb_a76c_f48c50c59f44row10_col0 {\n",
       "            background-color:  #6f92f3;\n",
       "            color:  #000000;\n",
       "        }    #T_80a7e56e_8143_11eb_a76c_f48c50c59f44row10_col1 {\n",
       "            background-color:  #7a9df8;\n",
       "            color:  #000000;\n",
       "        }    #T_80a7e56e_8143_11eb_a76c_f48c50c59f44row10_col2 {\n",
       "            background-color:  #b6cefa;\n",
       "            color:  #000000;\n",
       "        }    #T_80a7e56e_8143_11eb_a76c_f48c50c59f44row10_col3 {\n",
       "            background-color:  #4055c8;\n",
       "            color:  #f1f1f1;\n",
       "        }    #T_80a7e56e_8143_11eb_a76c_f48c50c59f44row10_col4 {\n",
       "            background-color:  #6e90f2;\n",
       "            color:  #000000;\n",
       "        }    #T_80a7e56e_8143_11eb_a76c_f48c50c59f44row10_col5 {\n",
       "            background-color:  #4055c8;\n",
       "            color:  #f1f1f1;\n",
       "        }    #T_80a7e56e_8143_11eb_a76c_f48c50c59f44row10_col6 {\n",
       "            background-color:  #80a3fa;\n",
       "            color:  #000000;\n",
       "        }    #T_80a7e56e_8143_11eb_a76c_f48c50c59f44row10_col7 {\n",
       "            background-color:  #ebd3c6;\n",
       "            color:  #000000;\n",
       "        }    #T_80a7e56e_8143_11eb_a76c_f48c50c59f44row10_col8 {\n",
       "            background-color:  #6180e9;\n",
       "            color:  #000000;\n",
       "        }    #T_80a7e56e_8143_11eb_a76c_f48c50c59f44row10_col9 {\n",
       "            background-color:  #3b4cc0;\n",
       "            color:  #f1f1f1;\n",
       "        }    #T_80a7e56e_8143_11eb_a76c_f48c50c59f44row10_col10 {\n",
       "            background-color:  #b40426;\n",
       "            color:  #f1f1f1;\n",
       "        }    #T_80a7e56e_8143_11eb_a76c_f48c50c59f44row10_col11 {\n",
       "            background-color:  #84a7fc;\n",
       "            color:  #000000;\n",
       "        }    #T_80a7e56e_8143_11eb_a76c_f48c50c59f44row10_col12 {\n",
       "            background-color:  #7396f5;\n",
       "            color:  #000000;\n",
       "        }    #T_80a7e56e_8143_11eb_a76c_f48c50c59f44row10_col13 {\n",
       "            background-color:  #e8d6cc;\n",
       "            color:  #000000;\n",
       "        }    #T_80a7e56e_8143_11eb_a76c_f48c50c59f44row11_col0 {\n",
       "            background-color:  #d8dce2;\n",
       "            color:  #000000;\n",
       "        }    #T_80a7e56e_8143_11eb_a76c_f48c50c59f44row11_col1 {\n",
       "            background-color:  #a2c1ff;\n",
       "            color:  #000000;\n",
       "        }    #T_80a7e56e_8143_11eb_a76c_f48c50c59f44row11_col2 {\n",
       "            background-color:  #6b8df0;\n",
       "            color:  #000000;\n",
       "        }    #T_80a7e56e_8143_11eb_a76c_f48c50c59f44row11_col3 {\n",
       "            background-color:  #81a4fb;\n",
       "            color:  #000000;\n",
       "        }    #T_80a7e56e_8143_11eb_a76c_f48c50c59f44row11_col4 {\n",
       "            background-color:  #84a7fc;\n",
       "            color:  #000000;\n",
       "        }    #T_80a7e56e_8143_11eb_a76c_f48c50c59f44row11_col5 {\n",
       "            background-color:  #7da0f9;\n",
       "            color:  #000000;\n",
       "        }    #T_80a7e56e_8143_11eb_a76c_f48c50c59f44row11_col6 {\n",
       "            background-color:  #4f69d9;\n",
       "            color:  #000000;\n",
       "        }    #T_80a7e56e_8143_11eb_a76c_f48c50c59f44row11_col7 {\n",
       "            background-color:  #6384eb;\n",
       "            color:  #000000;\n",
       "        }    #T_80a7e56e_8143_11eb_a76c_f48c50c59f44row11_col8 {\n",
       "            background-color:  #bbd1f8;\n",
       "            color:  #000000;\n",
       "        }    #T_80a7e56e_8143_11eb_a76c_f48c50c59f44row11_col9 {\n",
       "            background-color:  #dedcdb;\n",
       "            color:  #000000;\n",
       "        }    #T_80a7e56e_8143_11eb_a76c_f48c50c59f44row11_col10 {\n",
       "            background-color:  #a3c2fe;\n",
       "            color:  #000000;\n",
       "        }    #T_80a7e56e_8143_11eb_a76c_f48c50c59f44row11_col11 {\n",
       "            background-color:  #b40426;\n",
       "            color:  #f1f1f1;\n",
       "        }    #T_80a7e56e_8143_11eb_a76c_f48c50c59f44row11_col12 {\n",
       "            background-color:  #b6cefa;\n",
       "            color:  #000000;\n",
       "        }    #T_80a7e56e_8143_11eb_a76c_f48c50c59f44row11_col13 {\n",
       "            background-color:  #445acc;\n",
       "            color:  #f1f1f1;\n",
       "        }    #T_80a7e56e_8143_11eb_a76c_f48c50c59f44row12_col0 {\n",
       "            background-color:  #aac7fd;\n",
       "            color:  #000000;\n",
       "        }    #T_80a7e56e_8143_11eb_a76c_f48c50c59f44row12_col1 {\n",
       "            background-color:  #bbd1f8;\n",
       "            color:  #000000;\n",
       "        }    #T_80a7e56e_8143_11eb_a76c_f48c50c59f44row12_col2 {\n",
       "            background-color:  #6f92f3;\n",
       "            color:  #000000;\n",
       "        }    #T_80a7e56e_8143_11eb_a76c_f48c50c59f44row12_col3 {\n",
       "            background-color:  #7597f6;\n",
       "            color:  #000000;\n",
       "        }    #T_80a7e56e_8143_11eb_a76c_f48c50c59f44row12_col4 {\n",
       "            background-color:  #8caffe;\n",
       "            color:  #000000;\n",
       "        }    #T_80a7e56e_8143_11eb_a76c_f48c50c59f44row12_col5 {\n",
       "            background-color:  #4961d2;\n",
       "            color:  #f1f1f1;\n",
       "        }    #T_80a7e56e_8143_11eb_a76c_f48c50c59f44row12_col6 {\n",
       "            background-color:  #5f7fe8;\n",
       "            color:  #000000;\n",
       "        }    #T_80a7e56e_8143_11eb_a76c_f48c50c59f44row12_col7 {\n",
       "            background-color:  #81a4fb;\n",
       "            color:  #000000;\n",
       "        }    #T_80a7e56e_8143_11eb_a76c_f48c50c59f44row12_col8 {\n",
       "            background-color:  #cedaeb;\n",
       "            color:  #000000;\n",
       "        }    #T_80a7e56e_8143_11eb_a76c_f48c50c59f44row12_col9 {\n",
       "            background-color:  #dcdddd;\n",
       "            color:  #000000;\n",
       "        }    #T_80a7e56e_8143_11eb_a76c_f48c50c59f44row12_col10 {\n",
       "            background-color:  #9ebeff;\n",
       "            color:  #000000;\n",
       "        }    #T_80a7e56e_8143_11eb_a76c_f48c50c59f44row12_col11 {\n",
       "            background-color:  #bcd2f7;\n",
       "            color:  #000000;\n",
       "        }    #T_80a7e56e_8143_11eb_a76c_f48c50c59f44row12_col12 {\n",
       "            background-color:  #b40426;\n",
       "            color:  #f1f1f1;\n",
       "        }    #T_80a7e56e_8143_11eb_a76c_f48c50c59f44row12_col13 {\n",
       "            background-color:  #4e68d8;\n",
       "            color:  #000000;\n",
       "        }    #T_80a7e56e_8143_11eb_a76c_f48c50c59f44row13_col0 {\n",
       "            background-color:  #6180e9;\n",
       "            color:  #000000;\n",
       "        }    #T_80a7e56e_8143_11eb_a76c_f48c50c59f44row13_col1 {\n",
       "            background-color:  #3b4cc0;\n",
       "            color:  #f1f1f1;\n",
       "        }    #T_80a7e56e_8143_11eb_a76c_f48c50c59f44row13_col2 {\n",
       "            background-color:  #f1ccb8;\n",
       "            color:  #000000;\n",
       "        }    #T_80a7e56e_8143_11eb_a76c_f48c50c59f44row13_col3 {\n",
       "            background-color:  #3b4cc0;\n",
       "            color:  #f1f1f1;\n",
       "        }    #T_80a7e56e_8143_11eb_a76c_f48c50c59f44row13_col4 {\n",
       "            background-color:  #5875e1;\n",
       "            color:  #000000;\n",
       "        }    #T_80a7e56e_8143_11eb_a76c_f48c50c59f44row13_col5 {\n",
       "            background-color:  #4a63d3;\n",
       "            color:  #f1f1f1;\n",
       "        }    #T_80a7e56e_8143_11eb_a76c_f48c50c59f44row13_col6 {\n",
       "            background-color:  #8db0fe;\n",
       "            color:  #000000;\n",
       "        }    #T_80a7e56e_8143_11eb_a76c_f48c50c59f44row13_col7 {\n",
       "            background-color:  #f0cdbb;\n",
       "            color:  #000000;\n",
       "        }    #T_80a7e56e_8143_11eb_a76c_f48c50c59f44row13_col8 {\n",
       "            background-color:  #3b4cc0;\n",
       "            color:  #f1f1f1;\n",
       "        }    #T_80a7e56e_8143_11eb_a76c_f48c50c59f44row13_col9 {\n",
       "            background-color:  #5673e0;\n",
       "            color:  #000000;\n",
       "        }    #T_80a7e56e_8143_11eb_a76c_f48c50c59f44row13_col10 {\n",
       "            background-color:  #efcebd;\n",
       "            color:  #000000;\n",
       "        }    #T_80a7e56e_8143_11eb_a76c_f48c50c59f44row13_col11 {\n",
       "            background-color:  #3b4cc0;\n",
       "            color:  #f1f1f1;\n",
       "        }    #T_80a7e56e_8143_11eb_a76c_f48c50c59f44row13_col12 {\n",
       "            background-color:  #3b4cc0;\n",
       "            color:  #f1f1f1;\n",
       "        }    #T_80a7e56e_8143_11eb_a76c_f48c50c59f44row13_col13 {\n",
       "            background-color:  #b40426;\n",
       "            color:  #f1f1f1;\n",
       "        }</style><table id=\"T_80a7e56e_8143_11eb_a76c_f48c50c59f44\" ><thead>    <tr>        <th class=\"blank level0\" ></th>        <th class=\"col_heading level0 col0\" >age</th>        <th class=\"col_heading level0 col1\" >sex</th>        <th class=\"col_heading level0 col2\" >cp</th>        <th class=\"col_heading level0 col3\" >trestbps</th>        <th class=\"col_heading level0 col4\" >chol</th>        <th class=\"col_heading level0 col5\" >fbs</th>        <th class=\"col_heading level0 col6\" >restecg</th>        <th class=\"col_heading level0 col7\" >thalach</th>        <th class=\"col_heading level0 col8\" >exang</th>        <th class=\"col_heading level0 col9\" >oldpeak</th>        <th class=\"col_heading level0 col10\" >slope</th>        <th class=\"col_heading level0 col11\" >ca</th>        <th class=\"col_heading level0 col12\" >thal</th>        <th class=\"col_heading level0 col13\" >target</th>    </tr></thead><tbody>\n",
       "                <tr>\n",
       "                        <th id=\"T_80a7e56e_8143_11eb_a76c_f48c50c59f44level0_row0\" class=\"row_heading level0 row0\" >age</th>\n",
       "                        <td id=\"T_80a7e56e_8143_11eb_a76c_f48c50c59f44row0_col0\" class=\"data row0 col0\" >1.000000</td>\n",
       "                        <td id=\"T_80a7e56e_8143_11eb_a76c_f48c50c59f44row0_col1\" class=\"data row0 col1\" >-0.098447</td>\n",
       "                        <td id=\"T_80a7e56e_8143_11eb_a76c_f48c50c59f44row0_col2\" class=\"data row0 col2\" >-0.068653</td>\n",
       "                        <td id=\"T_80a7e56e_8143_11eb_a76c_f48c50c59f44row0_col3\" class=\"data row0 col3\" >0.279351</td>\n",
       "                        <td id=\"T_80a7e56e_8143_11eb_a76c_f48c50c59f44row0_col4\" class=\"data row0 col4\" >0.213678</td>\n",
       "                        <td id=\"T_80a7e56e_8143_11eb_a76c_f48c50c59f44row0_col5\" class=\"data row0 col5\" >0.121308</td>\n",
       "                        <td id=\"T_80a7e56e_8143_11eb_a76c_f48c50c59f44row0_col6\" class=\"data row0 col6\" >-0.116211</td>\n",
       "                        <td id=\"T_80a7e56e_8143_11eb_a76c_f48c50c59f44row0_col7\" class=\"data row0 col7\" >-0.398522</td>\n",
       "                        <td id=\"T_80a7e56e_8143_11eb_a76c_f48c50c59f44row0_col8\" class=\"data row0 col8\" >0.096801</td>\n",
       "                        <td id=\"T_80a7e56e_8143_11eb_a76c_f48c50c59f44row0_col9\" class=\"data row0 col9\" >0.210013</td>\n",
       "                        <td id=\"T_80a7e56e_8143_11eb_a76c_f48c50c59f44row0_col10\" class=\"data row0 col10\" >-0.168814</td>\n",
       "                        <td id=\"T_80a7e56e_8143_11eb_a76c_f48c50c59f44row0_col11\" class=\"data row0 col11\" >0.276326</td>\n",
       "                        <td id=\"T_80a7e56e_8143_11eb_a76c_f48c50c59f44row0_col12\" class=\"data row0 col12\" >0.068001</td>\n",
       "                        <td id=\"T_80a7e56e_8143_11eb_a76c_f48c50c59f44row0_col13\" class=\"data row0 col13\" >-0.225439</td>\n",
       "            </tr>\n",
       "            <tr>\n",
       "                        <th id=\"T_80a7e56e_8143_11eb_a76c_f48c50c59f44level0_row1\" class=\"row_heading level0 row1\" >sex</th>\n",
       "                        <td id=\"T_80a7e56e_8143_11eb_a76c_f48c50c59f44row1_col0\" class=\"data row1 col0\" >-0.098447</td>\n",
       "                        <td id=\"T_80a7e56e_8143_11eb_a76c_f48c50c59f44row1_col1\" class=\"data row1 col1\" >1.000000</td>\n",
       "                        <td id=\"T_80a7e56e_8143_11eb_a76c_f48c50c59f44row1_col2\" class=\"data row1 col2\" >-0.049353</td>\n",
       "                        <td id=\"T_80a7e56e_8143_11eb_a76c_f48c50c59f44row1_col3\" class=\"data row1 col3\" >-0.056769</td>\n",
       "                        <td id=\"T_80a7e56e_8143_11eb_a76c_f48c50c59f44row1_col4\" class=\"data row1 col4\" >-0.197912</td>\n",
       "                        <td id=\"T_80a7e56e_8143_11eb_a76c_f48c50c59f44row1_col5\" class=\"data row1 col5\" >0.045032</td>\n",
       "                        <td id=\"T_80a7e56e_8143_11eb_a76c_f48c50c59f44row1_col6\" class=\"data row1 col6\" >-0.058196</td>\n",
       "                        <td id=\"T_80a7e56e_8143_11eb_a76c_f48c50c59f44row1_col7\" class=\"data row1 col7\" >-0.044020</td>\n",
       "                        <td id=\"T_80a7e56e_8143_11eb_a76c_f48c50c59f44row1_col8\" class=\"data row1 col8\" >0.141664</td>\n",
       "                        <td id=\"T_80a7e56e_8143_11eb_a76c_f48c50c59f44row1_col9\" class=\"data row1 col9\" >0.096093</td>\n",
       "                        <td id=\"T_80a7e56e_8143_11eb_a76c_f48c50c59f44row1_col10\" class=\"data row1 col10\" >-0.030711</td>\n",
       "                        <td id=\"T_80a7e56e_8143_11eb_a76c_f48c50c59f44row1_col11\" class=\"data row1 col11\" >0.118261</td>\n",
       "                        <td id=\"T_80a7e56e_8143_11eb_a76c_f48c50c59f44row1_col12\" class=\"data row1 col12\" >0.210041</td>\n",
       "                        <td id=\"T_80a7e56e_8143_11eb_a76c_f48c50c59f44row1_col13\" class=\"data row1 col13\" >-0.280937</td>\n",
       "            </tr>\n",
       "            <tr>\n",
       "                        <th id=\"T_80a7e56e_8143_11eb_a76c_f48c50c59f44level0_row2\" class=\"row_heading level0 row2\" >cp</th>\n",
       "                        <td id=\"T_80a7e56e_8143_11eb_a76c_f48c50c59f44row2_col0\" class=\"data row2 col0\" >-0.068653</td>\n",
       "                        <td id=\"T_80a7e56e_8143_11eb_a76c_f48c50c59f44row2_col1\" class=\"data row2 col1\" >-0.049353</td>\n",
       "                        <td id=\"T_80a7e56e_8143_11eb_a76c_f48c50c59f44row2_col2\" class=\"data row2 col2\" >1.000000</td>\n",
       "                        <td id=\"T_80a7e56e_8143_11eb_a76c_f48c50c59f44row2_col3\" class=\"data row2 col3\" >0.047608</td>\n",
       "                        <td id=\"T_80a7e56e_8143_11eb_a76c_f48c50c59f44row2_col4\" class=\"data row2 col4\" >-0.076904</td>\n",
       "                        <td id=\"T_80a7e56e_8143_11eb_a76c_f48c50c59f44row2_col5\" class=\"data row2 col5\" >0.094444</td>\n",
       "                        <td id=\"T_80a7e56e_8143_11eb_a76c_f48c50c59f44row2_col6\" class=\"data row2 col6\" >0.044421</td>\n",
       "                        <td id=\"T_80a7e56e_8143_11eb_a76c_f48c50c59f44row2_col7\" class=\"data row2 col7\" >0.295762</td>\n",
       "                        <td id=\"T_80a7e56e_8143_11eb_a76c_f48c50c59f44row2_col8\" class=\"data row2 col8\" >-0.394280</td>\n",
       "                        <td id=\"T_80a7e56e_8143_11eb_a76c_f48c50c59f44row2_col9\" class=\"data row2 col9\" >-0.149230</td>\n",
       "                        <td id=\"T_80a7e56e_8143_11eb_a76c_f48c50c59f44row2_col10\" class=\"data row2 col10\" >0.119717</td>\n",
       "                        <td id=\"T_80a7e56e_8143_11eb_a76c_f48c50c59f44row2_col11\" class=\"data row2 col11\" >-0.181053</td>\n",
       "                        <td id=\"T_80a7e56e_8143_11eb_a76c_f48c50c59f44row2_col12\" class=\"data row2 col12\" >-0.161736</td>\n",
       "                        <td id=\"T_80a7e56e_8143_11eb_a76c_f48c50c59f44row2_col13\" class=\"data row2 col13\" >0.433798</td>\n",
       "            </tr>\n",
       "            <tr>\n",
       "                        <th id=\"T_80a7e56e_8143_11eb_a76c_f48c50c59f44level0_row3\" class=\"row_heading level0 row3\" >trestbps</th>\n",
       "                        <td id=\"T_80a7e56e_8143_11eb_a76c_f48c50c59f44row3_col0\" class=\"data row3 col0\" >0.279351</td>\n",
       "                        <td id=\"T_80a7e56e_8143_11eb_a76c_f48c50c59f44row3_col1\" class=\"data row3 col1\" >-0.056769</td>\n",
       "                        <td id=\"T_80a7e56e_8143_11eb_a76c_f48c50c59f44row3_col2\" class=\"data row3 col2\" >0.047608</td>\n",
       "                        <td id=\"T_80a7e56e_8143_11eb_a76c_f48c50c59f44row3_col3\" class=\"data row3 col3\" >1.000000</td>\n",
       "                        <td id=\"T_80a7e56e_8143_11eb_a76c_f48c50c59f44row3_col4\" class=\"data row3 col4\" >0.123174</td>\n",
       "                        <td id=\"T_80a7e56e_8143_11eb_a76c_f48c50c59f44row3_col5\" class=\"data row3 col5\" >0.177531</td>\n",
       "                        <td id=\"T_80a7e56e_8143_11eb_a76c_f48c50c59f44row3_col6\" class=\"data row3 col6\" >-0.114103</td>\n",
       "                        <td id=\"T_80a7e56e_8143_11eb_a76c_f48c50c59f44row3_col7\" class=\"data row3 col7\" >-0.046698</td>\n",
       "                        <td id=\"T_80a7e56e_8143_11eb_a76c_f48c50c59f44row3_col8\" class=\"data row3 col8\" >0.067616</td>\n",
       "                        <td id=\"T_80a7e56e_8143_11eb_a76c_f48c50c59f44row3_col9\" class=\"data row3 col9\" >0.193216</td>\n",
       "                        <td id=\"T_80a7e56e_8143_11eb_a76c_f48c50c59f44row3_col10\" class=\"data row3 col10\" >-0.121475</td>\n",
       "                        <td id=\"T_80a7e56e_8143_11eb_a76c_f48c50c59f44row3_col11\" class=\"data row3 col11\" >0.101389</td>\n",
       "                        <td id=\"T_80a7e56e_8143_11eb_a76c_f48c50c59f44row3_col12\" class=\"data row3 col12\" >0.062210</td>\n",
       "                        <td id=\"T_80a7e56e_8143_11eb_a76c_f48c50c59f44row3_col13\" class=\"data row3 col13\" >-0.144931</td>\n",
       "            </tr>\n",
       "            <tr>\n",
       "                        <th id=\"T_80a7e56e_8143_11eb_a76c_f48c50c59f44level0_row4\" class=\"row_heading level0 row4\" >chol</th>\n",
       "                        <td id=\"T_80a7e56e_8143_11eb_a76c_f48c50c59f44row4_col0\" class=\"data row4 col0\" >0.213678</td>\n",
       "                        <td id=\"T_80a7e56e_8143_11eb_a76c_f48c50c59f44row4_col1\" class=\"data row4 col1\" >-0.197912</td>\n",
       "                        <td id=\"T_80a7e56e_8143_11eb_a76c_f48c50c59f44row4_col2\" class=\"data row4 col2\" >-0.076904</td>\n",
       "                        <td id=\"T_80a7e56e_8143_11eb_a76c_f48c50c59f44row4_col3\" class=\"data row4 col3\" >0.123174</td>\n",
       "                        <td id=\"T_80a7e56e_8143_11eb_a76c_f48c50c59f44row4_col4\" class=\"data row4 col4\" >1.000000</td>\n",
       "                        <td id=\"T_80a7e56e_8143_11eb_a76c_f48c50c59f44row4_col5\" class=\"data row4 col5\" >0.013294</td>\n",
       "                        <td id=\"T_80a7e56e_8143_11eb_a76c_f48c50c59f44row4_col6\" class=\"data row4 col6\" >-0.151040</td>\n",
       "                        <td id=\"T_80a7e56e_8143_11eb_a76c_f48c50c59f44row4_col7\" class=\"data row4 col7\" >-0.009940</td>\n",
       "                        <td id=\"T_80a7e56e_8143_11eb_a76c_f48c50c59f44row4_col8\" class=\"data row4 col8\" >0.067023</td>\n",
       "                        <td id=\"T_80a7e56e_8143_11eb_a76c_f48c50c59f44row4_col9\" class=\"data row4 col9\" >0.053952</td>\n",
       "                        <td id=\"T_80a7e56e_8143_11eb_a76c_f48c50c59f44row4_col10\" class=\"data row4 col10\" >-0.004038</td>\n",
       "                        <td id=\"T_80a7e56e_8143_11eb_a76c_f48c50c59f44row4_col11\" class=\"data row4 col11\" >0.070511</td>\n",
       "                        <td id=\"T_80a7e56e_8143_11eb_a76c_f48c50c59f44row4_col12\" class=\"data row4 col12\" >0.098803</td>\n",
       "                        <td id=\"T_80a7e56e_8143_11eb_a76c_f48c50c59f44row4_col13\" class=\"data row4 col13\" >-0.085239</td>\n",
       "            </tr>\n",
       "            <tr>\n",
       "                        <th id=\"T_80a7e56e_8143_11eb_a76c_f48c50c59f44level0_row5\" class=\"row_heading level0 row5\" >fbs</th>\n",
       "                        <td id=\"T_80a7e56e_8143_11eb_a76c_f48c50c59f44row5_col0\" class=\"data row5 col0\" >0.121308</td>\n",
       "                        <td id=\"T_80a7e56e_8143_11eb_a76c_f48c50c59f44row5_col1\" class=\"data row5 col1\" >0.045032</td>\n",
       "                        <td id=\"T_80a7e56e_8143_11eb_a76c_f48c50c59f44row5_col2\" class=\"data row5 col2\" >0.094444</td>\n",
       "                        <td id=\"T_80a7e56e_8143_11eb_a76c_f48c50c59f44row5_col3\" class=\"data row5 col3\" >0.177531</td>\n",
       "                        <td id=\"T_80a7e56e_8143_11eb_a76c_f48c50c59f44row5_col4\" class=\"data row5 col4\" >0.013294</td>\n",
       "                        <td id=\"T_80a7e56e_8143_11eb_a76c_f48c50c59f44row5_col5\" class=\"data row5 col5\" >1.000000</td>\n",
       "                        <td id=\"T_80a7e56e_8143_11eb_a76c_f48c50c59f44row5_col6\" class=\"data row5 col6\" >-0.084189</td>\n",
       "                        <td id=\"T_80a7e56e_8143_11eb_a76c_f48c50c59f44row5_col7\" class=\"data row5 col7\" >-0.008567</td>\n",
       "                        <td id=\"T_80a7e56e_8143_11eb_a76c_f48c50c59f44row5_col8\" class=\"data row5 col8\" >0.025665</td>\n",
       "                        <td id=\"T_80a7e56e_8143_11eb_a76c_f48c50c59f44row5_col9\" class=\"data row5 col9\" >0.005747</td>\n",
       "                        <td id=\"T_80a7e56e_8143_11eb_a76c_f48c50c59f44row5_col10\" class=\"data row5 col10\" >-0.059894</td>\n",
       "                        <td id=\"T_80a7e56e_8143_11eb_a76c_f48c50c59f44row5_col11\" class=\"data row5 col11\" >0.137979</td>\n",
       "                        <td id=\"T_80a7e56e_8143_11eb_a76c_f48c50c59f44row5_col12\" class=\"data row5 col12\" >-0.032019</td>\n",
       "                        <td id=\"T_80a7e56e_8143_11eb_a76c_f48c50c59f44row5_col13\" class=\"data row5 col13\" >-0.028046</td>\n",
       "            </tr>\n",
       "            <tr>\n",
       "                        <th id=\"T_80a7e56e_8143_11eb_a76c_f48c50c59f44level0_row6\" class=\"row_heading level0 row6\" >restecg</th>\n",
       "                        <td id=\"T_80a7e56e_8143_11eb_a76c_f48c50c59f44row6_col0\" class=\"data row6 col0\" >-0.116211</td>\n",
       "                        <td id=\"T_80a7e56e_8143_11eb_a76c_f48c50c59f44row6_col1\" class=\"data row6 col1\" >-0.058196</td>\n",
       "                        <td id=\"T_80a7e56e_8143_11eb_a76c_f48c50c59f44row6_col2\" class=\"data row6 col2\" >0.044421</td>\n",
       "                        <td id=\"T_80a7e56e_8143_11eb_a76c_f48c50c59f44row6_col3\" class=\"data row6 col3\" >-0.114103</td>\n",
       "                        <td id=\"T_80a7e56e_8143_11eb_a76c_f48c50c59f44row6_col4\" class=\"data row6 col4\" >-0.151040</td>\n",
       "                        <td id=\"T_80a7e56e_8143_11eb_a76c_f48c50c59f44row6_col5\" class=\"data row6 col5\" >-0.084189</td>\n",
       "                        <td id=\"T_80a7e56e_8143_11eb_a76c_f48c50c59f44row6_col6\" class=\"data row6 col6\" >1.000000</td>\n",
       "                        <td id=\"T_80a7e56e_8143_11eb_a76c_f48c50c59f44row6_col7\" class=\"data row6 col7\" >0.044123</td>\n",
       "                        <td id=\"T_80a7e56e_8143_11eb_a76c_f48c50c59f44row6_col8\" class=\"data row6 col8\" >-0.070733</td>\n",
       "                        <td id=\"T_80a7e56e_8143_11eb_a76c_f48c50c59f44row6_col9\" class=\"data row6 col9\" >-0.058770</td>\n",
       "                        <td id=\"T_80a7e56e_8143_11eb_a76c_f48c50c59f44row6_col10\" class=\"data row6 col10\" >0.093045</td>\n",
       "                        <td id=\"T_80a7e56e_8143_11eb_a76c_f48c50c59f44row6_col11\" class=\"data row6 col11\" >-0.072042</td>\n",
       "                        <td id=\"T_80a7e56e_8143_11eb_a76c_f48c50c59f44row6_col12\" class=\"data row6 col12\" >-0.011981</td>\n",
       "                        <td id=\"T_80a7e56e_8143_11eb_a76c_f48c50c59f44row6_col13\" class=\"data row6 col13\" >0.137230</td>\n",
       "            </tr>\n",
       "            <tr>\n",
       "                        <th id=\"T_80a7e56e_8143_11eb_a76c_f48c50c59f44level0_row7\" class=\"row_heading level0 row7\" >thalach</th>\n",
       "                        <td id=\"T_80a7e56e_8143_11eb_a76c_f48c50c59f44row7_col0\" class=\"data row7 col0\" >-0.398522</td>\n",
       "                        <td id=\"T_80a7e56e_8143_11eb_a76c_f48c50c59f44row7_col1\" class=\"data row7 col1\" >-0.044020</td>\n",
       "                        <td id=\"T_80a7e56e_8143_11eb_a76c_f48c50c59f44row7_col2\" class=\"data row7 col2\" >0.295762</td>\n",
       "                        <td id=\"T_80a7e56e_8143_11eb_a76c_f48c50c59f44row7_col3\" class=\"data row7 col3\" >-0.046698</td>\n",
       "                        <td id=\"T_80a7e56e_8143_11eb_a76c_f48c50c59f44row7_col4\" class=\"data row7 col4\" >-0.009940</td>\n",
       "                        <td id=\"T_80a7e56e_8143_11eb_a76c_f48c50c59f44row7_col5\" class=\"data row7 col5\" >-0.008567</td>\n",
       "                        <td id=\"T_80a7e56e_8143_11eb_a76c_f48c50c59f44row7_col6\" class=\"data row7 col6\" >0.044123</td>\n",
       "                        <td id=\"T_80a7e56e_8143_11eb_a76c_f48c50c59f44row7_col7\" class=\"data row7 col7\" >1.000000</td>\n",
       "                        <td id=\"T_80a7e56e_8143_11eb_a76c_f48c50c59f44row7_col8\" class=\"data row7 col8\" >-0.378812</td>\n",
       "                        <td id=\"T_80a7e56e_8143_11eb_a76c_f48c50c59f44row7_col9\" class=\"data row7 col9\" >-0.344187</td>\n",
       "                        <td id=\"T_80a7e56e_8143_11eb_a76c_f48c50c59f44row7_col10\" class=\"data row7 col10\" >0.386784</td>\n",
       "                        <td id=\"T_80a7e56e_8143_11eb_a76c_f48c50c59f44row7_col11\" class=\"data row7 col11\" >-0.213177</td>\n",
       "                        <td id=\"T_80a7e56e_8143_11eb_a76c_f48c50c59f44row7_col12\" class=\"data row7 col12\" >-0.096439</td>\n",
       "                        <td id=\"T_80a7e56e_8143_11eb_a76c_f48c50c59f44row7_col13\" class=\"data row7 col13\" >0.421741</td>\n",
       "            </tr>\n",
       "            <tr>\n",
       "                        <th id=\"T_80a7e56e_8143_11eb_a76c_f48c50c59f44level0_row8\" class=\"row_heading level0 row8\" >exang</th>\n",
       "                        <td id=\"T_80a7e56e_8143_11eb_a76c_f48c50c59f44row8_col0\" class=\"data row8 col0\" >0.096801</td>\n",
       "                        <td id=\"T_80a7e56e_8143_11eb_a76c_f48c50c59f44row8_col1\" class=\"data row8 col1\" >0.141664</td>\n",
       "                        <td id=\"T_80a7e56e_8143_11eb_a76c_f48c50c59f44row8_col2\" class=\"data row8 col2\" >-0.394280</td>\n",
       "                        <td id=\"T_80a7e56e_8143_11eb_a76c_f48c50c59f44row8_col3\" class=\"data row8 col3\" >0.067616</td>\n",
       "                        <td id=\"T_80a7e56e_8143_11eb_a76c_f48c50c59f44row8_col4\" class=\"data row8 col4\" >0.067023</td>\n",
       "                        <td id=\"T_80a7e56e_8143_11eb_a76c_f48c50c59f44row8_col5\" class=\"data row8 col5\" >0.025665</td>\n",
       "                        <td id=\"T_80a7e56e_8143_11eb_a76c_f48c50c59f44row8_col6\" class=\"data row8 col6\" >-0.070733</td>\n",
       "                        <td id=\"T_80a7e56e_8143_11eb_a76c_f48c50c59f44row8_col7\" class=\"data row8 col7\" >-0.378812</td>\n",
       "                        <td id=\"T_80a7e56e_8143_11eb_a76c_f48c50c59f44row8_col8\" class=\"data row8 col8\" >1.000000</td>\n",
       "                        <td id=\"T_80a7e56e_8143_11eb_a76c_f48c50c59f44row8_col9\" class=\"data row8 col9\" >0.288223</td>\n",
       "                        <td id=\"T_80a7e56e_8143_11eb_a76c_f48c50c59f44row8_col10\" class=\"data row8 col10\" >-0.257748</td>\n",
       "                        <td id=\"T_80a7e56e_8143_11eb_a76c_f48c50c59f44row8_col11\" class=\"data row8 col11\" >0.115739</td>\n",
       "                        <td id=\"T_80a7e56e_8143_11eb_a76c_f48c50c59f44row8_col12\" class=\"data row8 col12\" >0.206754</td>\n",
       "                        <td id=\"T_80a7e56e_8143_11eb_a76c_f48c50c59f44row8_col13\" class=\"data row8 col13\" >-0.436757</td>\n",
       "            </tr>\n",
       "            <tr>\n",
       "                        <th id=\"T_80a7e56e_8143_11eb_a76c_f48c50c59f44level0_row9\" class=\"row_heading level0 row9\" >oldpeak</th>\n",
       "                        <td id=\"T_80a7e56e_8143_11eb_a76c_f48c50c59f44row9_col0\" class=\"data row9 col0\" >0.210013</td>\n",
       "                        <td id=\"T_80a7e56e_8143_11eb_a76c_f48c50c59f44row9_col1\" class=\"data row9 col1\" >0.096093</td>\n",
       "                        <td id=\"T_80a7e56e_8143_11eb_a76c_f48c50c59f44row9_col2\" class=\"data row9 col2\" >-0.149230</td>\n",
       "                        <td id=\"T_80a7e56e_8143_11eb_a76c_f48c50c59f44row9_col3\" class=\"data row9 col3\" >0.193216</td>\n",
       "                        <td id=\"T_80a7e56e_8143_11eb_a76c_f48c50c59f44row9_col4\" class=\"data row9 col4\" >0.053952</td>\n",
       "                        <td id=\"T_80a7e56e_8143_11eb_a76c_f48c50c59f44row9_col5\" class=\"data row9 col5\" >0.005747</td>\n",
       "                        <td id=\"T_80a7e56e_8143_11eb_a76c_f48c50c59f44row9_col6\" class=\"data row9 col6\" >-0.058770</td>\n",
       "                        <td id=\"T_80a7e56e_8143_11eb_a76c_f48c50c59f44row9_col7\" class=\"data row9 col7\" >-0.344187</td>\n",
       "                        <td id=\"T_80a7e56e_8143_11eb_a76c_f48c50c59f44row9_col8\" class=\"data row9 col8\" >0.288223</td>\n",
       "                        <td id=\"T_80a7e56e_8143_11eb_a76c_f48c50c59f44row9_col9\" class=\"data row9 col9\" >1.000000</td>\n",
       "                        <td id=\"T_80a7e56e_8143_11eb_a76c_f48c50c59f44row9_col10\" class=\"data row9 col10\" >-0.577537</td>\n",
       "                        <td id=\"T_80a7e56e_8143_11eb_a76c_f48c50c59f44row9_col11\" class=\"data row9 col11\" >0.222682</td>\n",
       "                        <td id=\"T_80a7e56e_8143_11eb_a76c_f48c50c59f44row9_col12\" class=\"data row9 col12\" >0.210244</td>\n",
       "                        <td id=\"T_80a7e56e_8143_11eb_a76c_f48c50c59f44row9_col13\" class=\"data row9 col13\" >-0.430696</td>\n",
       "            </tr>\n",
       "            <tr>\n",
       "                        <th id=\"T_80a7e56e_8143_11eb_a76c_f48c50c59f44level0_row10\" class=\"row_heading level0 row10\" >slope</th>\n",
       "                        <td id=\"T_80a7e56e_8143_11eb_a76c_f48c50c59f44row10_col0\" class=\"data row10 col0\" >-0.168814</td>\n",
       "                        <td id=\"T_80a7e56e_8143_11eb_a76c_f48c50c59f44row10_col1\" class=\"data row10 col1\" >-0.030711</td>\n",
       "                        <td id=\"T_80a7e56e_8143_11eb_a76c_f48c50c59f44row10_col2\" class=\"data row10 col2\" >0.119717</td>\n",
       "                        <td id=\"T_80a7e56e_8143_11eb_a76c_f48c50c59f44row10_col3\" class=\"data row10 col3\" >-0.121475</td>\n",
       "                        <td id=\"T_80a7e56e_8143_11eb_a76c_f48c50c59f44row10_col4\" class=\"data row10 col4\" >-0.004038</td>\n",
       "                        <td id=\"T_80a7e56e_8143_11eb_a76c_f48c50c59f44row10_col5\" class=\"data row10 col5\" >-0.059894</td>\n",
       "                        <td id=\"T_80a7e56e_8143_11eb_a76c_f48c50c59f44row10_col6\" class=\"data row10 col6\" >0.093045</td>\n",
       "                        <td id=\"T_80a7e56e_8143_11eb_a76c_f48c50c59f44row10_col7\" class=\"data row10 col7\" >0.386784</td>\n",
       "                        <td id=\"T_80a7e56e_8143_11eb_a76c_f48c50c59f44row10_col8\" class=\"data row10 col8\" >-0.257748</td>\n",
       "                        <td id=\"T_80a7e56e_8143_11eb_a76c_f48c50c59f44row10_col9\" class=\"data row10 col9\" >-0.577537</td>\n",
       "                        <td id=\"T_80a7e56e_8143_11eb_a76c_f48c50c59f44row10_col10\" class=\"data row10 col10\" >1.000000</td>\n",
       "                        <td id=\"T_80a7e56e_8143_11eb_a76c_f48c50c59f44row10_col11\" class=\"data row10 col11\" >-0.080155</td>\n",
       "                        <td id=\"T_80a7e56e_8143_11eb_a76c_f48c50c59f44row10_col12\" class=\"data row10 col12\" >-0.104764</td>\n",
       "                        <td id=\"T_80a7e56e_8143_11eb_a76c_f48c50c59f44row10_col13\" class=\"data row10 col13\" >0.345877</td>\n",
       "            </tr>\n",
       "            <tr>\n",
       "                        <th id=\"T_80a7e56e_8143_11eb_a76c_f48c50c59f44level0_row11\" class=\"row_heading level0 row11\" >ca</th>\n",
       "                        <td id=\"T_80a7e56e_8143_11eb_a76c_f48c50c59f44row11_col0\" class=\"data row11 col0\" >0.276326</td>\n",
       "                        <td id=\"T_80a7e56e_8143_11eb_a76c_f48c50c59f44row11_col1\" class=\"data row11 col1\" >0.118261</td>\n",
       "                        <td id=\"T_80a7e56e_8143_11eb_a76c_f48c50c59f44row11_col2\" class=\"data row11 col2\" >-0.181053</td>\n",
       "                        <td id=\"T_80a7e56e_8143_11eb_a76c_f48c50c59f44row11_col3\" class=\"data row11 col3\" >0.101389</td>\n",
       "                        <td id=\"T_80a7e56e_8143_11eb_a76c_f48c50c59f44row11_col4\" class=\"data row11 col4\" >0.070511</td>\n",
       "                        <td id=\"T_80a7e56e_8143_11eb_a76c_f48c50c59f44row11_col5\" class=\"data row11 col5\" >0.137979</td>\n",
       "                        <td id=\"T_80a7e56e_8143_11eb_a76c_f48c50c59f44row11_col6\" class=\"data row11 col6\" >-0.072042</td>\n",
       "                        <td id=\"T_80a7e56e_8143_11eb_a76c_f48c50c59f44row11_col7\" class=\"data row11 col7\" >-0.213177</td>\n",
       "                        <td id=\"T_80a7e56e_8143_11eb_a76c_f48c50c59f44row11_col8\" class=\"data row11 col8\" >0.115739</td>\n",
       "                        <td id=\"T_80a7e56e_8143_11eb_a76c_f48c50c59f44row11_col9\" class=\"data row11 col9\" >0.222682</td>\n",
       "                        <td id=\"T_80a7e56e_8143_11eb_a76c_f48c50c59f44row11_col10\" class=\"data row11 col10\" >-0.080155</td>\n",
       "                        <td id=\"T_80a7e56e_8143_11eb_a76c_f48c50c59f44row11_col11\" class=\"data row11 col11\" >1.000000</td>\n",
       "                        <td id=\"T_80a7e56e_8143_11eb_a76c_f48c50c59f44row11_col12\" class=\"data row11 col12\" >0.151832</td>\n",
       "                        <td id=\"T_80a7e56e_8143_11eb_a76c_f48c50c59f44row11_col13\" class=\"data row11 col13\" >-0.391724</td>\n",
       "            </tr>\n",
       "            <tr>\n",
       "                        <th id=\"T_80a7e56e_8143_11eb_a76c_f48c50c59f44level0_row12\" class=\"row_heading level0 row12\" >thal</th>\n",
       "                        <td id=\"T_80a7e56e_8143_11eb_a76c_f48c50c59f44row12_col0\" class=\"data row12 col0\" >0.068001</td>\n",
       "                        <td id=\"T_80a7e56e_8143_11eb_a76c_f48c50c59f44row12_col1\" class=\"data row12 col1\" >0.210041</td>\n",
       "                        <td id=\"T_80a7e56e_8143_11eb_a76c_f48c50c59f44row12_col2\" class=\"data row12 col2\" >-0.161736</td>\n",
       "                        <td id=\"T_80a7e56e_8143_11eb_a76c_f48c50c59f44row12_col3\" class=\"data row12 col3\" >0.062210</td>\n",
       "                        <td id=\"T_80a7e56e_8143_11eb_a76c_f48c50c59f44row12_col4\" class=\"data row12 col4\" >0.098803</td>\n",
       "                        <td id=\"T_80a7e56e_8143_11eb_a76c_f48c50c59f44row12_col5\" class=\"data row12 col5\" >-0.032019</td>\n",
       "                        <td id=\"T_80a7e56e_8143_11eb_a76c_f48c50c59f44row12_col6\" class=\"data row12 col6\" >-0.011981</td>\n",
       "                        <td id=\"T_80a7e56e_8143_11eb_a76c_f48c50c59f44row12_col7\" class=\"data row12 col7\" >-0.096439</td>\n",
       "                        <td id=\"T_80a7e56e_8143_11eb_a76c_f48c50c59f44row12_col8\" class=\"data row12 col8\" >0.206754</td>\n",
       "                        <td id=\"T_80a7e56e_8143_11eb_a76c_f48c50c59f44row12_col9\" class=\"data row12 col9\" >0.210244</td>\n",
       "                        <td id=\"T_80a7e56e_8143_11eb_a76c_f48c50c59f44row12_col10\" class=\"data row12 col10\" >-0.104764</td>\n",
       "                        <td id=\"T_80a7e56e_8143_11eb_a76c_f48c50c59f44row12_col11\" class=\"data row12 col11\" >0.151832</td>\n",
       "                        <td id=\"T_80a7e56e_8143_11eb_a76c_f48c50c59f44row12_col12\" class=\"data row12 col12\" >1.000000</td>\n",
       "                        <td id=\"T_80a7e56e_8143_11eb_a76c_f48c50c59f44row12_col13\" class=\"data row12 col13\" >-0.344029</td>\n",
       "            </tr>\n",
       "            <tr>\n",
       "                        <th id=\"T_80a7e56e_8143_11eb_a76c_f48c50c59f44level0_row13\" class=\"row_heading level0 row13\" >target</th>\n",
       "                        <td id=\"T_80a7e56e_8143_11eb_a76c_f48c50c59f44row13_col0\" class=\"data row13 col0\" >-0.225439</td>\n",
       "                        <td id=\"T_80a7e56e_8143_11eb_a76c_f48c50c59f44row13_col1\" class=\"data row13 col1\" >-0.280937</td>\n",
       "                        <td id=\"T_80a7e56e_8143_11eb_a76c_f48c50c59f44row13_col2\" class=\"data row13 col2\" >0.433798</td>\n",
       "                        <td id=\"T_80a7e56e_8143_11eb_a76c_f48c50c59f44row13_col3\" class=\"data row13 col3\" >-0.144931</td>\n",
       "                        <td id=\"T_80a7e56e_8143_11eb_a76c_f48c50c59f44row13_col4\" class=\"data row13 col4\" >-0.085239</td>\n",
       "                        <td id=\"T_80a7e56e_8143_11eb_a76c_f48c50c59f44row13_col5\" class=\"data row13 col5\" >-0.028046</td>\n",
       "                        <td id=\"T_80a7e56e_8143_11eb_a76c_f48c50c59f44row13_col6\" class=\"data row13 col6\" >0.137230</td>\n",
       "                        <td id=\"T_80a7e56e_8143_11eb_a76c_f48c50c59f44row13_col7\" class=\"data row13 col7\" >0.421741</td>\n",
       "                        <td id=\"T_80a7e56e_8143_11eb_a76c_f48c50c59f44row13_col8\" class=\"data row13 col8\" >-0.436757</td>\n",
       "                        <td id=\"T_80a7e56e_8143_11eb_a76c_f48c50c59f44row13_col9\" class=\"data row13 col9\" >-0.430696</td>\n",
       "                        <td id=\"T_80a7e56e_8143_11eb_a76c_f48c50c59f44row13_col10\" class=\"data row13 col10\" >0.345877</td>\n",
       "                        <td id=\"T_80a7e56e_8143_11eb_a76c_f48c50c59f44row13_col11\" class=\"data row13 col11\" >-0.391724</td>\n",
       "                        <td id=\"T_80a7e56e_8143_11eb_a76c_f48c50c59f44row13_col12\" class=\"data row13 col12\" >-0.344029</td>\n",
       "                        <td id=\"T_80a7e56e_8143_11eb_a76c_f48c50c59f44row13_col13\" class=\"data row13 col13\" >1.000000</td>\n",
       "            </tr>\n",
       "    </tbody></table>"
      ],
      "text/plain": [
       "<pandas.io.formats.style.Styler at 0x158df7cd648>"
      ]
     },
     "execution_count": 213,
     "metadata": {},
     "output_type": "execute_result"
    }
   ],
   "source": [
    "# 查看特征之间的相关系数具体数值\n",
    "data.corr().style.background_gradient(cmap='coolwarm')"
   ]
  },
  {
   "cell_type": "markdown",
   "metadata": {},
   "source": [
    "## 数据处理\n",
    "### 问题1：Onehot编码（10分）\n",
    "&emsp;&emsp;<font color=red>请对data数据中需要进行Onehot的特征列，进行Onehot编码处理。</font><br>"
   ]
  },
  {
   "cell_type": "code",
   "execution_count": 214,
   "metadata": {},
   "outputs": [],
   "source": [
    "######## your code ########\n",
    "data = pd.get_dummies(data, columns=['sex','cp','fbs','restecg','exang','slope','ca','thal'])\n",
    "# Onehot_data = data.iloc[:,6:]\n",
    "# Onehot_data\n",
    "######## your code ########"
   ]
  },
  {
   "cell_type": "code",
   "execution_count": 197,
   "metadata": {},
   "outputs": [
    {
     "data": {
      "text/html": [
       "<div>\n",
       "<style scoped>\n",
       "    .dataframe tbody tr th:only-of-type {\n",
       "        vertical-align: middle;\n",
       "    }\n",
       "\n",
       "    .dataframe tbody tr th {\n",
       "        vertical-align: top;\n",
       "    }\n",
       "\n",
       "    .dataframe thead th {\n",
       "        text-align: right;\n",
       "    }\n",
       "</style>\n",
       "<table border=\"1\" class=\"dataframe\">\n",
       "  <thead>\n",
       "    <tr style=\"text-align: right;\">\n",
       "      <th></th>\n",
       "      <th>sex_0</th>\n",
       "      <th>sex_1</th>\n",
       "      <th>cp_0</th>\n",
       "      <th>cp_1</th>\n",
       "      <th>cp_2</th>\n",
       "      <th>cp_3</th>\n",
       "      <th>fbs_0</th>\n",
       "      <th>fbs_1</th>\n",
       "      <th>restecg_0</th>\n",
       "      <th>restecg_1</th>\n",
       "      <th>...</th>\n",
       "      <th>slope_2</th>\n",
       "      <th>ca_0</th>\n",
       "      <th>ca_1</th>\n",
       "      <th>ca_2</th>\n",
       "      <th>ca_3</th>\n",
       "      <th>ca_4</th>\n",
       "      <th>thal_0</th>\n",
       "      <th>thal_1</th>\n",
       "      <th>thal_2</th>\n",
       "      <th>thal_3</th>\n",
       "    </tr>\n",
       "  </thead>\n",
       "  <tbody>\n",
       "    <tr>\n",
       "      <th>0</th>\n",
       "      <td>0</td>\n",
       "      <td>1</td>\n",
       "      <td>0</td>\n",
       "      <td>0</td>\n",
       "      <td>0</td>\n",
       "      <td>1</td>\n",
       "      <td>0</td>\n",
       "      <td>1</td>\n",
       "      <td>1</td>\n",
       "      <td>0</td>\n",
       "      <td>...</td>\n",
       "      <td>0</td>\n",
       "      <td>1</td>\n",
       "      <td>0</td>\n",
       "      <td>0</td>\n",
       "      <td>0</td>\n",
       "      <td>0</td>\n",
       "      <td>0</td>\n",
       "      <td>1</td>\n",
       "      <td>0</td>\n",
       "      <td>0</td>\n",
       "    </tr>\n",
       "    <tr>\n",
       "      <th>1</th>\n",
       "      <td>0</td>\n",
       "      <td>1</td>\n",
       "      <td>0</td>\n",
       "      <td>0</td>\n",
       "      <td>1</td>\n",
       "      <td>0</td>\n",
       "      <td>1</td>\n",
       "      <td>0</td>\n",
       "      <td>0</td>\n",
       "      <td>1</td>\n",
       "      <td>...</td>\n",
       "      <td>0</td>\n",
       "      <td>1</td>\n",
       "      <td>0</td>\n",
       "      <td>0</td>\n",
       "      <td>0</td>\n",
       "      <td>0</td>\n",
       "      <td>0</td>\n",
       "      <td>0</td>\n",
       "      <td>1</td>\n",
       "      <td>0</td>\n",
       "    </tr>\n",
       "    <tr>\n",
       "      <th>2</th>\n",
       "      <td>1</td>\n",
       "      <td>0</td>\n",
       "      <td>0</td>\n",
       "      <td>1</td>\n",
       "      <td>0</td>\n",
       "      <td>0</td>\n",
       "      <td>1</td>\n",
       "      <td>0</td>\n",
       "      <td>1</td>\n",
       "      <td>0</td>\n",
       "      <td>...</td>\n",
       "      <td>1</td>\n",
       "      <td>1</td>\n",
       "      <td>0</td>\n",
       "      <td>0</td>\n",
       "      <td>0</td>\n",
       "      <td>0</td>\n",
       "      <td>0</td>\n",
       "      <td>0</td>\n",
       "      <td>1</td>\n",
       "      <td>0</td>\n",
       "    </tr>\n",
       "    <tr>\n",
       "      <th>3</th>\n",
       "      <td>0</td>\n",
       "      <td>1</td>\n",
       "      <td>0</td>\n",
       "      <td>1</td>\n",
       "      <td>0</td>\n",
       "      <td>0</td>\n",
       "      <td>1</td>\n",
       "      <td>0</td>\n",
       "      <td>0</td>\n",
       "      <td>1</td>\n",
       "      <td>...</td>\n",
       "      <td>1</td>\n",
       "      <td>1</td>\n",
       "      <td>0</td>\n",
       "      <td>0</td>\n",
       "      <td>0</td>\n",
       "      <td>0</td>\n",
       "      <td>0</td>\n",
       "      <td>0</td>\n",
       "      <td>1</td>\n",
       "      <td>0</td>\n",
       "    </tr>\n",
       "    <tr>\n",
       "      <th>4</th>\n",
       "      <td>1</td>\n",
       "      <td>0</td>\n",
       "      <td>1</td>\n",
       "      <td>0</td>\n",
       "      <td>0</td>\n",
       "      <td>0</td>\n",
       "      <td>1</td>\n",
       "      <td>0</td>\n",
       "      <td>0</td>\n",
       "      <td>1</td>\n",
       "      <td>...</td>\n",
       "      <td>1</td>\n",
       "      <td>1</td>\n",
       "      <td>0</td>\n",
       "      <td>0</td>\n",
       "      <td>0</td>\n",
       "      <td>0</td>\n",
       "      <td>0</td>\n",
       "      <td>0</td>\n",
       "      <td>1</td>\n",
       "      <td>0</td>\n",
       "    </tr>\n",
       "    <tr>\n",
       "      <th>...</th>\n",
       "      <td>...</td>\n",
       "      <td>...</td>\n",
       "      <td>...</td>\n",
       "      <td>...</td>\n",
       "      <td>...</td>\n",
       "      <td>...</td>\n",
       "      <td>...</td>\n",
       "      <td>...</td>\n",
       "      <td>...</td>\n",
       "      <td>...</td>\n",
       "      <td>...</td>\n",
       "      <td>...</td>\n",
       "      <td>...</td>\n",
       "      <td>...</td>\n",
       "      <td>...</td>\n",
       "      <td>...</td>\n",
       "      <td>...</td>\n",
       "      <td>...</td>\n",
       "      <td>...</td>\n",
       "      <td>...</td>\n",
       "      <td>...</td>\n",
       "    </tr>\n",
       "    <tr>\n",
       "      <th>298</th>\n",
       "      <td>1</td>\n",
       "      <td>0</td>\n",
       "      <td>1</td>\n",
       "      <td>0</td>\n",
       "      <td>0</td>\n",
       "      <td>0</td>\n",
       "      <td>1</td>\n",
       "      <td>0</td>\n",
       "      <td>0</td>\n",
       "      <td>1</td>\n",
       "      <td>...</td>\n",
       "      <td>0</td>\n",
       "      <td>1</td>\n",
       "      <td>0</td>\n",
       "      <td>0</td>\n",
       "      <td>0</td>\n",
       "      <td>0</td>\n",
       "      <td>0</td>\n",
       "      <td>0</td>\n",
       "      <td>0</td>\n",
       "      <td>1</td>\n",
       "    </tr>\n",
       "    <tr>\n",
       "      <th>299</th>\n",
       "      <td>0</td>\n",
       "      <td>1</td>\n",
       "      <td>0</td>\n",
       "      <td>0</td>\n",
       "      <td>0</td>\n",
       "      <td>1</td>\n",
       "      <td>1</td>\n",
       "      <td>0</td>\n",
       "      <td>0</td>\n",
       "      <td>1</td>\n",
       "      <td>...</td>\n",
       "      <td>0</td>\n",
       "      <td>1</td>\n",
       "      <td>0</td>\n",
       "      <td>0</td>\n",
       "      <td>0</td>\n",
       "      <td>0</td>\n",
       "      <td>0</td>\n",
       "      <td>0</td>\n",
       "      <td>0</td>\n",
       "      <td>1</td>\n",
       "    </tr>\n",
       "    <tr>\n",
       "      <th>300</th>\n",
       "      <td>0</td>\n",
       "      <td>1</td>\n",
       "      <td>1</td>\n",
       "      <td>0</td>\n",
       "      <td>0</td>\n",
       "      <td>0</td>\n",
       "      <td>0</td>\n",
       "      <td>1</td>\n",
       "      <td>0</td>\n",
       "      <td>1</td>\n",
       "      <td>...</td>\n",
       "      <td>0</td>\n",
       "      <td>0</td>\n",
       "      <td>0</td>\n",
       "      <td>1</td>\n",
       "      <td>0</td>\n",
       "      <td>0</td>\n",
       "      <td>0</td>\n",
       "      <td>0</td>\n",
       "      <td>0</td>\n",
       "      <td>1</td>\n",
       "    </tr>\n",
       "    <tr>\n",
       "      <th>301</th>\n",
       "      <td>0</td>\n",
       "      <td>1</td>\n",
       "      <td>1</td>\n",
       "      <td>0</td>\n",
       "      <td>0</td>\n",
       "      <td>0</td>\n",
       "      <td>1</td>\n",
       "      <td>0</td>\n",
       "      <td>0</td>\n",
       "      <td>1</td>\n",
       "      <td>...</td>\n",
       "      <td>0</td>\n",
       "      <td>0</td>\n",
       "      <td>1</td>\n",
       "      <td>0</td>\n",
       "      <td>0</td>\n",
       "      <td>0</td>\n",
       "      <td>0</td>\n",
       "      <td>0</td>\n",
       "      <td>0</td>\n",
       "      <td>1</td>\n",
       "    </tr>\n",
       "    <tr>\n",
       "      <th>302</th>\n",
       "      <td>1</td>\n",
       "      <td>0</td>\n",
       "      <td>0</td>\n",
       "      <td>1</td>\n",
       "      <td>0</td>\n",
       "      <td>0</td>\n",
       "      <td>1</td>\n",
       "      <td>0</td>\n",
       "      <td>1</td>\n",
       "      <td>0</td>\n",
       "      <td>...</td>\n",
       "      <td>0</td>\n",
       "      <td>0</td>\n",
       "      <td>1</td>\n",
       "      <td>0</td>\n",
       "      <td>0</td>\n",
       "      <td>0</td>\n",
       "      <td>0</td>\n",
       "      <td>0</td>\n",
       "      <td>1</td>\n",
       "      <td>0</td>\n",
       "    </tr>\n",
       "  </tbody>\n",
       "</table>\n",
       "<p>303 rows × 25 columns</p>\n",
       "</div>"
      ],
      "text/plain": [
       "     sex_0  sex_1  cp_0  cp_1  cp_2  cp_3  fbs_0  fbs_1  restecg_0  restecg_1  \\\n",
       "0        0      1     0     0     0     1      0      1          1          0   \n",
       "1        0      1     0     0     1     0      1      0          0          1   \n",
       "2        1      0     0     1     0     0      1      0          1          0   \n",
       "3        0      1     0     1     0     0      1      0          0          1   \n",
       "4        1      0     1     0     0     0      1      0          0          1   \n",
       "..     ...    ...   ...   ...   ...   ...    ...    ...        ...        ...   \n",
       "298      1      0     1     0     0     0      1      0          0          1   \n",
       "299      0      1     0     0     0     1      1      0          0          1   \n",
       "300      0      1     1     0     0     0      0      1          0          1   \n",
       "301      0      1     1     0     0     0      1      0          0          1   \n",
       "302      1      0     0     1     0     0      1      0          1          0   \n",
       "\n",
       "     ...  slope_2  ca_0  ca_1  ca_2  ca_3  ca_4  thal_0  thal_1  thal_2  \\\n",
       "0    ...        0     1     0     0     0     0       0       1       0   \n",
       "1    ...        0     1     0     0     0     0       0       0       1   \n",
       "2    ...        1     1     0     0     0     0       0       0       1   \n",
       "3    ...        1     1     0     0     0     0       0       0       1   \n",
       "4    ...        1     1     0     0     0     0       0       0       1   \n",
       "..   ...      ...   ...   ...   ...   ...   ...     ...     ...     ...   \n",
       "298  ...        0     1     0     0     0     0       0       0       0   \n",
       "299  ...        0     1     0     0     0     0       0       0       0   \n",
       "300  ...        0     0     0     1     0     0       0       0       0   \n",
       "301  ...        0     0     1     0     0     0       0       0       0   \n",
       "302  ...        0     0     1     0     0     0       0       0       1   \n",
       "\n",
       "     thal_3  \n",
       "0         0  \n",
       "1         0  \n",
       "2         0  \n",
       "3         0  \n",
       "4         0  \n",
       "..      ...  \n",
       "298       1  \n",
       "299       1  \n",
       "300       1  \n",
       "301       1  \n",
       "302       0  \n",
       "\n",
       "[303 rows x 25 columns]"
      ]
     },
     "execution_count": 197,
     "metadata": {},
     "output_type": "execute_result"
    }
   ],
   "source": [
    "x_data_O = data.iloc[:,6:]\n",
    "x_data_O"
   ]
  },
  {
   "cell_type": "markdown",
   "metadata": {},
   "source": [
    "&emsp;&emsp;打印数据info，查看数据列变化。<br>"
   ]
  },
  {
   "cell_type": "code",
   "execution_count": 215,
   "metadata": {},
   "outputs": [
    {
     "name": "stdout",
     "output_type": "stream",
     "text": [
      "<class 'pandas.core.frame.DataFrame'>\n",
      "RangeIndex: 303 entries, 0 to 302\n",
      "Data columns (total 31 columns):\n",
      " #   Column     Non-Null Count  Dtype  \n",
      "---  ------     --------------  -----  \n",
      " 0   age        303 non-null    int64  \n",
      " 1   trestbps   303 non-null    int64  \n",
      " 2   chol       303 non-null    int64  \n",
      " 3   thalach    303 non-null    int64  \n",
      " 4   oldpeak    303 non-null    float64\n",
      " 5   target     303 non-null    int64  \n",
      " 6   sex_0      303 non-null    uint8  \n",
      " 7   sex_1      303 non-null    uint8  \n",
      " 8   cp_0       303 non-null    uint8  \n",
      " 9   cp_1       303 non-null    uint8  \n",
      " 10  cp_2       303 non-null    uint8  \n",
      " 11  cp_3       303 non-null    uint8  \n",
      " 12  fbs_0      303 non-null    uint8  \n",
      " 13  fbs_1      303 non-null    uint8  \n",
      " 14  restecg_0  303 non-null    uint8  \n",
      " 15  restecg_1  303 non-null    uint8  \n",
      " 16  restecg_2  303 non-null    uint8  \n",
      " 17  exang_0    303 non-null    uint8  \n",
      " 18  exang_1    303 non-null    uint8  \n",
      " 19  slope_0    303 non-null    uint8  \n",
      " 20  slope_1    303 non-null    uint8  \n",
      " 21  slope_2    303 non-null    uint8  \n",
      " 22  ca_0       303 non-null    uint8  \n",
      " 23  ca_1       303 non-null    uint8  \n",
      " 24  ca_2       303 non-null    uint8  \n",
      " 25  ca_3       303 non-null    uint8  \n",
      " 26  ca_4       303 non-null    uint8  \n",
      " 27  thal_0     303 non-null    uint8  \n",
      " 28  thal_1     303 non-null    uint8  \n",
      " 29  thal_2     303 non-null    uint8  \n",
      " 30  thal_3     303 non-null    uint8  \n",
      "dtypes: float64(1), int64(5), uint8(25)\n",
      "memory usage: 21.7 KB\n"
     ]
    }
   ],
   "source": [
    "data.info()"
   ]
  },
  {
   "cell_type": "markdown",
   "metadata": {},
   "source": [
    "### 问题2：数据、标签划分（10分）\n",
    "&emsp;&emsp;<font color=red>请对data数据进行标签划分，划分出x_data（Data）与y_data(Laber)。</font><br>"
   ]
  },
  {
   "cell_type": "code",
   "execution_count": 216,
   "metadata": {},
   "outputs": [],
   "source": [
    "######## your code ########\n",
    "x_data = data.drop(columns=['target'])\n",
    "y_data = data.loc[:,'target']\n",
    "######## your code ########"
   ]
  },
  {
   "cell_type": "code",
   "execution_count": 217,
   "metadata": {},
   "outputs": [
    {
     "data": {
      "text/html": [
       "<div>\n",
       "<style scoped>\n",
       "    .dataframe tbody tr th:only-of-type {\n",
       "        vertical-align: middle;\n",
       "    }\n",
       "\n",
       "    .dataframe tbody tr th {\n",
       "        vertical-align: top;\n",
       "    }\n",
       "\n",
       "    .dataframe thead th {\n",
       "        text-align: right;\n",
       "    }\n",
       "</style>\n",
       "<table border=\"1\" class=\"dataframe\">\n",
       "  <thead>\n",
       "    <tr style=\"text-align: right;\">\n",
       "      <th></th>\n",
       "      <th>age</th>\n",
       "      <th>trestbps</th>\n",
       "      <th>chol</th>\n",
       "      <th>thalach</th>\n",
       "      <th>oldpeak</th>\n",
       "      <th>sex_0</th>\n",
       "      <th>sex_1</th>\n",
       "      <th>cp_0</th>\n",
       "      <th>cp_1</th>\n",
       "      <th>cp_2</th>\n",
       "      <th>...</th>\n",
       "      <th>slope_2</th>\n",
       "      <th>ca_0</th>\n",
       "      <th>ca_1</th>\n",
       "      <th>ca_2</th>\n",
       "      <th>ca_3</th>\n",
       "      <th>ca_4</th>\n",
       "      <th>thal_0</th>\n",
       "      <th>thal_1</th>\n",
       "      <th>thal_2</th>\n",
       "      <th>thal_3</th>\n",
       "    </tr>\n",
       "  </thead>\n",
       "  <tbody>\n",
       "    <tr>\n",
       "      <th>0</th>\n",
       "      <td>63</td>\n",
       "      <td>145</td>\n",
       "      <td>233</td>\n",
       "      <td>150</td>\n",
       "      <td>2.3</td>\n",
       "      <td>0</td>\n",
       "      <td>1</td>\n",
       "      <td>0</td>\n",
       "      <td>0</td>\n",
       "      <td>0</td>\n",
       "      <td>...</td>\n",
       "      <td>0</td>\n",
       "      <td>1</td>\n",
       "      <td>0</td>\n",
       "      <td>0</td>\n",
       "      <td>0</td>\n",
       "      <td>0</td>\n",
       "      <td>0</td>\n",
       "      <td>1</td>\n",
       "      <td>0</td>\n",
       "      <td>0</td>\n",
       "    </tr>\n",
       "    <tr>\n",
       "      <th>1</th>\n",
       "      <td>37</td>\n",
       "      <td>130</td>\n",
       "      <td>250</td>\n",
       "      <td>187</td>\n",
       "      <td>3.5</td>\n",
       "      <td>0</td>\n",
       "      <td>1</td>\n",
       "      <td>0</td>\n",
       "      <td>0</td>\n",
       "      <td>1</td>\n",
       "      <td>...</td>\n",
       "      <td>0</td>\n",
       "      <td>1</td>\n",
       "      <td>0</td>\n",
       "      <td>0</td>\n",
       "      <td>0</td>\n",
       "      <td>0</td>\n",
       "      <td>0</td>\n",
       "      <td>0</td>\n",
       "      <td>1</td>\n",
       "      <td>0</td>\n",
       "    </tr>\n",
       "    <tr>\n",
       "      <th>2</th>\n",
       "      <td>41</td>\n",
       "      <td>130</td>\n",
       "      <td>204</td>\n",
       "      <td>172</td>\n",
       "      <td>1.4</td>\n",
       "      <td>1</td>\n",
       "      <td>0</td>\n",
       "      <td>0</td>\n",
       "      <td>1</td>\n",
       "      <td>0</td>\n",
       "      <td>...</td>\n",
       "      <td>1</td>\n",
       "      <td>1</td>\n",
       "      <td>0</td>\n",
       "      <td>0</td>\n",
       "      <td>0</td>\n",
       "      <td>0</td>\n",
       "      <td>0</td>\n",
       "      <td>0</td>\n",
       "      <td>1</td>\n",
       "      <td>0</td>\n",
       "    </tr>\n",
       "    <tr>\n",
       "      <th>3</th>\n",
       "      <td>56</td>\n",
       "      <td>120</td>\n",
       "      <td>236</td>\n",
       "      <td>178</td>\n",
       "      <td>0.8</td>\n",
       "      <td>0</td>\n",
       "      <td>1</td>\n",
       "      <td>0</td>\n",
       "      <td>1</td>\n",
       "      <td>0</td>\n",
       "      <td>...</td>\n",
       "      <td>1</td>\n",
       "      <td>1</td>\n",
       "      <td>0</td>\n",
       "      <td>0</td>\n",
       "      <td>0</td>\n",
       "      <td>0</td>\n",
       "      <td>0</td>\n",
       "      <td>0</td>\n",
       "      <td>1</td>\n",
       "      <td>0</td>\n",
       "    </tr>\n",
       "    <tr>\n",
       "      <th>4</th>\n",
       "      <td>57</td>\n",
       "      <td>120</td>\n",
       "      <td>354</td>\n",
       "      <td>163</td>\n",
       "      <td>0.6</td>\n",
       "      <td>1</td>\n",
       "      <td>0</td>\n",
       "      <td>1</td>\n",
       "      <td>0</td>\n",
       "      <td>0</td>\n",
       "      <td>...</td>\n",
       "      <td>1</td>\n",
       "      <td>1</td>\n",
       "      <td>0</td>\n",
       "      <td>0</td>\n",
       "      <td>0</td>\n",
       "      <td>0</td>\n",
       "      <td>0</td>\n",
       "      <td>0</td>\n",
       "      <td>1</td>\n",
       "      <td>0</td>\n",
       "    </tr>\n",
       "    <tr>\n",
       "      <th>...</th>\n",
       "      <td>...</td>\n",
       "      <td>...</td>\n",
       "      <td>...</td>\n",
       "      <td>...</td>\n",
       "      <td>...</td>\n",
       "      <td>...</td>\n",
       "      <td>...</td>\n",
       "      <td>...</td>\n",
       "      <td>...</td>\n",
       "      <td>...</td>\n",
       "      <td>...</td>\n",
       "      <td>...</td>\n",
       "      <td>...</td>\n",
       "      <td>...</td>\n",
       "      <td>...</td>\n",
       "      <td>...</td>\n",
       "      <td>...</td>\n",
       "      <td>...</td>\n",
       "      <td>...</td>\n",
       "      <td>...</td>\n",
       "      <td>...</td>\n",
       "    </tr>\n",
       "    <tr>\n",
       "      <th>298</th>\n",
       "      <td>57</td>\n",
       "      <td>140</td>\n",
       "      <td>241</td>\n",
       "      <td>123</td>\n",
       "      <td>0.2</td>\n",
       "      <td>1</td>\n",
       "      <td>0</td>\n",
       "      <td>1</td>\n",
       "      <td>0</td>\n",
       "      <td>0</td>\n",
       "      <td>...</td>\n",
       "      <td>0</td>\n",
       "      <td>1</td>\n",
       "      <td>0</td>\n",
       "      <td>0</td>\n",
       "      <td>0</td>\n",
       "      <td>0</td>\n",
       "      <td>0</td>\n",
       "      <td>0</td>\n",
       "      <td>0</td>\n",
       "      <td>1</td>\n",
       "    </tr>\n",
       "    <tr>\n",
       "      <th>299</th>\n",
       "      <td>45</td>\n",
       "      <td>110</td>\n",
       "      <td>264</td>\n",
       "      <td>132</td>\n",
       "      <td>1.2</td>\n",
       "      <td>0</td>\n",
       "      <td>1</td>\n",
       "      <td>0</td>\n",
       "      <td>0</td>\n",
       "      <td>0</td>\n",
       "      <td>...</td>\n",
       "      <td>0</td>\n",
       "      <td>1</td>\n",
       "      <td>0</td>\n",
       "      <td>0</td>\n",
       "      <td>0</td>\n",
       "      <td>0</td>\n",
       "      <td>0</td>\n",
       "      <td>0</td>\n",
       "      <td>0</td>\n",
       "      <td>1</td>\n",
       "    </tr>\n",
       "    <tr>\n",
       "      <th>300</th>\n",
       "      <td>68</td>\n",
       "      <td>144</td>\n",
       "      <td>193</td>\n",
       "      <td>141</td>\n",
       "      <td>3.4</td>\n",
       "      <td>0</td>\n",
       "      <td>1</td>\n",
       "      <td>1</td>\n",
       "      <td>0</td>\n",
       "      <td>0</td>\n",
       "      <td>...</td>\n",
       "      <td>0</td>\n",
       "      <td>0</td>\n",
       "      <td>0</td>\n",
       "      <td>1</td>\n",
       "      <td>0</td>\n",
       "      <td>0</td>\n",
       "      <td>0</td>\n",
       "      <td>0</td>\n",
       "      <td>0</td>\n",
       "      <td>1</td>\n",
       "    </tr>\n",
       "    <tr>\n",
       "      <th>301</th>\n",
       "      <td>57</td>\n",
       "      <td>130</td>\n",
       "      <td>131</td>\n",
       "      <td>115</td>\n",
       "      <td>1.2</td>\n",
       "      <td>0</td>\n",
       "      <td>1</td>\n",
       "      <td>1</td>\n",
       "      <td>0</td>\n",
       "      <td>0</td>\n",
       "      <td>...</td>\n",
       "      <td>0</td>\n",
       "      <td>0</td>\n",
       "      <td>1</td>\n",
       "      <td>0</td>\n",
       "      <td>0</td>\n",
       "      <td>0</td>\n",
       "      <td>0</td>\n",
       "      <td>0</td>\n",
       "      <td>0</td>\n",
       "      <td>1</td>\n",
       "    </tr>\n",
       "    <tr>\n",
       "      <th>302</th>\n",
       "      <td>57</td>\n",
       "      <td>130</td>\n",
       "      <td>236</td>\n",
       "      <td>174</td>\n",
       "      <td>0.0</td>\n",
       "      <td>1</td>\n",
       "      <td>0</td>\n",
       "      <td>0</td>\n",
       "      <td>1</td>\n",
       "      <td>0</td>\n",
       "      <td>...</td>\n",
       "      <td>0</td>\n",
       "      <td>0</td>\n",
       "      <td>1</td>\n",
       "      <td>0</td>\n",
       "      <td>0</td>\n",
       "      <td>0</td>\n",
       "      <td>0</td>\n",
       "      <td>0</td>\n",
       "      <td>1</td>\n",
       "      <td>0</td>\n",
       "    </tr>\n",
       "  </tbody>\n",
       "</table>\n",
       "<p>303 rows × 30 columns</p>\n",
       "</div>"
      ],
      "text/plain": [
       "     age  trestbps  chol  thalach  oldpeak  sex_0  sex_1  cp_0  cp_1  cp_2  \\\n",
       "0     63       145   233      150      2.3      0      1     0     0     0   \n",
       "1     37       130   250      187      3.5      0      1     0     0     1   \n",
       "2     41       130   204      172      1.4      1      0     0     1     0   \n",
       "3     56       120   236      178      0.8      0      1     0     1     0   \n",
       "4     57       120   354      163      0.6      1      0     1     0     0   \n",
       "..   ...       ...   ...      ...      ...    ...    ...   ...   ...   ...   \n",
       "298   57       140   241      123      0.2      1      0     1     0     0   \n",
       "299   45       110   264      132      1.2      0      1     0     0     0   \n",
       "300   68       144   193      141      3.4      0      1     1     0     0   \n",
       "301   57       130   131      115      1.2      0      1     1     0     0   \n",
       "302   57       130   236      174      0.0      1      0     0     1     0   \n",
       "\n",
       "     ...  slope_2  ca_0  ca_1  ca_2  ca_3  ca_4  thal_0  thal_1  thal_2  \\\n",
       "0    ...        0     1     0     0     0     0       0       1       0   \n",
       "1    ...        0     1     0     0     0     0       0       0       1   \n",
       "2    ...        1     1     0     0     0     0       0       0       1   \n",
       "3    ...        1     1     0     0     0     0       0       0       1   \n",
       "4    ...        1     1     0     0     0     0       0       0       1   \n",
       "..   ...      ...   ...   ...   ...   ...   ...     ...     ...     ...   \n",
       "298  ...        0     1     0     0     0     0       0       0       0   \n",
       "299  ...        0     1     0     0     0     0       0       0       0   \n",
       "300  ...        0     0     0     1     0     0       0       0       0   \n",
       "301  ...        0     0     1     0     0     0       0       0       0   \n",
       "302  ...        0     0     1     0     0     0       0       0       1   \n",
       "\n",
       "     thal_3  \n",
       "0         0  \n",
       "1         0  \n",
       "2         0  \n",
       "3         0  \n",
       "4         0  \n",
       "..      ...  \n",
       "298       1  \n",
       "299       1  \n",
       "300       1  \n",
       "301       1  \n",
       "302       0  \n",
       "\n",
       "[303 rows x 30 columns]"
      ]
     },
     "execution_count": 217,
     "metadata": {},
     "output_type": "execute_result"
    }
   ],
   "source": [
    "x_data"
   ]
  },
  {
   "cell_type": "code",
   "execution_count": 218,
   "metadata": {},
   "outputs": [
    {
     "data": {
      "text/plain": [
       "0      1\n",
       "1      1\n",
       "2      1\n",
       "3      1\n",
       "4      1\n",
       "      ..\n",
       "298    0\n",
       "299    0\n",
       "300    0\n",
       "301    0\n",
       "302    0\n",
       "Name: target, Length: 303, dtype: int64"
      ]
     },
     "execution_count": 218,
     "metadata": {},
     "output_type": "execute_result"
    }
   ],
   "source": [
    "y_data"
   ]
  },
  {
   "cell_type": "markdown",
   "metadata": {},
   "source": [
    "### 问题3：归一化处理（20分）\n",
    "&emsp;&emsp;<font color=red>请对所有数据列进行归一化处理。</font><br>"
   ]
  },
  {
   "cell_type": "code",
   "execution_count": 228,
   "metadata": {},
   "outputs": [],
   "source": [
    "######## your code ########\n",
    "# 标准化器定义\n",
    "scaler = StandardScaler()\n",
    "# 标准化器训练\n",
    "scaler.fit(x_data)\n",
    "# print(scaler.mean_)\n",
    "# 去除经过One-hot处理的数据\n",
    "x_data_S = x_data.loc[:,['age','trestbps','chol','thalach','oldpeak']]\n",
    "# 使用标准化器对数据进行标准化\n",
    "x_data_S = scaler.fit_transform(x_data_S)\n",
    "# print(scaler.transform(x_data))\n",
    "######## your code ########"
   ]
  },
  {
   "cell_type": "code",
   "execution_count": 225,
   "metadata": {},
   "outputs": [
    {
     "data": {
      "text/plain": [
       "array([[ 0.9521966 ,  0.76395577, -0.25633371,  0.01544279,  1.08733806],\n",
       "       [-1.91531289, -0.09273778,  0.07219949,  1.63347147,  2.12257273],\n",
       "       [-1.47415758, -0.09273778, -0.81677269,  0.97751389,  0.31091206],\n",
       "       ...,\n",
       "       [ 1.50364073,  0.70684287, -1.029353  , -0.37813176,  2.03630317],\n",
       "       [ 0.29046364, -0.09273778, -2.2275329 , -1.51512489,  0.13837295],\n",
       "       [ 0.29046364, -0.09273778, -0.19835726,  1.0649749 , -0.89686172]])"
      ]
     },
     "execution_count": 225,
     "metadata": {},
     "output_type": "execute_result"
    }
   ],
   "source": [
    "x_data_S"
   ]
  },
  {
   "cell_type": "markdown",
   "metadata": {},
   "source": [
    "### 问题4：训练、测试集划分（10分）\n",
    "&emsp;&emsp;<font color=red>请补全下列代码，将x_data、y_data划分成X_train,X_test,y_train,y_test，其中test占30%。</font><br>"
   ]
  },
  {
   "cell_type": "code",
   "execution_count": 229,
   "metadata": {
    "scrolled": true
   },
   "outputs": [
    {
     "data": {
      "text/plain": [
       "array([ 4.69005106e-17, -7.03507659e-16, -1.11388713e-16, -6.80057404e-16,\n",
       "        2.34502553e-17])"
      ]
     },
     "execution_count": 229,
     "metadata": {},
     "output_type": "execute_result"
    }
   ],
   "source": [
    "np.mean(x_data_S, axis=0)"
   ]
  },
  {
   "cell_type": "code",
   "execution_count": 230,
   "metadata": {},
   "outputs": [
    {
     "data": {
      "text/plain": [
       "array([1., 1., 1., 1., 1.])"
      ]
     },
     "execution_count": 230,
     "metadata": {},
     "output_type": "execute_result"
    }
   ],
   "source": [
    "np.std(x_data_S, axis=0)"
   ]
  },
  {
   "cell_type": "code",
   "execution_count": 232,
   "metadata": {},
   "outputs": [
    {
     "name": "stdout",
     "output_type": "stream",
     "text": [
      "<class 'pandas.core.frame.DataFrame'>\n",
      "RangeIndex: 303 entries, 0 to 302\n",
      "Data columns (total 31 columns):\n",
      " #   Column     Non-Null Count  Dtype  \n",
      "---  ------     --------------  -----  \n",
      " 0   age        303 non-null    int64  \n",
      " 1   trestbps   303 non-null    int64  \n",
      " 2   chol       303 non-null    int64  \n",
      " 3   thalach    303 non-null    int64  \n",
      " 4   oldpeak    303 non-null    float64\n",
      " 5   target     303 non-null    int64  \n",
      " 6   sex_0      303 non-null    uint8  \n",
      " 7   sex_1      303 non-null    uint8  \n",
      " 8   cp_0       303 non-null    uint8  \n",
      " 9   cp_1       303 non-null    uint8  \n",
      " 10  cp_2       303 non-null    uint8  \n",
      " 11  cp_3       303 non-null    uint8  \n",
      " 12  fbs_0      303 non-null    uint8  \n",
      " 13  fbs_1      303 non-null    uint8  \n",
      " 14  restecg_0  303 non-null    uint8  \n",
      " 15  restecg_1  303 non-null    uint8  \n",
      " 16  restecg_2  303 non-null    uint8  \n",
      " 17  exang_0    303 non-null    uint8  \n",
      " 18  exang_1    303 non-null    uint8  \n",
      " 19  slope_0    303 non-null    uint8  \n",
      " 20  slope_1    303 non-null    uint8  \n",
      " 21  slope_2    303 non-null    uint8  \n",
      " 22  ca_0       303 non-null    uint8  \n",
      " 23  ca_1       303 non-null    uint8  \n",
      " 24  ca_2       303 non-null    uint8  \n",
      " 25  ca_3       303 non-null    uint8  \n",
      " 26  ca_4       303 non-null    uint8  \n",
      " 27  thal_0     303 non-null    uint8  \n",
      " 28  thal_1     303 non-null    uint8  \n",
      " 29  thal_2     303 non-null    uint8  \n",
      " 30  thal_3     303 non-null    uint8  \n",
      "dtypes: float64(1), int64(5), uint8(25)\n",
      "memory usage: 21.7 KB\n"
     ]
    }
   ],
   "source": [
    "data.info()"
   ]
  },
  {
   "cell_type": "code",
   "execution_count": 233,
   "metadata": {},
   "outputs": [
    {
     "data": {
      "text/html": [
       "<div>\n",
       "<style scoped>\n",
       "    .dataframe tbody tr th:only-of-type {\n",
       "        vertical-align: middle;\n",
       "    }\n",
       "\n",
       "    .dataframe tbody tr th {\n",
       "        vertical-align: top;\n",
       "    }\n",
       "\n",
       "    .dataframe thead th {\n",
       "        text-align: right;\n",
       "    }\n",
       "</style>\n",
       "<table border=\"1\" class=\"dataframe\">\n",
       "  <thead>\n",
       "    <tr style=\"text-align: right;\">\n",
       "      <th></th>\n",
       "      <th>sex_0</th>\n",
       "      <th>sex_1</th>\n",
       "      <th>cp_0</th>\n",
       "      <th>cp_1</th>\n",
       "      <th>cp_2</th>\n",
       "      <th>cp_3</th>\n",
       "      <th>fbs_0</th>\n",
       "      <th>fbs_1</th>\n",
       "      <th>restecg_0</th>\n",
       "      <th>restecg_1</th>\n",
       "      <th>...</th>\n",
       "      <th>slope_2</th>\n",
       "      <th>ca_0</th>\n",
       "      <th>ca_1</th>\n",
       "      <th>ca_2</th>\n",
       "      <th>ca_3</th>\n",
       "      <th>ca_4</th>\n",
       "      <th>thal_0</th>\n",
       "      <th>thal_1</th>\n",
       "      <th>thal_2</th>\n",
       "      <th>thal_3</th>\n",
       "    </tr>\n",
       "  </thead>\n",
       "  <tbody>\n",
       "    <tr>\n",
       "      <th>0</th>\n",
       "      <td>0</td>\n",
       "      <td>1</td>\n",
       "      <td>0</td>\n",
       "      <td>0</td>\n",
       "      <td>0</td>\n",
       "      <td>1</td>\n",
       "      <td>0</td>\n",
       "      <td>1</td>\n",
       "      <td>1</td>\n",
       "      <td>0</td>\n",
       "      <td>...</td>\n",
       "      <td>0</td>\n",
       "      <td>1</td>\n",
       "      <td>0</td>\n",
       "      <td>0</td>\n",
       "      <td>0</td>\n",
       "      <td>0</td>\n",
       "      <td>0</td>\n",
       "      <td>1</td>\n",
       "      <td>0</td>\n",
       "      <td>0</td>\n",
       "    </tr>\n",
       "    <tr>\n",
       "      <th>1</th>\n",
       "      <td>0</td>\n",
       "      <td>1</td>\n",
       "      <td>0</td>\n",
       "      <td>0</td>\n",
       "      <td>1</td>\n",
       "      <td>0</td>\n",
       "      <td>1</td>\n",
       "      <td>0</td>\n",
       "      <td>0</td>\n",
       "      <td>1</td>\n",
       "      <td>...</td>\n",
       "      <td>0</td>\n",
       "      <td>1</td>\n",
       "      <td>0</td>\n",
       "      <td>0</td>\n",
       "      <td>0</td>\n",
       "      <td>0</td>\n",
       "      <td>0</td>\n",
       "      <td>0</td>\n",
       "      <td>1</td>\n",
       "      <td>0</td>\n",
       "    </tr>\n",
       "    <tr>\n",
       "      <th>2</th>\n",
       "      <td>1</td>\n",
       "      <td>0</td>\n",
       "      <td>0</td>\n",
       "      <td>1</td>\n",
       "      <td>0</td>\n",
       "      <td>0</td>\n",
       "      <td>1</td>\n",
       "      <td>0</td>\n",
       "      <td>1</td>\n",
       "      <td>0</td>\n",
       "      <td>...</td>\n",
       "      <td>1</td>\n",
       "      <td>1</td>\n",
       "      <td>0</td>\n",
       "      <td>0</td>\n",
       "      <td>0</td>\n",
       "      <td>0</td>\n",
       "      <td>0</td>\n",
       "      <td>0</td>\n",
       "      <td>1</td>\n",
       "      <td>0</td>\n",
       "    </tr>\n",
       "    <tr>\n",
       "      <th>3</th>\n",
       "      <td>0</td>\n",
       "      <td>1</td>\n",
       "      <td>0</td>\n",
       "      <td>1</td>\n",
       "      <td>0</td>\n",
       "      <td>0</td>\n",
       "      <td>1</td>\n",
       "      <td>0</td>\n",
       "      <td>0</td>\n",
       "      <td>1</td>\n",
       "      <td>...</td>\n",
       "      <td>1</td>\n",
       "      <td>1</td>\n",
       "      <td>0</td>\n",
       "      <td>0</td>\n",
       "      <td>0</td>\n",
       "      <td>0</td>\n",
       "      <td>0</td>\n",
       "      <td>0</td>\n",
       "      <td>1</td>\n",
       "      <td>0</td>\n",
       "    </tr>\n",
       "    <tr>\n",
       "      <th>4</th>\n",
       "      <td>1</td>\n",
       "      <td>0</td>\n",
       "      <td>1</td>\n",
       "      <td>0</td>\n",
       "      <td>0</td>\n",
       "      <td>0</td>\n",
       "      <td>1</td>\n",
       "      <td>0</td>\n",
       "      <td>0</td>\n",
       "      <td>1</td>\n",
       "      <td>...</td>\n",
       "      <td>1</td>\n",
       "      <td>1</td>\n",
       "      <td>0</td>\n",
       "      <td>0</td>\n",
       "      <td>0</td>\n",
       "      <td>0</td>\n",
       "      <td>0</td>\n",
       "      <td>0</td>\n",
       "      <td>1</td>\n",
       "      <td>0</td>\n",
       "    </tr>\n",
       "    <tr>\n",
       "      <th>...</th>\n",
       "      <td>...</td>\n",
       "      <td>...</td>\n",
       "      <td>...</td>\n",
       "      <td>...</td>\n",
       "      <td>...</td>\n",
       "      <td>...</td>\n",
       "      <td>...</td>\n",
       "      <td>...</td>\n",
       "      <td>...</td>\n",
       "      <td>...</td>\n",
       "      <td>...</td>\n",
       "      <td>...</td>\n",
       "      <td>...</td>\n",
       "      <td>...</td>\n",
       "      <td>...</td>\n",
       "      <td>...</td>\n",
       "      <td>...</td>\n",
       "      <td>...</td>\n",
       "      <td>...</td>\n",
       "      <td>...</td>\n",
       "      <td>...</td>\n",
       "    </tr>\n",
       "    <tr>\n",
       "      <th>298</th>\n",
       "      <td>1</td>\n",
       "      <td>0</td>\n",
       "      <td>1</td>\n",
       "      <td>0</td>\n",
       "      <td>0</td>\n",
       "      <td>0</td>\n",
       "      <td>1</td>\n",
       "      <td>0</td>\n",
       "      <td>0</td>\n",
       "      <td>1</td>\n",
       "      <td>...</td>\n",
       "      <td>0</td>\n",
       "      <td>1</td>\n",
       "      <td>0</td>\n",
       "      <td>0</td>\n",
       "      <td>0</td>\n",
       "      <td>0</td>\n",
       "      <td>0</td>\n",
       "      <td>0</td>\n",
       "      <td>0</td>\n",
       "      <td>1</td>\n",
       "    </tr>\n",
       "    <tr>\n",
       "      <th>299</th>\n",
       "      <td>0</td>\n",
       "      <td>1</td>\n",
       "      <td>0</td>\n",
       "      <td>0</td>\n",
       "      <td>0</td>\n",
       "      <td>1</td>\n",
       "      <td>1</td>\n",
       "      <td>0</td>\n",
       "      <td>0</td>\n",
       "      <td>1</td>\n",
       "      <td>...</td>\n",
       "      <td>0</td>\n",
       "      <td>1</td>\n",
       "      <td>0</td>\n",
       "      <td>0</td>\n",
       "      <td>0</td>\n",
       "      <td>0</td>\n",
       "      <td>0</td>\n",
       "      <td>0</td>\n",
       "      <td>0</td>\n",
       "      <td>1</td>\n",
       "    </tr>\n",
       "    <tr>\n",
       "      <th>300</th>\n",
       "      <td>0</td>\n",
       "      <td>1</td>\n",
       "      <td>1</td>\n",
       "      <td>0</td>\n",
       "      <td>0</td>\n",
       "      <td>0</td>\n",
       "      <td>0</td>\n",
       "      <td>1</td>\n",
       "      <td>0</td>\n",
       "      <td>1</td>\n",
       "      <td>...</td>\n",
       "      <td>0</td>\n",
       "      <td>0</td>\n",
       "      <td>0</td>\n",
       "      <td>1</td>\n",
       "      <td>0</td>\n",
       "      <td>0</td>\n",
       "      <td>0</td>\n",
       "      <td>0</td>\n",
       "      <td>0</td>\n",
       "      <td>1</td>\n",
       "    </tr>\n",
       "    <tr>\n",
       "      <th>301</th>\n",
       "      <td>0</td>\n",
       "      <td>1</td>\n",
       "      <td>1</td>\n",
       "      <td>0</td>\n",
       "      <td>0</td>\n",
       "      <td>0</td>\n",
       "      <td>1</td>\n",
       "      <td>0</td>\n",
       "      <td>0</td>\n",
       "      <td>1</td>\n",
       "      <td>...</td>\n",
       "      <td>0</td>\n",
       "      <td>0</td>\n",
       "      <td>1</td>\n",
       "      <td>0</td>\n",
       "      <td>0</td>\n",
       "      <td>0</td>\n",
       "      <td>0</td>\n",
       "      <td>0</td>\n",
       "      <td>0</td>\n",
       "      <td>1</td>\n",
       "    </tr>\n",
       "    <tr>\n",
       "      <th>302</th>\n",
       "      <td>1</td>\n",
       "      <td>0</td>\n",
       "      <td>0</td>\n",
       "      <td>1</td>\n",
       "      <td>0</td>\n",
       "      <td>0</td>\n",
       "      <td>1</td>\n",
       "      <td>0</td>\n",
       "      <td>1</td>\n",
       "      <td>0</td>\n",
       "      <td>...</td>\n",
       "      <td>0</td>\n",
       "      <td>0</td>\n",
       "      <td>1</td>\n",
       "      <td>0</td>\n",
       "      <td>0</td>\n",
       "      <td>0</td>\n",
       "      <td>0</td>\n",
       "      <td>0</td>\n",
       "      <td>1</td>\n",
       "      <td>0</td>\n",
       "    </tr>\n",
       "  </tbody>\n",
       "</table>\n",
       "<p>303 rows × 25 columns</p>\n",
       "</div>"
      ],
      "text/plain": [
       "     sex_0  sex_1  cp_0  cp_1  cp_2  cp_3  fbs_0  fbs_1  restecg_0  restecg_1  \\\n",
       "0        0      1     0     0     0     1      0      1          1          0   \n",
       "1        0      1     0     0     1     0      1      0          0          1   \n",
       "2        1      0     0     1     0     0      1      0          1          0   \n",
       "3        0      1     0     1     0     0      1      0          0          1   \n",
       "4        1      0     1     0     0     0      1      0          0          1   \n",
       "..     ...    ...   ...   ...   ...   ...    ...    ...        ...        ...   \n",
       "298      1      0     1     0     0     0      1      0          0          1   \n",
       "299      0      1     0     0     0     1      1      0          0          1   \n",
       "300      0      1     1     0     0     0      0      1          0          1   \n",
       "301      0      1     1     0     0     0      1      0          0          1   \n",
       "302      1      0     0     1     0     0      1      0          1          0   \n",
       "\n",
       "     ...  slope_2  ca_0  ca_1  ca_2  ca_3  ca_4  thal_0  thal_1  thal_2  \\\n",
       "0    ...        0     1     0     0     0     0       0       1       0   \n",
       "1    ...        0     1     0     0     0     0       0       0       1   \n",
       "2    ...        1     1     0     0     0     0       0       0       1   \n",
       "3    ...        1     1     0     0     0     0       0       0       1   \n",
       "4    ...        1     1     0     0     0     0       0       0       1   \n",
       "..   ...      ...   ...   ...   ...   ...   ...     ...     ...     ...   \n",
       "298  ...        0     1     0     0     0     0       0       0       0   \n",
       "299  ...        0     1     0     0     0     0       0       0       0   \n",
       "300  ...        0     0     0     1     0     0       0       0       0   \n",
       "301  ...        0     0     1     0     0     0       0       0       0   \n",
       "302  ...        0     0     1     0     0     0       0       0       1   \n",
       "\n",
       "     thal_3  \n",
       "0         0  \n",
       "1         0  \n",
       "2         0  \n",
       "3         0  \n",
       "4         0  \n",
       "..      ...  \n",
       "298       1  \n",
       "299       1  \n",
       "300       1  \n",
       "301       1  \n",
       "302       0  \n",
       "\n",
       "[303 rows x 25 columns]"
      ]
     },
     "execution_count": 233,
     "metadata": {},
     "output_type": "execute_result"
    }
   ],
   "source": [
    "x_data_O = data.iloc[:,6:]\n",
    "x_data_O"
   ]
  },
  {
   "cell_type": "code",
   "execution_count": 236,
   "metadata": {},
   "outputs": [
    {
     "data": {
      "text/plain": [
       "array([ 0.9521966 ,  0.76395577, -0.25633371,  0.01544279,  1.08733806,\n",
       "        0.        ,  1.        ,  0.        ,  0.        ,  0.        ,\n",
       "        1.        ,  0.        ,  1.        ,  1.        ,  0.        ,\n",
       "        0.        ,  1.        ,  0.        ,  1.        ,  0.        ,\n",
       "        0.        ,  1.        ,  0.        ,  0.        ,  0.        ,\n",
       "        0.        ,  0.        ,  1.        ,  0.        ,  0.        ])"
      ]
     },
     "execution_count": 236,
     "metadata": {},
     "output_type": "execute_result"
    }
   ],
   "source": [
    "x_data = np.concatenate((x_data_S, x_data_O), axis=1)\n",
    "x_data[0]"
   ]
  },
  {
   "cell_type": "code",
   "execution_count": 237,
   "metadata": {},
   "outputs": [],
   "source": [
    "######## your code ########\n",
    "X_train,X_test,y_train,y_test = train_test_split(x_data,y_data,test_size=0.3, random_state=33)\n",
    "######## your code ########"
   ]
  },
  {
   "cell_type": "code",
   "execution_count": 247,
   "metadata": {},
   "outputs": [
    {
     "data": {
      "text/plain": [
       "(212, 30)"
      ]
     },
     "execution_count": 247,
     "metadata": {},
     "output_type": "execute_result"
    }
   ],
   "source": [
    "X_train.shape"
   ]
  },
  {
   "cell_type": "code",
   "execution_count": 249,
   "metadata": {},
   "outputs": [
    {
     "data": {
      "text/plain": [
       "(91, 30)"
      ]
     },
     "execution_count": 249,
     "metadata": {},
     "output_type": "execute_result"
    }
   ],
   "source": [
    "X_test.shape"
   ]
  },
  {
   "cell_type": "markdown",
   "metadata": {},
   "source": [
    "### 问题5：模型定义、训练及评估（30分）\n",
    "&emsp;&emsp;请完成LogisticRegression模型的定义、训练及评估。<br>\n",
    "&emsp;&emsp;<font color=red>请定义一个LogisticRegression模型</font>"
   ]
  },
  {
   "cell_type": "code",
   "execution_count": 240,
   "metadata": {},
   "outputs": [],
   "source": [
    "######## your code ########\n",
    "# 模型定义：\n",
    "model = LogisticRegression()\n",
    "# # 模型训练：\n",
    "# clf.fit(X, y)\n",
    "# # 模型预测：\n",
    "# clf.predict(X[:2, :])\n",
    "# array([0, 0])\n",
    "# # 模型评估：\n",
    "# clf.score(X, y)\n",
    "######## your code ########"
   ]
  },
  {
   "cell_type": "markdown",
   "metadata": {},
   "source": [
    "&emsp;&emsp;<font color=red>请使用训练数据对LogisticRegression模型进行训练</font>"
   ]
  },
  {
   "cell_type": "code",
   "execution_count": 241,
   "metadata": {},
   "outputs": [
    {
     "data": {
      "text/plain": [
       "LogisticRegression(C=1.0, class_weight=None, dual=False, fit_intercept=True,\n",
       "                   intercept_scaling=1, l1_ratio=None, max_iter=100,\n",
       "                   multi_class='auto', n_jobs=None, penalty='l2',\n",
       "                   random_state=None, solver='lbfgs', tol=0.0001, verbose=0,\n",
       "                   warm_start=False)"
      ]
     },
     "execution_count": 241,
     "metadata": {},
     "output_type": "execute_result"
    }
   ],
   "source": [
    "######## your code ########\n",
    "model.fit(X_train, y_train)\n",
    "######## your code ########"
   ]
  },
  {
   "cell_type": "markdown",
   "metadata": {},
   "source": [
    "使用训练数据对模型进行评估"
   ]
  },
  {
   "cell_type": "code",
   "execution_count": 242,
   "metadata": {},
   "outputs": [
    {
     "data": {
      "text/plain": [
       "0.8867924528301887"
      ]
     },
     "execution_count": 242,
     "metadata": {},
     "output_type": "execute_result"
    }
   ],
   "source": [
    "model.score(X_train,y_train)"
   ]
  },
  {
   "cell_type": "markdown",
   "metadata": {},
   "source": [
    "&emsp;&emsp;<font color=red>请参照用训练数据评估的方式，使用测试数据对模型进行评估</font>"
   ]
  },
  {
   "cell_type": "code",
   "execution_count": 243,
   "metadata": {},
   "outputs": [
    {
     "data": {
      "text/plain": [
       "0.8351648351648352"
      ]
     },
     "execution_count": 243,
     "metadata": {},
     "output_type": "execute_result"
    }
   ],
   "source": [
    "######## your code ########\n",
    "model.score(X_test,y_test)\n",
    "######## your code ########"
   ]
  },
  {
   "cell_type": "markdown",
   "metadata": {},
   "source": [
    "### 问题6：检查主要评价指标（20分）"
   ]
  },
  {
   "cell_type": "code",
   "execution_count": 244,
   "metadata": {},
   "outputs": [],
   "source": [
    "y_predict = model.predict(X_test)"
   ]
  },
  {
   "cell_type": "markdown",
   "metadata": {},
   "source": [
    "&emsp;&emsp;<font color=red>请使用主要评价指标对模型进行评价。</font><br>"
   ]
  },
  {
   "cell_type": "code",
   "execution_count": 250,
   "metadata": {},
   "outputs": [
    {
     "name": "stdout",
     "output_type": "stream",
     "text": [
      "              precision    recall  f1-score   support\n",
      "\n",
      "     class 0       0.89      0.80      0.84        50\n",
      "     class 1       0.78      0.88      0.83        41\n",
      "\n",
      "    accuracy                           0.84        91\n",
      "   macro avg       0.84      0.84      0.83        91\n",
      "weighted avg       0.84      0.84      0.84        91\n",
      "\n"
     ]
    }
   ],
   "source": [
    "######## your code ########\n",
    "# y_true = [0, 1, 2, 2, 2]\n",
    "# y_pred = [0, 0, 2, 2, 1]\n",
    "target_names = ['class 0', 'class 1']\n",
    "# print(classification_report(y_true, y_pred, target_names=target_names))\n",
    "print(classification_report(y_test, y_predict, target_names=target_names))\n",
    "######## your code ########"
   ]
  },
  {
   "cell_type": "code",
   "execution_count": 251,
   "metadata": {},
   "outputs": [
    {
     "data": {
      "text/plain": [
       "array([[-0.01596829, -0.41498016, -0.26561038,  0.38146281, -0.45470329,\n",
       "         0.62191226, -0.62193413, -0.97961885, -0.24572286,  0.65993796,\n",
       "         0.56538188, -0.2639866 ,  0.26396473, -0.0872072 ,  0.20864598,\n",
       "        -0.12146065,  0.40410345, -0.40412532, -0.31384829, -0.2986751 ,\n",
       "         0.61250152,  1.22785629, -0.4915959 , -0.83076561,  0.04964662,\n",
       "         0.04483673, -0.36553113,  0.52010376,  0.59202932, -0.74662382]])"
      ]
     },
     "execution_count": 251,
     "metadata": {},
     "output_type": "execute_result"
    }
   ],
   "source": [
    "model.coef_"
   ]
  },
  {
   "cell_type": "code",
   "execution_count": 253,
   "metadata": {},
   "outputs": [
    {
     "data": {
      "text/plain": [
       "array([0.17796911])"
      ]
     },
     "execution_count": 253,
     "metadata": {},
     "output_type": "execute_result"
    }
   ],
   "source": [
    "model.intercept_"
   ]
  },
  {
   "cell_type": "code",
   "execution_count": null,
   "metadata": {},
   "outputs": [],
   "source": []
  }
 ],
 "metadata": {
  "kernelspec": {
   "display_name": "Python 3",
   "language": "python",
   "name": "python3"
  },
  "language_info": {
   "codemirror_mode": {
    "name": "ipython",
    "version": 3
   },
   "file_extension": ".py",
   "mimetype": "text/x-python",
   "name": "python",
   "nbconvert_exporter": "python",
   "pygments_lexer": "ipython3",
   "version": "3.7.6"
  }
 },
 "nbformat": 4,
 "nbformat_minor": 4
}
